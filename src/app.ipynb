{
 "cells": [
  {
   "cell_type": "markdown",
   "source": [
    "Setup"
   ],
   "metadata": {
    "collapsed": false
   }
  },
  {
   "cell_type": "code",
   "execution_count": null,
   "outputs": [],
   "source": [
    "from src.utils import load_and_filter_csv\n",
    "\n",
    "datadir = '../data/'\n",
    "sdis91_filepath = datadir + 'interventions-hebdo-2010-2017.csv'\n",
    "gripe_filepath = datadir + 'incidence-RDD-3-syndromes-grippaux.csv'\n",
    "diarrhee_filepath = datadir + 'incidence-RDD-6-syndrome-diarrhee-aigue.csv'\n",
    "varicelle_filepath = datadir + 'incidence-RDD-7-varicelle.csv'\n",
    "days_off_filepath = datadir + 'hollidays_and_days_off.csv'\n",
    "wwo_filepath = datadir + 'wwo_hist.csv'\n",
    "\n",
    "print('Import SDIS data')\n",
    "sdis91_data = load_and_filter_csv(sdis91_filepath, None, separator=';')\n",
    "\n",
    "filter_rdd_files = lambda row: row[1]['geo_name'] == 'ILE-DE-FRANCE' and\\\n",
    "                               201001 <= row[1]['week'] <= 201752\n",
    "print('Import flu data')\n",
    "gripe_data = load_and_filter_csv(gripe_filepath, filter_rdd_files)\n",
    "print('Import diarrhoea data')\n",
    "diarrhee_data = load_and_filter_csv(diarrhee_filepath, filter_rdd_files)\n",
    "print('Import chickenpox data')\n",
    "varicelle_data = load_and_filter_csv(varicelle_filepath, filter_rdd_files)\n",
    "\n",
    "print('Import days_off data')\n",
    "days_off_data = load_and_filter_csv(days_off_filepath,\n",
    "                                    lambda row:'2010-01-01' <= row[1]['date'] <= '2017-12-12')\n",
    "\n",
    "print('Import weather data')\n",
    "wwo_data = load_and_filter_csv(wwo_filepath, None)\n",
    "\n",
    "print('Setup complete')"
   ],
   "metadata": {
    "collapsed": false,
    "pycharm": {
     "name": "#%%\n"
    }
   }
  }
 ],
 "metadata": {
  "kernelspec": {
   "display_name": "Python 3",
   "language": "python",
   "name": "python3"
  },
  "language_info": {
   "codemirror_mode": {
    "name": "ipython",
    "version": 2
   },
   "file_extension": ".py",
   "mimetype": "text/x-python",
   "name": "python",
   "nbconvert_exporter": "python",
   "pygments_lexer": "ipython2",
   "version": "2.7.6"
  }
 },
 "nbformat": 4,
 "nbformat_minor": 0
}