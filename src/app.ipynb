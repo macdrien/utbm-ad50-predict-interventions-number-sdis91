{
 "cells": [
  {
   "cell_type": "markdown",
   "source": [
    "Setup"
   ],
   "metadata": {
    "collapsed": false
   }
  },
  {
   "cell_type": "code",
   "execution_count": 1092,
   "outputs": [
    {
     "output_type": "stream",
     "name": "stdout",
     "text": [
      "Import SDIS data\n",
      "Import flu data\n",
      "Import diarrhoea data\n",
      "Import chickenpox data\n",
      "Import days_off data\n",
      "Import weather data\n",
      "Setup complete\n"
     ]
    }
   ],
   "source": [
    "# from src.utils import load_and_filter_csv\n",
    "from utils import load_and_filter_csv\n",
    "import pandas as pd\n",
    "\n",
    "\n",
    "\n",
    "datadir = '../data/'\n",
    "sdis91_filepath = datadir + 'interventions-hebdo-2010-2017.csv'\n",
    "grippe_filepath = datadir + 'incidence-RDD-3-syndromes-grippaux.csv'\n",
    "diarrhee_filepath = datadir + 'incidence-RDD-6-syndrome-diarrhee-aigue.csv'\n",
    "varicelle_filepath = datadir + 'incidence-RDD-7-varicelle.csv'\n",
    "days_off_filepath = datadir + 'hollidays_and_days_off.csv'\n",
    "wwo_filepath = datadir + 'wwo_hist.csv'\n",
    "\n",
    "filter_rdd_files = lambda row: row[1]['geo_name'] == 'ILE-DE-FRANCE' and\\\n",
    "                               201001 <= row[1]['week'] <= 201752\n",
    "\n",
    "print('Import SDIS data')\n",
    "sdis91_data = load_and_filter_csv(sdis91_filepath, None, separator=';')\n",
    "\n",
    "print('Import flu data')\n",
    "grippe_data = load_and_filter_csv(grippe_filepath, filter_rdd_files)\n",
    "\n",
    "print('Import diarrhoea data')\n",
    "diarrhee_data = load_and_filter_csv(diarrhee_filepath, filter_rdd_files)\n",
    "\n",
    "print('Import chickenpox data')\n",
    "varicelle_data = load_and_filter_csv(varicelle_filepath, filter_rdd_files)\n",
    "\n",
    "rdd_datasets = {\n",
    "    \"grippe\": grippe_data,\n",
    "    \"diarrhee\": diarrhee_data,\n",
    "    \"varicelle\": varicelle_data\n",
    "}\n",
    "\n",
    "print('Import days_off data')\n",
    "days_off_data = load_and_filter_csv(days_off_filepath,\n",
    "                                    lambda row:'2010-01-01' <= row[1]['date'] <= '2017-12-12')\n",
    "\n",
    "print('Import weather data')\n",
    "wwo_data = load_and_filter_csv(wwo_filepath, None)\n",
    "\n",
    "print('Setup complete')"
   ],
   "metadata": {
    "collapsed": false,
    "pycharm": {
     "name": "#%%\n"
    }
   }
  },
  {
   "cell_type": "code",
   "execution_count": 1093,
   "metadata": {},
   "outputs": [
    {
     "output_type": "display_data",
     "data": {
      "text/plain": "   ope_code_insee  nb_ope  ope_annee  ope_semaine ope_categorie  \\\n0         91001.0     0.0     2010.0          1.0          INCN   \n1         91016.0     0.0     2010.0          1.0          INCN   \n2         91017.0     0.0     2010.0          1.0          INCN   \n3         91021.0     0.0     2010.0          1.0          INCN   \n4         91022.0     0.0     2010.0          1.0          INCN   \n\n   ope_code_postal       ope_nom_commune  \n0          91150.0  ABBEVILLE LA RIVIERE  \n1          91670.0            ANGERVILLE  \n2          91470.0         ANGERVILLIERS  \n3          91290.0               ARPAJON  \n4          91690.0            ARRANCOURT  ",
      "text/html": "<div>\n<style scoped>\n    .dataframe tbody tr th:only-of-type {\n        vertical-align: middle;\n    }\n\n    .dataframe tbody tr th {\n        vertical-align: top;\n    }\n\n    .dataframe thead th {\n        text-align: right;\n    }\n</style>\n<table border=\"1\" class=\"dataframe\">\n  <thead>\n    <tr style=\"text-align: right;\">\n      <th></th>\n      <th>ope_code_insee</th>\n      <th>nb_ope</th>\n      <th>ope_annee</th>\n      <th>ope_semaine</th>\n      <th>ope_categorie</th>\n      <th>ope_code_postal</th>\n      <th>ope_nom_commune</th>\n    </tr>\n  </thead>\n  <tbody>\n    <tr>\n      <th>0</th>\n      <td>91001.0</td>\n      <td>0.0</td>\n      <td>2010.0</td>\n      <td>1.0</td>\n      <td>INCN</td>\n      <td>91150.0</td>\n      <td>ABBEVILLE LA RIVIERE</td>\n    </tr>\n    <tr>\n      <th>1</th>\n      <td>91016.0</td>\n      <td>0.0</td>\n      <td>2010.0</td>\n      <td>1.0</td>\n      <td>INCN</td>\n      <td>91670.0</td>\n      <td>ANGERVILLE</td>\n    </tr>\n    <tr>\n      <th>2</th>\n      <td>91017.0</td>\n      <td>0.0</td>\n      <td>2010.0</td>\n      <td>1.0</td>\n      <td>INCN</td>\n      <td>91470.0</td>\n      <td>ANGERVILLIERS</td>\n    </tr>\n    <tr>\n      <th>3</th>\n      <td>91021.0</td>\n      <td>0.0</td>\n      <td>2010.0</td>\n      <td>1.0</td>\n      <td>INCN</td>\n      <td>91290.0</td>\n      <td>ARPAJON</td>\n    </tr>\n    <tr>\n      <th>4</th>\n      <td>91022.0</td>\n      <td>0.0</td>\n      <td>2010.0</td>\n      <td>1.0</td>\n      <td>INCN</td>\n      <td>91690.0</td>\n      <td>ARRANCOURT</td>\n    </tr>\n  </tbody>\n</table>\n</div>"
     },
     "metadata": {}
    },
    {
     "output_type": "display_data",
     "data": {
      "text/plain": "        ope_code_insee  nb_ope  ope_annee  ope_semaine ope_categorie  \\\n405036         91286.0    59.0     2017.0         52.0          SUAP   \n405037         91549.0    64.0     2017.0         52.0          SUAP   \n405038         91174.0    77.0     2017.0         52.0          SUAP   \n405039         91377.0    84.0     2017.0         52.0          SUAP   \n405040         91228.0   103.0     2017.0         52.0          SUAP   \n\n        ope_code_postal         ope_nom_commune  \n405036          91350.0                  GRIGNY  \n405037          91700.0  STE GENEVIEVE DES BOIS  \n405038          91100.0        CORBEIL ESSONNES  \n405039          91300.0                   MASSY  \n405040          91000.0                    EVRY  ",
      "text/html": "<div>\n<style scoped>\n    .dataframe tbody tr th:only-of-type {\n        vertical-align: middle;\n    }\n\n    .dataframe tbody tr th {\n        vertical-align: top;\n    }\n\n    .dataframe thead th {\n        text-align: right;\n    }\n</style>\n<table border=\"1\" class=\"dataframe\">\n  <thead>\n    <tr style=\"text-align: right;\">\n      <th></th>\n      <th>ope_code_insee</th>\n      <th>nb_ope</th>\n      <th>ope_annee</th>\n      <th>ope_semaine</th>\n      <th>ope_categorie</th>\n      <th>ope_code_postal</th>\n      <th>ope_nom_commune</th>\n    </tr>\n  </thead>\n  <tbody>\n    <tr>\n      <th>405036</th>\n      <td>91286.0</td>\n      <td>59.0</td>\n      <td>2017.0</td>\n      <td>52.0</td>\n      <td>SUAP</td>\n      <td>91350.0</td>\n      <td>GRIGNY</td>\n    </tr>\n    <tr>\n      <th>405037</th>\n      <td>91549.0</td>\n      <td>64.0</td>\n      <td>2017.0</td>\n      <td>52.0</td>\n      <td>SUAP</td>\n      <td>91700.0</td>\n      <td>STE GENEVIEVE DES BOIS</td>\n    </tr>\n    <tr>\n      <th>405038</th>\n      <td>91174.0</td>\n      <td>77.0</td>\n      <td>2017.0</td>\n      <td>52.0</td>\n      <td>SUAP</td>\n      <td>91100.0</td>\n      <td>CORBEIL ESSONNES</td>\n    </tr>\n    <tr>\n      <th>405039</th>\n      <td>91377.0</td>\n      <td>84.0</td>\n      <td>2017.0</td>\n      <td>52.0</td>\n      <td>SUAP</td>\n      <td>91300.0</td>\n      <td>MASSY</td>\n    </tr>\n    <tr>\n      <th>405040</th>\n      <td>91228.0</td>\n      <td>103.0</td>\n      <td>2017.0</td>\n      <td>52.0</td>\n      <td>SUAP</td>\n      <td>91000.0</td>\n      <td>EVRY</td>\n    </tr>\n  </tbody>\n</table>\n</div>"
     },
     "metadata": {}
    }
   ],
   "source": [
    "display(\n",
    "    sdis91_data.head(),\n",
    "    sdis91_data.tail(),\n",
    ")"
   ]
  },
  {
   "cell_type": "code",
   "execution_count": 1094,
   "metadata": {},
   "outputs": [
    {
     "output_type": "display_data",
     "data": {
      "text/plain": "   nb_ope ope_categorie yearweek\n0       0          INCN   201001\n1       0          INCN   201001\n2       0          INCN   201001\n3       0          INCN   201001\n4       0          INCN   201001",
      "text/html": "<div>\n<style scoped>\n    .dataframe tbody tr th:only-of-type {\n        vertical-align: middle;\n    }\n\n    .dataframe tbody tr th {\n        vertical-align: top;\n    }\n\n    .dataframe thead th {\n        text-align: right;\n    }\n</style>\n<table border=\"1\" class=\"dataframe\">\n  <thead>\n    <tr style=\"text-align: right;\">\n      <th></th>\n      <th>nb_ope</th>\n      <th>ope_categorie</th>\n      <th>yearweek</th>\n    </tr>\n  </thead>\n  <tbody>\n    <tr>\n      <th>0</th>\n      <td>0</td>\n      <td>INCN</td>\n      <td>201001</td>\n    </tr>\n    <tr>\n      <th>1</th>\n      <td>0</td>\n      <td>INCN</td>\n      <td>201001</td>\n    </tr>\n    <tr>\n      <th>2</th>\n      <td>0</td>\n      <td>INCN</td>\n      <td>201001</td>\n    </tr>\n    <tr>\n      <th>3</th>\n      <td>0</td>\n      <td>INCN</td>\n      <td>201001</td>\n    </tr>\n    <tr>\n      <th>4</th>\n      <td>0</td>\n      <td>INCN</td>\n      <td>201001</td>\n    </tr>\n  </tbody>\n</table>\n</div>"
     },
     "metadata": {}
    },
    {
     "output_type": "display_data",
     "data": {
      "text/plain": "        nb_ope ope_categorie yearweek\n405036      59          SUAP   201752\n405037      64          SUAP   201752\n405038      77          SUAP   201752\n405039      84          SUAP   201752\n405040     103          SUAP   201752",
      "text/html": "<div>\n<style scoped>\n    .dataframe tbody tr th:only-of-type {\n        vertical-align: middle;\n    }\n\n    .dataframe tbody tr th {\n        vertical-align: top;\n    }\n\n    .dataframe thead th {\n        text-align: right;\n    }\n</style>\n<table border=\"1\" class=\"dataframe\">\n  <thead>\n    <tr style=\"text-align: right;\">\n      <th></th>\n      <th>nb_ope</th>\n      <th>ope_categorie</th>\n      <th>yearweek</th>\n    </tr>\n  </thead>\n  <tbody>\n    <tr>\n      <th>405036</th>\n      <td>59</td>\n      <td>SUAP</td>\n      <td>201752</td>\n    </tr>\n    <tr>\n      <th>405037</th>\n      <td>64</td>\n      <td>SUAP</td>\n      <td>201752</td>\n    </tr>\n    <tr>\n      <th>405038</th>\n      <td>77</td>\n      <td>SUAP</td>\n      <td>201752</td>\n    </tr>\n    <tr>\n      <th>405039</th>\n      <td>84</td>\n      <td>SUAP</td>\n      <td>201752</td>\n    </tr>\n    <tr>\n      <th>405040</th>\n      <td>103</td>\n      <td>SUAP</td>\n      <td>201752</td>\n    </tr>\n  </tbody>\n</table>\n</div>"
     },
     "metadata": {}
    }
   ],
   "source": [
    "# sdis91_data cleanup\n",
    "\n",
    "# sdis91_data['yearweek'] = sdis91_data.ope_annee.astype(int).astype(str) + sdis91_data.ope_semaine.apply('{:0>2}'.format)\n",
    "sdis91_data['yearweek'] = sdis91_data.ope_annee.astype(int).astype(str) + sdis91_data.ope_semaine.astype(int).map(\"{:02}\".format)\n",
    "\n",
    "# explanation :\n",
    "# ope_annee.astype(int)\n",
    "# we get rid of the .0 after the year then convert to string\n",
    "\n",
    "# ope_semaine.apply('{:0>2}'.format)\n",
    "# '1' -> '01' (explicitly converting to string)\n",
    "\n",
    "# we convert both left and right operands to strings or\n",
    "# else they are summed instead of concatenated\n",
    "\n",
    "# sdis91_data['yearweek'] = sdis91_data['yearweek'].astype(float).astype(int) ##########\n",
    "# when astype(int) is used directly, it causes the following error:\n",
    "# invalid literal for int() with base 10 (...)\n",
    "\n",
    "sdis91_data.drop('ope_nom_commune', axis=1, inplace=True)\n",
    "sdis91_data.drop('ope_code_postal', axis=1, inplace=True)\n",
    "sdis91_data.drop('ope_code_insee', axis=1, inplace=True)\n",
    "\n",
    "\n",
    "# drop annee and semaine because we now have yearweek (ISO8601 Yearweek)\n",
    "sdis91_data.drop('ope_annee', axis=1, inplace=True)\n",
    "sdis91_data.drop('ope_semaine', axis=1, inplace=True)\n",
    "\n",
    "# sdis91_data.rename(\n",
    "#     columns={'ope_code_insee': 'insee_commune'},\n",
    "#     inplace=True,\n",
    "# )\n",
    "\n",
    "# sdis91_data['insee_commune'] = sdis91_data['insee_commune'].astype(int)\n",
    "sdis91_data['nb_ope'] = sdis91_data['nb_ope'].astype(int)\n",
    "\n",
    "\n",
    "display(\n",
    "    sdis91_data.head(),\n",
    "    sdis91_data.tail(),\n",
    ")\n",
    "\n",
    "\n"
   ]
  },
  {
   "cell_type": "code",
   "execution_count": 1095,
   "metadata": {},
   "outputs": [
    {
     "output_type": "display_data",
     "data": {
      "text/plain": "  yearweek  ACCI  AUTR  INCN  INCU  SUAP  ope_total\n0   201001    81   232     0   129  1397       1839\n1   201002    84   163     1   144  1383       1775\n2   201003    74   107     0   123  1192       1496\n3   201004    78   105     0   130  1316       1629\n4   201005    84   111     0   117  1341       1653\n5   201006   103   129     1   120  1350       1703\n6   201007    84   106     0   145  1307       1642\n7   201008    72  1086     0   133  1197       2488\n8   201009    74   161     5   156  1095       1491\n9   201010    58   124    11   152  1238       1583",
      "text/html": "<div>\n<style scoped>\n    .dataframe tbody tr th:only-of-type {\n        vertical-align: middle;\n    }\n\n    .dataframe tbody tr th {\n        vertical-align: top;\n    }\n\n    .dataframe thead th {\n        text-align: right;\n    }\n</style>\n<table border=\"1\" class=\"dataframe\">\n  <thead>\n    <tr style=\"text-align: right;\">\n      <th></th>\n      <th>yearweek</th>\n      <th>ACCI</th>\n      <th>AUTR</th>\n      <th>INCN</th>\n      <th>INCU</th>\n      <th>SUAP</th>\n      <th>ope_total</th>\n    </tr>\n  </thead>\n  <tbody>\n    <tr>\n      <th>0</th>\n      <td>201001</td>\n      <td>81</td>\n      <td>232</td>\n      <td>0</td>\n      <td>129</td>\n      <td>1397</td>\n      <td>1839</td>\n    </tr>\n    <tr>\n      <th>1</th>\n      <td>201002</td>\n      <td>84</td>\n      <td>163</td>\n      <td>1</td>\n      <td>144</td>\n      <td>1383</td>\n      <td>1775</td>\n    </tr>\n    <tr>\n      <th>2</th>\n      <td>201003</td>\n      <td>74</td>\n      <td>107</td>\n      <td>0</td>\n      <td>123</td>\n      <td>1192</td>\n      <td>1496</td>\n    </tr>\n    <tr>\n      <th>3</th>\n      <td>201004</td>\n      <td>78</td>\n      <td>105</td>\n      <td>0</td>\n      <td>130</td>\n      <td>1316</td>\n      <td>1629</td>\n    </tr>\n    <tr>\n      <th>4</th>\n      <td>201005</td>\n      <td>84</td>\n      <td>111</td>\n      <td>0</td>\n      <td>117</td>\n      <td>1341</td>\n      <td>1653</td>\n    </tr>\n    <tr>\n      <th>5</th>\n      <td>201006</td>\n      <td>103</td>\n      <td>129</td>\n      <td>1</td>\n      <td>120</td>\n      <td>1350</td>\n      <td>1703</td>\n    </tr>\n    <tr>\n      <th>6</th>\n      <td>201007</td>\n      <td>84</td>\n      <td>106</td>\n      <td>0</td>\n      <td>145</td>\n      <td>1307</td>\n      <td>1642</td>\n    </tr>\n    <tr>\n      <th>7</th>\n      <td>201008</td>\n      <td>72</td>\n      <td>1086</td>\n      <td>0</td>\n      <td>133</td>\n      <td>1197</td>\n      <td>2488</td>\n    </tr>\n    <tr>\n      <th>8</th>\n      <td>201009</td>\n      <td>74</td>\n      <td>161</td>\n      <td>5</td>\n      <td>156</td>\n      <td>1095</td>\n      <td>1491</td>\n    </tr>\n    <tr>\n      <th>9</th>\n      <td>201010</td>\n      <td>58</td>\n      <td>124</td>\n      <td>11</td>\n      <td>152</td>\n      <td>1238</td>\n      <td>1583</td>\n    </tr>\n  </tbody>\n</table>\n</div>"
     },
     "metadata": {}
    },
    {
     "output_type": "display_data",
     "data": {
      "text/plain": "    yearweek  ACCI  AUTR  INCN  INCU  SUAP  ope_total\n406   201743    92    79     1    88  1411       1671\n407   201744    84    58     2   148  1313       1605\n408   201745   107    72     2   107  1500       1788\n409   201746    96    73     1   104  1540       1814\n410   201747   120    50     2   106  1622       1900\n411   201748   139    48     3    88  1502       1780\n412   201749   110    59     2    92  1645       1908\n413   201750   145   195     0    75  1737       2152\n414   201751   129    56     1    93  1632       1911\n415   201752   118    98     1   140  1972       2329",
      "text/html": "<div>\n<style scoped>\n    .dataframe tbody tr th:only-of-type {\n        vertical-align: middle;\n    }\n\n    .dataframe tbody tr th {\n        vertical-align: top;\n    }\n\n    .dataframe thead th {\n        text-align: right;\n    }\n</style>\n<table border=\"1\" class=\"dataframe\">\n  <thead>\n    <tr style=\"text-align: right;\">\n      <th></th>\n      <th>yearweek</th>\n      <th>ACCI</th>\n      <th>AUTR</th>\n      <th>INCN</th>\n      <th>INCU</th>\n      <th>SUAP</th>\n      <th>ope_total</th>\n    </tr>\n  </thead>\n  <tbody>\n    <tr>\n      <th>406</th>\n      <td>201743</td>\n      <td>92</td>\n      <td>79</td>\n      <td>1</td>\n      <td>88</td>\n      <td>1411</td>\n      <td>1671</td>\n    </tr>\n    <tr>\n      <th>407</th>\n      <td>201744</td>\n      <td>84</td>\n      <td>58</td>\n      <td>2</td>\n      <td>148</td>\n      <td>1313</td>\n      <td>1605</td>\n    </tr>\n    <tr>\n      <th>408</th>\n      <td>201745</td>\n      <td>107</td>\n      <td>72</td>\n      <td>2</td>\n      <td>107</td>\n      <td>1500</td>\n      <td>1788</td>\n    </tr>\n    <tr>\n      <th>409</th>\n      <td>201746</td>\n      <td>96</td>\n      <td>73</td>\n      <td>1</td>\n      <td>104</td>\n      <td>1540</td>\n      <td>1814</td>\n    </tr>\n    <tr>\n      <th>410</th>\n      <td>201747</td>\n      <td>120</td>\n      <td>50</td>\n      <td>2</td>\n      <td>106</td>\n      <td>1622</td>\n      <td>1900</td>\n    </tr>\n    <tr>\n      <th>411</th>\n      <td>201748</td>\n      <td>139</td>\n      <td>48</td>\n      <td>3</td>\n      <td>88</td>\n      <td>1502</td>\n      <td>1780</td>\n    </tr>\n    <tr>\n      <th>412</th>\n      <td>201749</td>\n      <td>110</td>\n      <td>59</td>\n      <td>2</td>\n      <td>92</td>\n      <td>1645</td>\n      <td>1908</td>\n    </tr>\n    <tr>\n      <th>413</th>\n      <td>201750</td>\n      <td>145</td>\n      <td>195</td>\n      <td>0</td>\n      <td>75</td>\n      <td>1737</td>\n      <td>2152</td>\n    </tr>\n    <tr>\n      <th>414</th>\n      <td>201751</td>\n      <td>129</td>\n      <td>56</td>\n      <td>1</td>\n      <td>93</td>\n      <td>1632</td>\n      <td>1911</td>\n    </tr>\n    <tr>\n      <th>415</th>\n      <td>201752</td>\n      <td>118</td>\n      <td>98</td>\n      <td>1</td>\n      <td>140</td>\n      <td>1972</td>\n      <td>2329</td>\n    </tr>\n  </tbody>\n</table>\n</div>"
     },
     "metadata": {}
    }
   ],
   "source": [
    "# group by on sdis91 dataset\n",
    "\n",
    "sdis91_data = sdis91_data.groupby(['yearweek', 'ope_categorie']).nb_ope.sum().unstack().reset_index()\n",
    "\n",
    "# get rid of index name, as it is by default \"ope_categorie\"\n",
    "sdis91_data.columns.name = None\n",
    "\n",
    "# add total_ope column\n",
    "sdis91_data['ope_total'] = sdis91_data['ACCI'] + sdis91_data['AUTR'] + sdis91_data['INCN'] + sdis91_data['INCU'] + sdis91_data['SUAP']\n",
    "\n",
    "# rename operation categories columns\n",
    "# sdis91_data.rename(\n",
    "#     columns={\n",
    "#         'ACCI': 'ope_ACCI',\n",
    "#         'AUTR': 'ope_AUTR',\n",
    "#         'INCN': 'ope_INCN',\n",
    "#         'INCU': 'ope_INCU',\n",
    "#         'SUAP': 'ope_SUAP',\n",
    "#     },\n",
    "#     inplace=True,\n",
    "# )\n",
    "\n",
    "display(\n",
    "    sdis91_data.head(10),\n",
    "    sdis91_data.tail(10),\n",
    ")"
   ]
  },
  {
   "cell_type": "code",
   "execution_count": 1096,
   "metadata": {},
   "outputs": [
    {
     "output_type": "display_data",
     "data": {
      "text/plain": "'grippe'"
     },
     "metadata": {}
    },
    {
     "output_type": "display_data",
     "data": {
      "text/plain": "     week indicator    inc inc_low inc_up inc100 inc100_low inc100_up  \\\n0  201752         3  48723   38697  58749    402        319       485   \n1  201751         3  49403   40654  58152    408        336       480   \n2  201750         3  39953   32596  47310    330        269       391   \n\n  geo_insee       geo_name  \n0        11  ILE-DE-FRANCE  \n1        11  ILE-DE-FRANCE  \n2        11  ILE-DE-FRANCE  ",
      "text/html": "<div>\n<style scoped>\n    .dataframe tbody tr th:only-of-type {\n        vertical-align: middle;\n    }\n\n    .dataframe tbody tr th {\n        vertical-align: top;\n    }\n\n    .dataframe thead th {\n        text-align: right;\n    }\n</style>\n<table border=\"1\" class=\"dataframe\">\n  <thead>\n    <tr style=\"text-align: right;\">\n      <th></th>\n      <th>week</th>\n      <th>indicator</th>\n      <th>inc</th>\n      <th>inc_low</th>\n      <th>inc_up</th>\n      <th>inc100</th>\n      <th>inc100_low</th>\n      <th>inc100_up</th>\n      <th>geo_insee</th>\n      <th>geo_name</th>\n    </tr>\n  </thead>\n  <tbody>\n    <tr>\n      <th>0</th>\n      <td>201752</td>\n      <td>3</td>\n      <td>48723</td>\n      <td>38697</td>\n      <td>58749</td>\n      <td>402</td>\n      <td>319</td>\n      <td>485</td>\n      <td>11</td>\n      <td>ILE-DE-FRANCE</td>\n    </tr>\n    <tr>\n      <th>1</th>\n      <td>201751</td>\n      <td>3</td>\n      <td>49403</td>\n      <td>40654</td>\n      <td>58152</td>\n      <td>408</td>\n      <td>336</td>\n      <td>480</td>\n      <td>11</td>\n      <td>ILE-DE-FRANCE</td>\n    </tr>\n    <tr>\n      <th>2</th>\n      <td>201750</td>\n      <td>3</td>\n      <td>39953</td>\n      <td>32596</td>\n      <td>47310</td>\n      <td>330</td>\n      <td>269</td>\n      <td>391</td>\n      <td>11</td>\n      <td>ILE-DE-FRANCE</td>\n    </tr>\n  </tbody>\n</table>\n</div>"
     },
     "metadata": {}
    },
    {
     "output_type": "display_data",
     "data": {
      "text/plain": "       week indicator    inc inc_low inc_up inc100 inc100_low inc100_up  \\\n414  201003         3   4816    1817   7815     41         15        67   \n415  201002         3   9134    4877  13391     78         42       114   \n416  201001         3  10207    5847  14567     87         50       124   \n\n    geo_insee       geo_name  \n414        11  ILE-DE-FRANCE  \n415        11  ILE-DE-FRANCE  \n416        11  ILE-DE-FRANCE  ",
      "text/html": "<div>\n<style scoped>\n    .dataframe tbody tr th:only-of-type {\n        vertical-align: middle;\n    }\n\n    .dataframe tbody tr th {\n        vertical-align: top;\n    }\n\n    .dataframe thead th {\n        text-align: right;\n    }\n</style>\n<table border=\"1\" class=\"dataframe\">\n  <thead>\n    <tr style=\"text-align: right;\">\n      <th></th>\n      <th>week</th>\n      <th>indicator</th>\n      <th>inc</th>\n      <th>inc_low</th>\n      <th>inc_up</th>\n      <th>inc100</th>\n      <th>inc100_low</th>\n      <th>inc100_up</th>\n      <th>geo_insee</th>\n      <th>geo_name</th>\n    </tr>\n  </thead>\n  <tbody>\n    <tr>\n      <th>414</th>\n      <td>201003</td>\n      <td>3</td>\n      <td>4816</td>\n      <td>1817</td>\n      <td>7815</td>\n      <td>41</td>\n      <td>15</td>\n      <td>67</td>\n      <td>11</td>\n      <td>ILE-DE-FRANCE</td>\n    </tr>\n    <tr>\n      <th>415</th>\n      <td>201002</td>\n      <td>3</td>\n      <td>9134</td>\n      <td>4877</td>\n      <td>13391</td>\n      <td>78</td>\n      <td>42</td>\n      <td>114</td>\n      <td>11</td>\n      <td>ILE-DE-FRANCE</td>\n    </tr>\n    <tr>\n      <th>416</th>\n      <td>201001</td>\n      <td>3</td>\n      <td>10207</td>\n      <td>5847</td>\n      <td>14567</td>\n      <td>87</td>\n      <td>50</td>\n      <td>124</td>\n      <td>11</td>\n      <td>ILE-DE-FRANCE</td>\n    </tr>\n  </tbody>\n</table>\n</div>"
     },
     "metadata": {}
    },
    {
     "output_type": "display_data",
     "data": {
      "text/plain": "'diarrhee'"
     },
     "metadata": {}
    },
    {
     "output_type": "display_data",
     "data": {
      "text/plain": "     week indicator    inc inc_low inc_up inc100 inc100_low inc100_up  \\\n0  201752         6  14938    9638  20238    123         79       167   \n1  201751         6  16218   11040  21396    134         91       177   \n2  201750         6  20995   15775  26215    173        130       216   \n\n  geo_insee       geo_name  \n0        11  ILE-DE-FRANCE  \n1        11  ILE-DE-FRANCE  \n2        11  ILE-DE-FRANCE  ",
      "text/html": "<div>\n<style scoped>\n    .dataframe tbody tr th:only-of-type {\n        vertical-align: middle;\n    }\n\n    .dataframe tbody tr th {\n        vertical-align: top;\n    }\n\n    .dataframe thead th {\n        text-align: right;\n    }\n</style>\n<table border=\"1\" class=\"dataframe\">\n  <thead>\n    <tr style=\"text-align: right;\">\n      <th></th>\n      <th>week</th>\n      <th>indicator</th>\n      <th>inc</th>\n      <th>inc_low</th>\n      <th>inc_up</th>\n      <th>inc100</th>\n      <th>inc100_low</th>\n      <th>inc100_up</th>\n      <th>geo_insee</th>\n      <th>geo_name</th>\n    </tr>\n  </thead>\n  <tbody>\n    <tr>\n      <th>0</th>\n      <td>201752</td>\n      <td>6</td>\n      <td>14938</td>\n      <td>9638</td>\n      <td>20238</td>\n      <td>123</td>\n      <td>79</td>\n      <td>167</td>\n      <td>11</td>\n      <td>ILE-DE-FRANCE</td>\n    </tr>\n    <tr>\n      <th>1</th>\n      <td>201751</td>\n      <td>6</td>\n      <td>16218</td>\n      <td>11040</td>\n      <td>21396</td>\n      <td>134</td>\n      <td>91</td>\n      <td>177</td>\n      <td>11</td>\n      <td>ILE-DE-FRANCE</td>\n    </tr>\n    <tr>\n      <th>2</th>\n      <td>201750</td>\n      <td>6</td>\n      <td>20995</td>\n      <td>15775</td>\n      <td>26215</td>\n      <td>173</td>\n      <td>130</td>\n      <td>216</td>\n      <td>11</td>\n      <td>ILE-DE-FRANCE</td>\n    </tr>\n  </tbody>\n</table>\n</div>"
     },
     "metadata": {}
    },
    {
     "output_type": "display_data",
     "data": {
      "text/plain": "       week indicator    inc inc_low inc_up inc100 inc100_low inc100_up  \\\n414  201003         6  60448   49467  71429    518        424       612   \n415  201002         6  61576   48316  74836    527        413       641   \n416  201001         6  42889   33449  52329    367        286       448   \n\n    geo_insee       geo_name  \n414        11  ILE-DE-FRANCE  \n415        11  ILE-DE-FRANCE  \n416        11  ILE-DE-FRANCE  ",
      "text/html": "<div>\n<style scoped>\n    .dataframe tbody tr th:only-of-type {\n        vertical-align: middle;\n    }\n\n    .dataframe tbody tr th {\n        vertical-align: top;\n    }\n\n    .dataframe thead th {\n        text-align: right;\n    }\n</style>\n<table border=\"1\" class=\"dataframe\">\n  <thead>\n    <tr style=\"text-align: right;\">\n      <th></th>\n      <th>week</th>\n      <th>indicator</th>\n      <th>inc</th>\n      <th>inc_low</th>\n      <th>inc_up</th>\n      <th>inc100</th>\n      <th>inc100_low</th>\n      <th>inc100_up</th>\n      <th>geo_insee</th>\n      <th>geo_name</th>\n    </tr>\n  </thead>\n  <tbody>\n    <tr>\n      <th>414</th>\n      <td>201003</td>\n      <td>6</td>\n      <td>60448</td>\n      <td>49467</td>\n      <td>71429</td>\n      <td>518</td>\n      <td>424</td>\n      <td>612</td>\n      <td>11</td>\n      <td>ILE-DE-FRANCE</td>\n    </tr>\n    <tr>\n      <th>415</th>\n      <td>201002</td>\n      <td>6</td>\n      <td>61576</td>\n      <td>48316</td>\n      <td>74836</td>\n      <td>527</td>\n      <td>413</td>\n      <td>641</td>\n      <td>11</td>\n      <td>ILE-DE-FRANCE</td>\n    </tr>\n    <tr>\n      <th>416</th>\n      <td>201001</td>\n      <td>6</td>\n      <td>42889</td>\n      <td>33449</td>\n      <td>52329</td>\n      <td>367</td>\n      <td>286</td>\n      <td>448</td>\n      <td>11</td>\n      <td>ILE-DE-FRANCE</td>\n    </tr>\n  </tbody>\n</table>\n</div>"
     },
     "metadata": {}
    },
    {
     "output_type": "display_data",
     "data": {
      "text/plain": "'varicelle'"
     },
     "metadata": {}
    },
    {
     "output_type": "display_data",
     "data": {
      "text/plain": "     week indicator   inc inc_low inc_up inc100 inc100_low inc100_up  \\\n0  201752         7   368       0    920      3          0         8   \n1  201751         7   799       0   1962      7          0        17   \n2  201750         7  2228     476   3980     18          4        32   \n\n  geo_insee       geo_name  \n0        11  ILE-DE-FRANCE  \n1        11  ILE-DE-FRANCE  \n2        11  ILE-DE-FRANCE  ",
      "text/html": "<div>\n<style scoped>\n    .dataframe tbody tr th:only-of-type {\n        vertical-align: middle;\n    }\n\n    .dataframe tbody tr th {\n        vertical-align: top;\n    }\n\n    .dataframe thead th {\n        text-align: right;\n    }\n</style>\n<table border=\"1\" class=\"dataframe\">\n  <thead>\n    <tr style=\"text-align: right;\">\n      <th></th>\n      <th>week</th>\n      <th>indicator</th>\n      <th>inc</th>\n      <th>inc_low</th>\n      <th>inc_up</th>\n      <th>inc100</th>\n      <th>inc100_low</th>\n      <th>inc100_up</th>\n      <th>geo_insee</th>\n      <th>geo_name</th>\n    </tr>\n  </thead>\n  <tbody>\n    <tr>\n      <th>0</th>\n      <td>201752</td>\n      <td>7</td>\n      <td>368</td>\n      <td>0</td>\n      <td>920</td>\n      <td>3</td>\n      <td>0</td>\n      <td>8</td>\n      <td>11</td>\n      <td>ILE-DE-FRANCE</td>\n    </tr>\n    <tr>\n      <th>1</th>\n      <td>201751</td>\n      <td>7</td>\n      <td>799</td>\n      <td>0</td>\n      <td>1962</td>\n      <td>7</td>\n      <td>0</td>\n      <td>17</td>\n      <td>11</td>\n      <td>ILE-DE-FRANCE</td>\n    </tr>\n    <tr>\n      <th>2</th>\n      <td>201750</td>\n      <td>7</td>\n      <td>2228</td>\n      <td>476</td>\n      <td>3980</td>\n      <td>18</td>\n      <td>4</td>\n      <td>32</td>\n      <td>11</td>\n      <td>ILE-DE-FRANCE</td>\n    </tr>\n  </tbody>\n</table>\n</div>"
     },
     "metadata": {}
    },
    {
     "output_type": "display_data",
     "data": {
      "text/plain": "       week indicator   inc inc_low inc_up inc100 inc100_low inc100_up  \\\n414  201003         7  1420       0   3082     12          0        26   \n415  201002         7  3120     267   5973     27          3        51   \n416  201001         7  3735     242   7228     32          2        62   \n\n    geo_insee       geo_name  \n414        11  ILE-DE-FRANCE  \n415        11  ILE-DE-FRANCE  \n416        11  ILE-DE-FRANCE  ",
      "text/html": "<div>\n<style scoped>\n    .dataframe tbody tr th:only-of-type {\n        vertical-align: middle;\n    }\n\n    .dataframe tbody tr th {\n        vertical-align: top;\n    }\n\n    .dataframe thead th {\n        text-align: right;\n    }\n</style>\n<table border=\"1\" class=\"dataframe\">\n  <thead>\n    <tr style=\"text-align: right;\">\n      <th></th>\n      <th>week</th>\n      <th>indicator</th>\n      <th>inc</th>\n      <th>inc_low</th>\n      <th>inc_up</th>\n      <th>inc100</th>\n      <th>inc100_low</th>\n      <th>inc100_up</th>\n      <th>geo_insee</th>\n      <th>geo_name</th>\n    </tr>\n  </thead>\n  <tbody>\n    <tr>\n      <th>414</th>\n      <td>201003</td>\n      <td>7</td>\n      <td>1420</td>\n      <td>0</td>\n      <td>3082</td>\n      <td>12</td>\n      <td>0</td>\n      <td>26</td>\n      <td>11</td>\n      <td>ILE-DE-FRANCE</td>\n    </tr>\n    <tr>\n      <th>415</th>\n      <td>201002</td>\n      <td>7</td>\n      <td>3120</td>\n      <td>267</td>\n      <td>5973</td>\n      <td>27</td>\n      <td>3</td>\n      <td>51</td>\n      <td>11</td>\n      <td>ILE-DE-FRANCE</td>\n    </tr>\n    <tr>\n      <th>416</th>\n      <td>201001</td>\n      <td>7</td>\n      <td>3735</td>\n      <td>242</td>\n      <td>7228</td>\n      <td>32</td>\n      <td>2</td>\n      <td>62</td>\n      <td>11</td>\n      <td>ILE-DE-FRANCE</td>\n    </tr>\n  </tbody>\n</table>\n</div>"
     },
     "metadata": {}
    }
   ],
   "source": [
    "for dataset_name, dataset in rdd_datasets.items():\n",
    "    display(\n",
    "        dataset_name,\n",
    "        dataset.head(3),\n",
    "        dataset.tail(3),\n",
    "    )"
   ]
  },
  {
   "cell_type": "code",
   "execution_count": 1097,
   "metadata": {},
   "outputs": [],
   "source": [
    "# rdd_datasets cleanup\n",
    "\n",
    "for _, rdd_dataset in rdd_datasets.items():\n",
    "\n",
    "    # always 11 and \"ILE-DE-FRANCE\"\n",
    "    rdd_dataset.drop('geo_name', axis=1, inplace=True)\n",
    "    rdd_dataset.drop('geo_insee', axis=1, inplace=True)\n",
    "\n",
    "    # always 3, representing grippe, \"Influenza-like illness\"\n",
    "    rdd_dataset.drop('indicator', axis=1, inplace=True)\n",
    "\n",
    "\n",
    "    # drop these values for now\n",
    "    rdd_dataset.drop('inc_low', axis=1, inplace=True)\n",
    "    rdd_dataset.drop('inc_up', axis=1, inplace=True)\n",
    "    rdd_dataset.drop('inc100', axis=1, inplace=True)\n",
    "    rdd_dataset.drop('inc100_low', axis=1, inplace=True)\n",
    "    rdd_dataset.drop('inc100_up', axis=1, inplace=True)\n",
    "\n",
    "    rdd_dataset.rename(\n",
    "        columns={'week': 'yearweek'},\n",
    "        inplace=True,\n",
    "    )"
   ]
  },
  {
   "cell_type": "code",
   "execution_count": 1098,
   "metadata": {},
   "outputs": [
    {
     "output_type": "display_data",
     "data": {
      "text/plain": "'grippe'"
     },
     "metadata": {}
    },
    {
     "output_type": "display_data",
     "data": {
      "text/plain": "  yearweek    inc\n0   201752  48723\n1   201751  49403\n2   201750  39953",
      "text/html": "<div>\n<style scoped>\n    .dataframe tbody tr th:only-of-type {\n        vertical-align: middle;\n    }\n\n    .dataframe tbody tr th {\n        vertical-align: top;\n    }\n\n    .dataframe thead th {\n        text-align: right;\n    }\n</style>\n<table border=\"1\" class=\"dataframe\">\n  <thead>\n    <tr style=\"text-align: right;\">\n      <th></th>\n      <th>yearweek</th>\n      <th>inc</th>\n    </tr>\n  </thead>\n  <tbody>\n    <tr>\n      <th>0</th>\n      <td>201752</td>\n      <td>48723</td>\n    </tr>\n    <tr>\n      <th>1</th>\n      <td>201751</td>\n      <td>49403</td>\n    </tr>\n    <tr>\n      <th>2</th>\n      <td>201750</td>\n      <td>39953</td>\n    </tr>\n  </tbody>\n</table>\n</div>"
     },
     "metadata": {}
    },
    {
     "output_type": "display_data",
     "data": {
      "text/plain": "    yearweek    inc\n414   201003   4816\n415   201002   9134\n416   201001  10207",
      "text/html": "<div>\n<style scoped>\n    .dataframe tbody tr th:only-of-type {\n        vertical-align: middle;\n    }\n\n    .dataframe tbody tr th {\n        vertical-align: top;\n    }\n\n    .dataframe thead th {\n        text-align: right;\n    }\n</style>\n<table border=\"1\" class=\"dataframe\">\n  <thead>\n    <tr style=\"text-align: right;\">\n      <th></th>\n      <th>yearweek</th>\n      <th>inc</th>\n    </tr>\n  </thead>\n  <tbody>\n    <tr>\n      <th>414</th>\n      <td>201003</td>\n      <td>4816</td>\n    </tr>\n    <tr>\n      <th>415</th>\n      <td>201002</td>\n      <td>9134</td>\n    </tr>\n    <tr>\n      <th>416</th>\n      <td>201001</td>\n      <td>10207</td>\n    </tr>\n  </tbody>\n</table>\n</div>"
     },
     "metadata": {}
    },
    {
     "output_type": "display_data",
     "data": {
      "text/plain": "'diarrhee'"
     },
     "metadata": {}
    },
    {
     "output_type": "display_data",
     "data": {
      "text/plain": "  yearweek    inc\n0   201752  14938\n1   201751  16218\n2   201750  20995",
      "text/html": "<div>\n<style scoped>\n    .dataframe tbody tr th:only-of-type {\n        vertical-align: middle;\n    }\n\n    .dataframe tbody tr th {\n        vertical-align: top;\n    }\n\n    .dataframe thead th {\n        text-align: right;\n    }\n</style>\n<table border=\"1\" class=\"dataframe\">\n  <thead>\n    <tr style=\"text-align: right;\">\n      <th></th>\n      <th>yearweek</th>\n      <th>inc</th>\n    </tr>\n  </thead>\n  <tbody>\n    <tr>\n      <th>0</th>\n      <td>201752</td>\n      <td>14938</td>\n    </tr>\n    <tr>\n      <th>1</th>\n      <td>201751</td>\n      <td>16218</td>\n    </tr>\n    <tr>\n      <th>2</th>\n      <td>201750</td>\n      <td>20995</td>\n    </tr>\n  </tbody>\n</table>\n</div>"
     },
     "metadata": {}
    },
    {
     "output_type": "display_data",
     "data": {
      "text/plain": "    yearweek    inc\n414   201003  60448\n415   201002  61576\n416   201001  42889",
      "text/html": "<div>\n<style scoped>\n    .dataframe tbody tr th:only-of-type {\n        vertical-align: middle;\n    }\n\n    .dataframe tbody tr th {\n        vertical-align: top;\n    }\n\n    .dataframe thead th {\n        text-align: right;\n    }\n</style>\n<table border=\"1\" class=\"dataframe\">\n  <thead>\n    <tr style=\"text-align: right;\">\n      <th></th>\n      <th>yearweek</th>\n      <th>inc</th>\n    </tr>\n  </thead>\n  <tbody>\n    <tr>\n      <th>414</th>\n      <td>201003</td>\n      <td>60448</td>\n    </tr>\n    <tr>\n      <th>415</th>\n      <td>201002</td>\n      <td>61576</td>\n    </tr>\n    <tr>\n      <th>416</th>\n      <td>201001</td>\n      <td>42889</td>\n    </tr>\n  </tbody>\n</table>\n</div>"
     },
     "metadata": {}
    },
    {
     "output_type": "display_data",
     "data": {
      "text/plain": "'varicelle'"
     },
     "metadata": {}
    },
    {
     "output_type": "display_data",
     "data": {
      "text/plain": "  yearweek   inc\n0   201752   368\n1   201751   799\n2   201750  2228",
      "text/html": "<div>\n<style scoped>\n    .dataframe tbody tr th:only-of-type {\n        vertical-align: middle;\n    }\n\n    .dataframe tbody tr th {\n        vertical-align: top;\n    }\n\n    .dataframe thead th {\n        text-align: right;\n    }\n</style>\n<table border=\"1\" class=\"dataframe\">\n  <thead>\n    <tr style=\"text-align: right;\">\n      <th></th>\n      <th>yearweek</th>\n      <th>inc</th>\n    </tr>\n  </thead>\n  <tbody>\n    <tr>\n      <th>0</th>\n      <td>201752</td>\n      <td>368</td>\n    </tr>\n    <tr>\n      <th>1</th>\n      <td>201751</td>\n      <td>799</td>\n    </tr>\n    <tr>\n      <th>2</th>\n      <td>201750</td>\n      <td>2228</td>\n    </tr>\n  </tbody>\n</table>\n</div>"
     },
     "metadata": {}
    },
    {
     "output_type": "display_data",
     "data": {
      "text/plain": "    yearweek   inc\n414   201003  1420\n415   201002  3120\n416   201001  3735",
      "text/html": "<div>\n<style scoped>\n    .dataframe tbody tr th:only-of-type {\n        vertical-align: middle;\n    }\n\n    .dataframe tbody tr th {\n        vertical-align: top;\n    }\n\n    .dataframe thead th {\n        text-align: right;\n    }\n</style>\n<table border=\"1\" class=\"dataframe\">\n  <thead>\n    <tr style=\"text-align: right;\">\n      <th></th>\n      <th>yearweek</th>\n      <th>inc</th>\n    </tr>\n  </thead>\n  <tbody>\n    <tr>\n      <th>414</th>\n      <td>201003</td>\n      <td>1420</td>\n    </tr>\n    <tr>\n      <th>415</th>\n      <td>201002</td>\n      <td>3120</td>\n    </tr>\n    <tr>\n      <th>416</th>\n      <td>201001</td>\n      <td>3735</td>\n    </tr>\n  </tbody>\n</table>\n</div>"
     },
     "metadata": {}
    }
   ],
   "source": [
    "for dataset_name, dataset in rdd_datasets.items():\n",
    "    display(\n",
    "        dataset_name,\n",
    "        dataset.head(3),\n",
    "        dataset.tail(3),\n",
    "    )"
   ]
  },
  {
   "cell_type": "code",
   "execution_count": 1099,
   "metadata": {},
   "outputs": [
    {
     "output_type": "display_data",
     "data": {
      "text/plain": "         date vacances_zone_a vacances_zone_b vacances_zone_c  \\\n0  2010-01-01            True            True            True   \n1  2010-01-02            True            True            True   \n2  2010-01-03            True            True            True   \n3  2010-02-06           False            True           False   \n4  2010-02-07           False            True           False   \n\n       nom_vacances  \n0  Vacances de Noël  \n1  Vacances de Noël  \n2  Vacances de Noël  \n3  Vacances d'hiver  \n4  Vacances d'hiver  ",
      "text/html": "<div>\n<style scoped>\n    .dataframe tbody tr th:only-of-type {\n        vertical-align: middle;\n    }\n\n    .dataframe tbody tr th {\n        vertical-align: top;\n    }\n\n    .dataframe thead th {\n        text-align: right;\n    }\n</style>\n<table border=\"1\" class=\"dataframe\">\n  <thead>\n    <tr style=\"text-align: right;\">\n      <th></th>\n      <th>date</th>\n      <th>vacances_zone_a</th>\n      <th>vacances_zone_b</th>\n      <th>vacances_zone_c</th>\n      <th>nom_vacances</th>\n    </tr>\n  </thead>\n  <tbody>\n    <tr>\n      <th>0</th>\n      <td>2010-01-01</td>\n      <td>True</td>\n      <td>True</td>\n      <td>True</td>\n      <td>Vacances de Noël</td>\n    </tr>\n    <tr>\n      <th>1</th>\n      <td>2010-01-02</td>\n      <td>True</td>\n      <td>True</td>\n      <td>True</td>\n      <td>Vacances de Noël</td>\n    </tr>\n    <tr>\n      <th>2</th>\n      <td>2010-01-03</td>\n      <td>True</td>\n      <td>True</td>\n      <td>True</td>\n      <td>Vacances de Noël</td>\n    </tr>\n    <tr>\n      <th>3</th>\n      <td>2010-02-06</td>\n      <td>False</td>\n      <td>True</td>\n      <td>False</td>\n      <td>Vacances d'hiver</td>\n    </tr>\n    <tr>\n      <th>4</th>\n      <td>2010-02-07</td>\n      <td>False</td>\n      <td>True</td>\n      <td>False</td>\n      <td>Vacances d'hiver</td>\n    </tr>\n  </tbody>\n</table>\n</div>"
     },
     "metadata": {}
    },
    {
     "output_type": "display_data",
     "data": {
      "text/plain": "            date vacances_zone_a vacances_zone_b vacances_zone_c  \\\n1193  2017-11-01            True            True            True   \n1194  2017-11-02            True            True            True   \n1195  2017-11-03            True            True            True   \n1196  2017-11-04            True            True            True   \n1197  2017-11-05            True            True            True   \n\n                  nom_vacances  \n1193  Vacances de la Toussaint  \n1194  Vacances de la Toussaint  \n1195  Vacances de la Toussaint  \n1196  Vacances de la Toussaint  \n1197  Vacances de la Toussaint  ",
      "text/html": "<div>\n<style scoped>\n    .dataframe tbody tr th:only-of-type {\n        vertical-align: middle;\n    }\n\n    .dataframe tbody tr th {\n        vertical-align: top;\n    }\n\n    .dataframe thead th {\n        text-align: right;\n    }\n</style>\n<table border=\"1\" class=\"dataframe\">\n  <thead>\n    <tr style=\"text-align: right;\">\n      <th></th>\n      <th>date</th>\n      <th>vacances_zone_a</th>\n      <th>vacances_zone_b</th>\n      <th>vacances_zone_c</th>\n      <th>nom_vacances</th>\n    </tr>\n  </thead>\n  <tbody>\n    <tr>\n      <th>1193</th>\n      <td>2017-11-01</td>\n      <td>True</td>\n      <td>True</td>\n      <td>True</td>\n      <td>Vacances de la Toussaint</td>\n    </tr>\n    <tr>\n      <th>1194</th>\n      <td>2017-11-02</td>\n      <td>True</td>\n      <td>True</td>\n      <td>True</td>\n      <td>Vacances de la Toussaint</td>\n    </tr>\n    <tr>\n      <th>1195</th>\n      <td>2017-11-03</td>\n      <td>True</td>\n      <td>True</td>\n      <td>True</td>\n      <td>Vacances de la Toussaint</td>\n    </tr>\n    <tr>\n      <th>1196</th>\n      <td>2017-11-04</td>\n      <td>True</td>\n      <td>True</td>\n      <td>True</td>\n      <td>Vacances de la Toussaint</td>\n    </tr>\n    <tr>\n      <th>1197</th>\n      <td>2017-11-05</td>\n      <td>True</td>\n      <td>True</td>\n      <td>True</td>\n      <td>Vacances de la Toussaint</td>\n    </tr>\n  </tbody>\n</table>\n</div>"
     },
     "metadata": {}
    }
   ],
   "source": [
    "display(\n",
    "    days_off_data.head(),\n",
    "    days_off_data.tail(),\n",
    ")"
   ]
  },
  {
   "cell_type": "code",
   "execution_count": 1100,
   "metadata": {},
   "outputs": [
    {
     "output_type": "display_data",
     "data": {
      "text/plain": "    has_vacation yearweek\n0              1   201053\n1              1   201053\n2              1   201053\n17             1   201007\n18             1   201007",
      "text/html": "<div>\n<style scoped>\n    .dataframe tbody tr th:only-of-type {\n        vertical-align: middle;\n    }\n\n    .dataframe tbody tr th {\n        vertical-align: top;\n    }\n\n    .dataframe thead th {\n        text-align: right;\n    }\n</style>\n<table border=\"1\" class=\"dataframe\">\n  <thead>\n    <tr style=\"text-align: right;\">\n      <th></th>\n      <th>has_vacation</th>\n      <th>yearweek</th>\n    </tr>\n  </thead>\n  <tbody>\n    <tr>\n      <th>0</th>\n      <td>1</td>\n      <td>201053</td>\n    </tr>\n    <tr>\n      <th>1</th>\n      <td>1</td>\n      <td>201053</td>\n    </tr>\n    <tr>\n      <th>2</th>\n      <td>1</td>\n      <td>201053</td>\n    </tr>\n    <tr>\n      <th>17</th>\n      <td>1</td>\n      <td>201007</td>\n    </tr>\n    <tr>\n      <th>18</th>\n      <td>1</td>\n      <td>201007</td>\n    </tr>\n  </tbody>\n</table>\n</div>"
     },
     "metadata": {}
    },
    {
     "output_type": "display_data",
     "data": {
      "text/plain": "      has_vacation yearweek\n1193             1   201744\n1194             1   201744\n1195             1   201744\n1196             1   201744\n1197             1   201744",
      "text/html": "<div>\n<style scoped>\n    .dataframe tbody tr th:only-of-type {\n        vertical-align: middle;\n    }\n\n    .dataframe tbody tr th {\n        vertical-align: top;\n    }\n\n    .dataframe thead th {\n        text-align: right;\n    }\n</style>\n<table border=\"1\" class=\"dataframe\">\n  <thead>\n    <tr style=\"text-align: right;\">\n      <th></th>\n      <th>has_vacation</th>\n      <th>yearweek</th>\n    </tr>\n  </thead>\n  <tbody>\n    <tr>\n      <th>1193</th>\n      <td>1</td>\n      <td>201744</td>\n    </tr>\n    <tr>\n      <th>1194</th>\n      <td>1</td>\n      <td>201744</td>\n    </tr>\n    <tr>\n      <th>1195</th>\n      <td>1</td>\n      <td>201744</td>\n    </tr>\n    <tr>\n      <th>1196</th>\n      <td>1</td>\n      <td>201744</td>\n    </tr>\n    <tr>\n      <th>1197</th>\n      <td>1</td>\n      <td>201744</td>\n    </tr>\n  </tbody>\n</table>\n</div>"
     },
     "metadata": {}
    }
   ],
   "source": [
    "# days_off_data cleanup\n",
    "\n",
    "from datetime import datetime\n",
    "\n",
    "# vacation zone for Ile-De-France : Zone C\n",
    "days_off_data.drop('vacances_zone_a', axis=1, inplace=True)\n",
    "days_off_data.drop('vacances_zone_b', axis=1, inplace=True)\n",
    "\n",
    "# don't need the name\n",
    "days_off_data.drop('nom_vacances', axis=1, inplace=True)\n",
    "\n",
    "days_off_data['yearweek'] = days_off_data.apply(\n",
    "    lambda x:\n",
    "        # year\n",
    "        str(datetime.strptime(x['date'], '%Y-%m-%d').year) +\n",
    "\n",
    "        # plus week number (while adding leading 0 if needed)\n",
    "        \"{:02d}\".format(datetime.strptime(x['date'], '%Y-%m-%d').isocalendar()[1]),\n",
    "        axis=1\n",
    ")\n",
    "\n",
    "# date isn't needed anymore, as we now have yearweek\n",
    "days_off_data.drop('date', axis=1, inplace=True)\n",
    "\n",
    "days_off_data.rename(\n",
    "    columns={'vacances_zone_c': 'has_vacation'},\n",
    "    inplace=True,\n",
    ")\n",
    "\n",
    "# days_off_data does not contain a line per week, only a line where it is holiday in at\n",
    "# least one of the three zones, so now we have some lines where the \"has_vacation\"\n",
    "# column is false. It corresponds to when some other zone is in vacation, but not the zone C, we don't need it.\n",
    "days_off_data.drop(days_off_data[days_off_data.has_vacation == False].index, inplace=True)\n",
    "\n",
    "# 'not days_off_data.has_vacation' doesn't work (it is ambiguous), thus the use\n",
    "# of == False\n",
    "\n",
    "# replace \"True\" by 1\n",
    "days_off_data['has_vacation'] = days_off_data['has_vacation'].astype(int)\n",
    "\n",
    "display(\n",
    "    days_off_data.head(),\n",
    "    days_off_data.tail(),\n",
    ")"
   ]
  },
  {
   "cell_type": "code",
   "execution_count": 1101,
   "metadata": {},
   "outputs": [
    {
     "output_type": "display_data",
     "data": {
      "text/plain": "     week  temperature_max  temperature_min  temperature_average  \\\n0  201752             13.0              0.0                 6.71   \n1  201751              9.0              2.0                 6.57   \n2  201750              9.0              1.0                 4.86   \n3  201749             10.0              0.0                 4.57   \n4  201748              9.0             -1.0                 3.00   \n\n   total_snow_cm  precipitation_mm                    city  \n0            0.0               7.1  Ondreville-Sur-Essonne  \n1            0.0               3.6  Ondreville-Sur-Essonne  \n2            0.0               6.9  Ondreville-Sur-Essonne  \n3            0.1               1.9  Ondreville-Sur-Essonne  \n4            0.0               8.5  Ondreville-Sur-Essonne  ",
      "text/html": "<div>\n<style scoped>\n    .dataframe tbody tr th:only-of-type {\n        vertical-align: middle;\n    }\n\n    .dataframe tbody tr th {\n        vertical-align: top;\n    }\n\n    .dataframe thead th {\n        text-align: right;\n    }\n</style>\n<table border=\"1\" class=\"dataframe\">\n  <thead>\n    <tr style=\"text-align: right;\">\n      <th></th>\n      <th>week</th>\n      <th>temperature_max</th>\n      <th>temperature_min</th>\n      <th>temperature_average</th>\n      <th>total_snow_cm</th>\n      <th>precipitation_mm</th>\n      <th>city</th>\n    </tr>\n  </thead>\n  <tbody>\n    <tr>\n      <th>0</th>\n      <td>201752</td>\n      <td>13.0</td>\n      <td>0.0</td>\n      <td>6.71</td>\n      <td>0.0</td>\n      <td>7.1</td>\n      <td>Ondreville-Sur-Essonne</td>\n    </tr>\n    <tr>\n      <th>1</th>\n      <td>201751</td>\n      <td>9.0</td>\n      <td>2.0</td>\n      <td>6.57</td>\n      <td>0.0</td>\n      <td>3.6</td>\n      <td>Ondreville-Sur-Essonne</td>\n    </tr>\n    <tr>\n      <th>2</th>\n      <td>201750</td>\n      <td>9.0</td>\n      <td>1.0</td>\n      <td>4.86</td>\n      <td>0.0</td>\n      <td>6.9</td>\n      <td>Ondreville-Sur-Essonne</td>\n    </tr>\n    <tr>\n      <th>3</th>\n      <td>201749</td>\n      <td>10.0</td>\n      <td>0.0</td>\n      <td>4.57</td>\n      <td>0.1</td>\n      <td>1.9</td>\n      <td>Ondreville-Sur-Essonne</td>\n    </tr>\n    <tr>\n      <th>4</th>\n      <td>201748</td>\n      <td>9.0</td>\n      <td>-1.0</td>\n      <td>3.00</td>\n      <td>0.0</td>\n      <td>8.5</td>\n      <td>Ondreville-Sur-Essonne</td>\n    </tr>\n  </tbody>\n</table>\n</div>"
     },
     "metadata": {}
    },
    {
     "output_type": "display_data",
     "data": {
      "text/plain": "       week  temperature_max  temperature_min  temperature_average  \\\n412  201005              9.0             -2.0                 4.29   \n413  201004              5.0             -5.0                 0.43   \n414  201003              7.0             -1.0                 2.29   \n415  201002              8.0             -5.0                 0.71   \n416  201001             -0.0            -10.0                -4.43   \n\n     total_snow_cm  precipitation_mm                    city  \n412            0.2              10.5  Ondreville-Sur-Essonne  \n413            0.2               0.7  Ondreville-Sur-Essonne  \n414            0.0               1.9  Ondreville-Sur-Essonne  \n415            1.5               2.5  Ondreville-Sur-Essonne  \n416            2.6               3.2  Ondreville-Sur-Essonne  ",
      "text/html": "<div>\n<style scoped>\n    .dataframe tbody tr th:only-of-type {\n        vertical-align: middle;\n    }\n\n    .dataframe tbody tr th {\n        vertical-align: top;\n    }\n\n    .dataframe thead th {\n        text-align: right;\n    }\n</style>\n<table border=\"1\" class=\"dataframe\">\n  <thead>\n    <tr style=\"text-align: right;\">\n      <th></th>\n      <th>week</th>\n      <th>temperature_max</th>\n      <th>temperature_min</th>\n      <th>temperature_average</th>\n      <th>total_snow_cm</th>\n      <th>precipitation_mm</th>\n      <th>city</th>\n    </tr>\n  </thead>\n  <tbody>\n    <tr>\n      <th>412</th>\n      <td>201005</td>\n      <td>9.0</td>\n      <td>-2.0</td>\n      <td>4.29</td>\n      <td>0.2</td>\n      <td>10.5</td>\n      <td>Ondreville-Sur-Essonne</td>\n    </tr>\n    <tr>\n      <th>413</th>\n      <td>201004</td>\n      <td>5.0</td>\n      <td>-5.0</td>\n      <td>0.43</td>\n      <td>0.2</td>\n      <td>0.7</td>\n      <td>Ondreville-Sur-Essonne</td>\n    </tr>\n    <tr>\n      <th>414</th>\n      <td>201003</td>\n      <td>7.0</td>\n      <td>-1.0</td>\n      <td>2.29</td>\n      <td>0.0</td>\n      <td>1.9</td>\n      <td>Ondreville-Sur-Essonne</td>\n    </tr>\n    <tr>\n      <th>415</th>\n      <td>201002</td>\n      <td>8.0</td>\n      <td>-5.0</td>\n      <td>0.71</td>\n      <td>1.5</td>\n      <td>2.5</td>\n      <td>Ondreville-Sur-Essonne</td>\n    </tr>\n    <tr>\n      <th>416</th>\n      <td>201001</td>\n      <td>-0.0</td>\n      <td>-10.0</td>\n      <td>-4.43</td>\n      <td>2.6</td>\n      <td>3.2</td>\n      <td>Ondreville-Sur-Essonne</td>\n    </tr>\n  </tbody>\n</table>\n</div>"
     },
     "metadata": {}
    }
   ],
   "source": [
    "display(\n",
    "    wwo_data.head(),\n",
    "    wwo_data.tail(),\n",
    ")"
   ]
  },
  {
   "cell_type": "code",
   "execution_count": 1102,
   "metadata": {},
   "outputs": [
    {
     "output_type": "display_data",
     "data": {
      "text/plain": "   yearweek  temperature_max  temperature_min  temperature_average  \\\n0    201752             13.0              0.0                 6.71   \n1    201751              9.0              2.0                 6.57   \n2    201750              9.0              1.0                 4.86   \n3    201749             10.0              0.0                 4.57   \n4    201748              9.0             -1.0                 3.00   \n\n   total_snow_cm  precipitation_mm  \n0            0.0               7.1  \n1            0.0               3.6  \n2            0.0               6.9  \n3            0.1               1.9  \n4            0.0               8.5  ",
      "text/html": "<div>\n<style scoped>\n    .dataframe tbody tr th:only-of-type {\n        vertical-align: middle;\n    }\n\n    .dataframe tbody tr th {\n        vertical-align: top;\n    }\n\n    .dataframe thead th {\n        text-align: right;\n    }\n</style>\n<table border=\"1\" class=\"dataframe\">\n  <thead>\n    <tr style=\"text-align: right;\">\n      <th></th>\n      <th>yearweek</th>\n      <th>temperature_max</th>\n      <th>temperature_min</th>\n      <th>temperature_average</th>\n      <th>total_snow_cm</th>\n      <th>precipitation_mm</th>\n    </tr>\n  </thead>\n  <tbody>\n    <tr>\n      <th>0</th>\n      <td>201752</td>\n      <td>13.0</td>\n      <td>0.0</td>\n      <td>6.71</td>\n      <td>0.0</td>\n      <td>7.1</td>\n    </tr>\n    <tr>\n      <th>1</th>\n      <td>201751</td>\n      <td>9.0</td>\n      <td>2.0</td>\n      <td>6.57</td>\n      <td>0.0</td>\n      <td>3.6</td>\n    </tr>\n    <tr>\n      <th>2</th>\n      <td>201750</td>\n      <td>9.0</td>\n      <td>1.0</td>\n      <td>4.86</td>\n      <td>0.0</td>\n      <td>6.9</td>\n    </tr>\n    <tr>\n      <th>3</th>\n      <td>201749</td>\n      <td>10.0</td>\n      <td>0.0</td>\n      <td>4.57</td>\n      <td>0.1</td>\n      <td>1.9</td>\n    </tr>\n    <tr>\n      <th>4</th>\n      <td>201748</td>\n      <td>9.0</td>\n      <td>-1.0</td>\n      <td>3.00</td>\n      <td>0.0</td>\n      <td>8.5</td>\n    </tr>\n  </tbody>\n</table>\n</div>"
     },
     "metadata": {}
    },
    {
     "output_type": "display_data",
     "data": {
      "text/plain": "     yearweek  temperature_max  temperature_min  temperature_average  \\\n412    201005              9.0             -2.0                 4.29   \n413    201004              5.0             -5.0                 0.43   \n414    201003              7.0             -1.0                 2.29   \n415    201002              8.0             -5.0                 0.71   \n416    201001             -0.0            -10.0                -4.43   \n\n     total_snow_cm  precipitation_mm  \n412            0.2              10.5  \n413            0.2               0.7  \n414            0.0               1.9  \n415            1.5               2.5  \n416            2.6               3.2  ",
      "text/html": "<div>\n<style scoped>\n    .dataframe tbody tr th:only-of-type {\n        vertical-align: middle;\n    }\n\n    .dataframe tbody tr th {\n        vertical-align: top;\n    }\n\n    .dataframe thead th {\n        text-align: right;\n    }\n</style>\n<table border=\"1\" class=\"dataframe\">\n  <thead>\n    <tr style=\"text-align: right;\">\n      <th></th>\n      <th>yearweek</th>\n      <th>temperature_max</th>\n      <th>temperature_min</th>\n      <th>temperature_average</th>\n      <th>total_snow_cm</th>\n      <th>precipitation_mm</th>\n    </tr>\n  </thead>\n  <tbody>\n    <tr>\n      <th>412</th>\n      <td>201005</td>\n      <td>9.0</td>\n      <td>-2.0</td>\n      <td>4.29</td>\n      <td>0.2</td>\n      <td>10.5</td>\n    </tr>\n    <tr>\n      <th>413</th>\n      <td>201004</td>\n      <td>5.0</td>\n      <td>-5.0</td>\n      <td>0.43</td>\n      <td>0.2</td>\n      <td>0.7</td>\n    </tr>\n    <tr>\n      <th>414</th>\n      <td>201003</td>\n      <td>7.0</td>\n      <td>-1.0</td>\n      <td>2.29</td>\n      <td>0.0</td>\n      <td>1.9</td>\n    </tr>\n    <tr>\n      <th>415</th>\n      <td>201002</td>\n      <td>8.0</td>\n      <td>-5.0</td>\n      <td>0.71</td>\n      <td>1.5</td>\n      <td>2.5</td>\n    </tr>\n    <tr>\n      <th>416</th>\n      <td>201001</td>\n      <td>-0.0</td>\n      <td>-10.0</td>\n      <td>-4.43</td>\n      <td>2.6</td>\n      <td>3.2</td>\n    </tr>\n  </tbody>\n</table>\n</div>"
     },
     "metadata": {}
    }
   ],
   "source": [
    "# cleanup wwo_data\n",
    "\n",
    "# city is always \"Ondreville-Sur-Essonne\"\n",
    "wwo_data.drop('city', axis=1, inplace=True)\n",
    "\n",
    "wwo_data.rename(\n",
    "    columns={'week': 'yearweek'},\n",
    "    inplace=True,\n",
    ")\n",
    "\n",
    "display(\n",
    "    wwo_data.head(),\n",
    "    wwo_data.tail(),\n",
    ")"
   ]
  },
  {
   "cell_type": "code",
   "execution_count": 1113,
   "metadata": {},
   "outputs": [
    {
     "output_type": "display_data",
     "data": {
      "text/plain": "    yearweek   ACCI    AUTR  INCN   INCU    SUAP  ope_total inc_grippe  \\\n0     201001   81.0   232.0   0.0  129.0  1397.0     1839.0      10207   \n1     201002   84.0   163.0   1.0  144.0  1383.0     1775.0       9134   \n2     201003   74.0   107.0   0.0  123.0  1192.0     1496.0       4816   \n3     201004   78.0   105.0   0.0  130.0  1316.0     1629.0       4348   \n4     201005   84.0   111.0   0.0  117.0  1341.0     1653.0       2888   \n5     201006  103.0   129.0   1.0  120.0  1350.0     1703.0       1695   \n6     201007   84.0   106.0   0.0  145.0  1307.0     1642.0       2646   \n7     201007   84.0   106.0   0.0  145.0  1307.0     1642.0       2646   \n8     201008   72.0  1086.0   0.0  133.0  1197.0     2488.0       3000   \n9     201008   72.0  1086.0   0.0  133.0  1197.0     2488.0       3000   \n10    201008   72.0  1086.0   0.0  133.0  1197.0     2488.0       3000   \n11    201008   72.0  1086.0   0.0  133.0  1197.0     2488.0       3000   \n12    201008   72.0  1086.0   0.0  133.0  1197.0     2488.0       3000   \n13    201008   72.0  1086.0   0.0  133.0  1197.0     2488.0       3000   \n14    201008   72.0  1086.0   0.0  133.0  1197.0     2488.0       3000   \n\n   inc_diarrhee inc_varicelle  has_vacation  temperature_max  temperature_min  \\\n0         42889          3735           0.0             -0.0            -10.0   \n1         61576          3120           0.0              8.0             -5.0   \n2         60448          1420           0.0              7.0             -1.0   \n3         61601          1284           0.0              5.0             -5.0   \n4         47258          6835           0.0              9.0             -2.0   \n5         44471          3463           0.0              3.0             -7.0   \n6         39867          7090           1.0              8.0             -6.0   \n7         39867          7090           1.0              8.0             -6.0   \n8         29301          5632           1.0             12.0              4.0   \n9         29301          5632           1.0             12.0              4.0   \n10        29301          5632           1.0             12.0              4.0   \n11        29301          5632           1.0             12.0              4.0   \n12        29301          5632           1.0             12.0              4.0   \n13        29301          5632           1.0             12.0              4.0   \n14        29301          5632           1.0             12.0              4.0   \n\n    temperature_average  total_snow_cm  precipitation_mm  \n0                 -4.43            2.6               3.2  \n1                  0.71            1.5               2.5  \n2                  2.29            0.0               1.9  \n3                  0.43            0.2               0.7  \n4                  4.29            0.2              10.5  \n5                 -2.57            0.7               1.8  \n6                  1.00            0.2               3.1  \n7                  1.00            0.2               3.1  \n8                  8.14            0.0               9.4  \n9                  8.14            0.0               9.4  \n10                 8.14            0.0               9.4  \n11                 8.14            0.0               9.4  \n12                 8.14            0.0               9.4  \n13                 8.14            0.0               9.4  \n14                 8.14            0.0               9.4  ",
      "text/html": "<div>\n<style scoped>\n    .dataframe tbody tr th:only-of-type {\n        vertical-align: middle;\n    }\n\n    .dataframe tbody tr th {\n        vertical-align: top;\n    }\n\n    .dataframe thead th {\n        text-align: right;\n    }\n</style>\n<table border=\"1\" class=\"dataframe\">\n  <thead>\n    <tr style=\"text-align: right;\">\n      <th></th>\n      <th>yearweek</th>\n      <th>ACCI</th>\n      <th>AUTR</th>\n      <th>INCN</th>\n      <th>INCU</th>\n      <th>SUAP</th>\n      <th>ope_total</th>\n      <th>inc_grippe</th>\n      <th>inc_diarrhee</th>\n      <th>inc_varicelle</th>\n      <th>has_vacation</th>\n      <th>temperature_max</th>\n      <th>temperature_min</th>\n      <th>temperature_average</th>\n      <th>total_snow_cm</th>\n      <th>precipitation_mm</th>\n    </tr>\n  </thead>\n  <tbody>\n    <tr>\n      <th>0</th>\n      <td>201001</td>\n      <td>81.0</td>\n      <td>232.0</td>\n      <td>0.0</td>\n      <td>129.0</td>\n      <td>1397.0</td>\n      <td>1839.0</td>\n      <td>10207</td>\n      <td>42889</td>\n      <td>3735</td>\n      <td>0.0</td>\n      <td>-0.0</td>\n      <td>-10.0</td>\n      <td>-4.43</td>\n      <td>2.6</td>\n      <td>3.2</td>\n    </tr>\n    <tr>\n      <th>1</th>\n      <td>201002</td>\n      <td>84.0</td>\n      <td>163.0</td>\n      <td>1.0</td>\n      <td>144.0</td>\n      <td>1383.0</td>\n      <td>1775.0</td>\n      <td>9134</td>\n      <td>61576</td>\n      <td>3120</td>\n      <td>0.0</td>\n      <td>8.0</td>\n      <td>-5.0</td>\n      <td>0.71</td>\n      <td>1.5</td>\n      <td>2.5</td>\n    </tr>\n    <tr>\n      <th>2</th>\n      <td>201003</td>\n      <td>74.0</td>\n      <td>107.0</td>\n      <td>0.0</td>\n      <td>123.0</td>\n      <td>1192.0</td>\n      <td>1496.0</td>\n      <td>4816</td>\n      <td>60448</td>\n      <td>1420</td>\n      <td>0.0</td>\n      <td>7.0</td>\n      <td>-1.0</td>\n      <td>2.29</td>\n      <td>0.0</td>\n      <td>1.9</td>\n    </tr>\n    <tr>\n      <th>3</th>\n      <td>201004</td>\n      <td>78.0</td>\n      <td>105.0</td>\n      <td>0.0</td>\n      <td>130.0</td>\n      <td>1316.0</td>\n      <td>1629.0</td>\n      <td>4348</td>\n      <td>61601</td>\n      <td>1284</td>\n      <td>0.0</td>\n      <td>5.0</td>\n      <td>-5.0</td>\n      <td>0.43</td>\n      <td>0.2</td>\n      <td>0.7</td>\n    </tr>\n    <tr>\n      <th>4</th>\n      <td>201005</td>\n      <td>84.0</td>\n      <td>111.0</td>\n      <td>0.0</td>\n      <td>117.0</td>\n      <td>1341.0</td>\n      <td>1653.0</td>\n      <td>2888</td>\n      <td>47258</td>\n      <td>6835</td>\n      <td>0.0</td>\n      <td>9.0</td>\n      <td>-2.0</td>\n      <td>4.29</td>\n      <td>0.2</td>\n      <td>10.5</td>\n    </tr>\n    <tr>\n      <th>5</th>\n      <td>201006</td>\n      <td>103.0</td>\n      <td>129.0</td>\n      <td>1.0</td>\n      <td>120.0</td>\n      <td>1350.0</td>\n      <td>1703.0</td>\n      <td>1695</td>\n      <td>44471</td>\n      <td>3463</td>\n      <td>0.0</td>\n      <td>3.0</td>\n      <td>-7.0</td>\n      <td>-2.57</td>\n      <td>0.7</td>\n      <td>1.8</td>\n    </tr>\n    <tr>\n      <th>6</th>\n      <td>201007</td>\n      <td>84.0</td>\n      <td>106.0</td>\n      <td>0.0</td>\n      <td>145.0</td>\n      <td>1307.0</td>\n      <td>1642.0</td>\n      <td>2646</td>\n      <td>39867</td>\n      <td>7090</td>\n      <td>1.0</td>\n      <td>8.0</td>\n      <td>-6.0</td>\n      <td>1.00</td>\n      <td>0.2</td>\n      <td>3.1</td>\n    </tr>\n    <tr>\n      <th>7</th>\n      <td>201007</td>\n      <td>84.0</td>\n      <td>106.0</td>\n      <td>0.0</td>\n      <td>145.0</td>\n      <td>1307.0</td>\n      <td>1642.0</td>\n      <td>2646</td>\n      <td>39867</td>\n      <td>7090</td>\n      <td>1.0</td>\n      <td>8.0</td>\n      <td>-6.0</td>\n      <td>1.00</td>\n      <td>0.2</td>\n      <td>3.1</td>\n    </tr>\n    <tr>\n      <th>8</th>\n      <td>201008</td>\n      <td>72.0</td>\n      <td>1086.0</td>\n      <td>0.0</td>\n      <td>133.0</td>\n      <td>1197.0</td>\n      <td>2488.0</td>\n      <td>3000</td>\n      <td>29301</td>\n      <td>5632</td>\n      <td>1.0</td>\n      <td>12.0</td>\n      <td>4.0</td>\n      <td>8.14</td>\n      <td>0.0</td>\n      <td>9.4</td>\n    </tr>\n    <tr>\n      <th>9</th>\n      <td>201008</td>\n      <td>72.0</td>\n      <td>1086.0</td>\n      <td>0.0</td>\n      <td>133.0</td>\n      <td>1197.0</td>\n      <td>2488.0</td>\n      <td>3000</td>\n      <td>29301</td>\n      <td>5632</td>\n      <td>1.0</td>\n      <td>12.0</td>\n      <td>4.0</td>\n      <td>8.14</td>\n      <td>0.0</td>\n      <td>9.4</td>\n    </tr>\n    <tr>\n      <th>10</th>\n      <td>201008</td>\n      <td>72.0</td>\n      <td>1086.0</td>\n      <td>0.0</td>\n      <td>133.0</td>\n      <td>1197.0</td>\n      <td>2488.0</td>\n      <td>3000</td>\n      <td>29301</td>\n      <td>5632</td>\n      <td>1.0</td>\n      <td>12.0</td>\n      <td>4.0</td>\n      <td>8.14</td>\n      <td>0.0</td>\n      <td>9.4</td>\n    </tr>\n    <tr>\n      <th>11</th>\n      <td>201008</td>\n      <td>72.0</td>\n      <td>1086.0</td>\n      <td>0.0</td>\n      <td>133.0</td>\n      <td>1197.0</td>\n      <td>2488.0</td>\n      <td>3000</td>\n      <td>29301</td>\n      <td>5632</td>\n      <td>1.0</td>\n      <td>12.0</td>\n      <td>4.0</td>\n      <td>8.14</td>\n      <td>0.0</td>\n      <td>9.4</td>\n    </tr>\n    <tr>\n      <th>12</th>\n      <td>201008</td>\n      <td>72.0</td>\n      <td>1086.0</td>\n      <td>0.0</td>\n      <td>133.0</td>\n      <td>1197.0</td>\n      <td>2488.0</td>\n      <td>3000</td>\n      <td>29301</td>\n      <td>5632</td>\n      <td>1.0</td>\n      <td>12.0</td>\n      <td>4.0</td>\n      <td>8.14</td>\n      <td>0.0</td>\n      <td>9.4</td>\n    </tr>\n    <tr>\n      <th>13</th>\n      <td>201008</td>\n      <td>72.0</td>\n      <td>1086.0</td>\n      <td>0.0</td>\n      <td>133.0</td>\n      <td>1197.0</td>\n      <td>2488.0</td>\n      <td>3000</td>\n      <td>29301</td>\n      <td>5632</td>\n      <td>1.0</td>\n      <td>12.0</td>\n      <td>4.0</td>\n      <td>8.14</td>\n      <td>0.0</td>\n      <td>9.4</td>\n    </tr>\n    <tr>\n      <th>14</th>\n      <td>201008</td>\n      <td>72.0</td>\n      <td>1086.0</td>\n      <td>0.0</td>\n      <td>133.0</td>\n      <td>1197.0</td>\n      <td>2488.0</td>\n      <td>3000</td>\n      <td>29301</td>\n      <td>5632</td>\n      <td>1.0</td>\n      <td>12.0</td>\n      <td>4.0</td>\n      <td>8.14</td>\n      <td>0.0</td>\n      <td>9.4</td>\n    </tr>\n  </tbody>\n</table>\n</div>"
     },
     "metadata": {}
    },
    {
     "output_type": "display_data",
     "data": {
      "text/plain": "      yearweek   ACCI   AUTR  INCN   INCU    SUAP  ope_total inc_grippe  \\\n1193    201744   84.0   58.0   2.0  148.0  1313.0     1605.0        200   \n1194    201744   84.0   58.0   2.0  148.0  1313.0     1605.0        200   \n1195    201744   84.0   58.0   2.0  148.0  1313.0     1605.0        200   \n1196    201744   84.0   58.0   2.0  148.0  1313.0     1605.0        200   \n1197    201744   84.0   58.0   2.0  148.0  1313.0     1605.0        200   \n1198    201744   84.0   58.0   2.0  148.0  1313.0     1605.0        200   \n1199    201744   84.0   58.0   2.0  148.0  1313.0     1605.0        200   \n1200    201745  107.0   72.0   2.0  107.0  1500.0     1788.0       3612   \n1201    201746   96.0   73.0   1.0  104.0  1540.0     1814.0       4854   \n1202    201747  120.0   50.0   2.0  106.0  1622.0     1900.0       3561   \n1203    201748  139.0   48.0   3.0   88.0  1502.0     1780.0       9566   \n1204    201749  110.0   59.0   2.0   92.0  1645.0     1908.0      16952   \n1205    201750  145.0  195.0   0.0   75.0  1737.0     2152.0      39953   \n1206    201751  129.0   56.0   1.0   93.0  1632.0     1911.0      49403   \n1207    201752  118.0   98.0   1.0  140.0  1972.0     2329.0      48723   \n\n     inc_diarrhee inc_varicelle  has_vacation  temperature_max  \\\n1193         5887            96           1.0             16.0   \n1194         5887            96           1.0             16.0   \n1195         5887            96           1.0             16.0   \n1196         5887            96           1.0             16.0   \n1197         5887            96           1.0             16.0   \n1198         5887            96           1.0             16.0   \n1199         5887            96           1.0             16.0   \n1200        11987           160           0.0             13.0   \n1201        15145           684           0.0             10.0   \n1202        15815           894           0.0             15.0   \n1203        17024          1029           0.0              9.0   \n1204        23439           800           0.0             10.0   \n1205        20995          2228           0.0              9.0   \n1206        16218           799           0.0              9.0   \n1207        14938           368           1.0             13.0   \n\n      temperature_min  temperature_average  total_snow_cm  precipitation_mm  \n1193              5.0                10.00            0.0               1.0  \n1194              5.0                10.00            0.0               1.0  \n1195              5.0                10.00            0.0               1.0  \n1196              5.0                10.00            0.0               1.0  \n1197              5.0                10.00            0.0               1.0  \n1198              5.0                10.00            0.0               1.0  \n1199              5.0                10.00            0.0               1.0  \n1200              3.0                 8.00            0.0               5.1  \n1201              3.0                 6.57            0.0               0.3  \n1202              2.0                 8.43            0.0               1.9  \n1203             -1.0                 3.00            0.0               8.5  \n1204              0.0                 4.57            0.1               1.9  \n1205              1.0                 4.86            0.0               6.9  \n1206              2.0                 6.57            0.0               3.6  \n1207              0.0                 6.71            0.0               7.1  ",
      "text/html": "<div>\n<style scoped>\n    .dataframe tbody tr th:only-of-type {\n        vertical-align: middle;\n    }\n\n    .dataframe tbody tr th {\n        vertical-align: top;\n    }\n\n    .dataframe thead th {\n        text-align: right;\n    }\n</style>\n<table border=\"1\" class=\"dataframe\">\n  <thead>\n    <tr style=\"text-align: right;\">\n      <th></th>\n      <th>yearweek</th>\n      <th>ACCI</th>\n      <th>AUTR</th>\n      <th>INCN</th>\n      <th>INCU</th>\n      <th>SUAP</th>\n      <th>ope_total</th>\n      <th>inc_grippe</th>\n      <th>inc_diarrhee</th>\n      <th>inc_varicelle</th>\n      <th>has_vacation</th>\n      <th>temperature_max</th>\n      <th>temperature_min</th>\n      <th>temperature_average</th>\n      <th>total_snow_cm</th>\n      <th>precipitation_mm</th>\n    </tr>\n  </thead>\n  <tbody>\n    <tr>\n      <th>1193</th>\n      <td>201744</td>\n      <td>84.0</td>\n      <td>58.0</td>\n      <td>2.0</td>\n      <td>148.0</td>\n      <td>1313.0</td>\n      <td>1605.0</td>\n      <td>200</td>\n      <td>5887</td>\n      <td>96</td>\n      <td>1.0</td>\n      <td>16.0</td>\n      <td>5.0</td>\n      <td>10.00</td>\n      <td>0.0</td>\n      <td>1.0</td>\n    </tr>\n    <tr>\n      <th>1194</th>\n      <td>201744</td>\n      <td>84.0</td>\n      <td>58.0</td>\n      <td>2.0</td>\n      <td>148.0</td>\n      <td>1313.0</td>\n      <td>1605.0</td>\n      <td>200</td>\n      <td>5887</td>\n      <td>96</td>\n      <td>1.0</td>\n      <td>16.0</td>\n      <td>5.0</td>\n      <td>10.00</td>\n      <td>0.0</td>\n      <td>1.0</td>\n    </tr>\n    <tr>\n      <th>1195</th>\n      <td>201744</td>\n      <td>84.0</td>\n      <td>58.0</td>\n      <td>2.0</td>\n      <td>148.0</td>\n      <td>1313.0</td>\n      <td>1605.0</td>\n      <td>200</td>\n      <td>5887</td>\n      <td>96</td>\n      <td>1.0</td>\n      <td>16.0</td>\n      <td>5.0</td>\n      <td>10.00</td>\n      <td>0.0</td>\n      <td>1.0</td>\n    </tr>\n    <tr>\n      <th>1196</th>\n      <td>201744</td>\n      <td>84.0</td>\n      <td>58.0</td>\n      <td>2.0</td>\n      <td>148.0</td>\n      <td>1313.0</td>\n      <td>1605.0</td>\n      <td>200</td>\n      <td>5887</td>\n      <td>96</td>\n      <td>1.0</td>\n      <td>16.0</td>\n      <td>5.0</td>\n      <td>10.00</td>\n      <td>0.0</td>\n      <td>1.0</td>\n    </tr>\n    <tr>\n      <th>1197</th>\n      <td>201744</td>\n      <td>84.0</td>\n      <td>58.0</td>\n      <td>2.0</td>\n      <td>148.0</td>\n      <td>1313.0</td>\n      <td>1605.0</td>\n      <td>200</td>\n      <td>5887</td>\n      <td>96</td>\n      <td>1.0</td>\n      <td>16.0</td>\n      <td>5.0</td>\n      <td>10.00</td>\n      <td>0.0</td>\n      <td>1.0</td>\n    </tr>\n    <tr>\n      <th>1198</th>\n      <td>201744</td>\n      <td>84.0</td>\n      <td>58.0</td>\n      <td>2.0</td>\n      <td>148.0</td>\n      <td>1313.0</td>\n      <td>1605.0</td>\n      <td>200</td>\n      <td>5887</td>\n      <td>96</td>\n      <td>1.0</td>\n      <td>16.0</td>\n      <td>5.0</td>\n      <td>10.00</td>\n      <td>0.0</td>\n      <td>1.0</td>\n    </tr>\n    <tr>\n      <th>1199</th>\n      <td>201744</td>\n      <td>84.0</td>\n      <td>58.0</td>\n      <td>2.0</td>\n      <td>148.0</td>\n      <td>1313.0</td>\n      <td>1605.0</td>\n      <td>200</td>\n      <td>5887</td>\n      <td>96</td>\n      <td>1.0</td>\n      <td>16.0</td>\n      <td>5.0</td>\n      <td>10.00</td>\n      <td>0.0</td>\n      <td>1.0</td>\n    </tr>\n    <tr>\n      <th>1200</th>\n      <td>201745</td>\n      <td>107.0</td>\n      <td>72.0</td>\n      <td>2.0</td>\n      <td>107.0</td>\n      <td>1500.0</td>\n      <td>1788.0</td>\n      <td>3612</td>\n      <td>11987</td>\n      <td>160</td>\n      <td>0.0</td>\n      <td>13.0</td>\n      <td>3.0</td>\n      <td>8.00</td>\n      <td>0.0</td>\n      <td>5.1</td>\n    </tr>\n    <tr>\n      <th>1201</th>\n      <td>201746</td>\n      <td>96.0</td>\n      <td>73.0</td>\n      <td>1.0</td>\n      <td>104.0</td>\n      <td>1540.0</td>\n      <td>1814.0</td>\n      <td>4854</td>\n      <td>15145</td>\n      <td>684</td>\n      <td>0.0</td>\n      <td>10.0</td>\n      <td>3.0</td>\n      <td>6.57</td>\n      <td>0.0</td>\n      <td>0.3</td>\n    </tr>\n    <tr>\n      <th>1202</th>\n      <td>201747</td>\n      <td>120.0</td>\n      <td>50.0</td>\n      <td>2.0</td>\n      <td>106.0</td>\n      <td>1622.0</td>\n      <td>1900.0</td>\n      <td>3561</td>\n      <td>15815</td>\n      <td>894</td>\n      <td>0.0</td>\n      <td>15.0</td>\n      <td>2.0</td>\n      <td>8.43</td>\n      <td>0.0</td>\n      <td>1.9</td>\n    </tr>\n    <tr>\n      <th>1203</th>\n      <td>201748</td>\n      <td>139.0</td>\n      <td>48.0</td>\n      <td>3.0</td>\n      <td>88.0</td>\n      <td>1502.0</td>\n      <td>1780.0</td>\n      <td>9566</td>\n      <td>17024</td>\n      <td>1029</td>\n      <td>0.0</td>\n      <td>9.0</td>\n      <td>-1.0</td>\n      <td>3.00</td>\n      <td>0.0</td>\n      <td>8.5</td>\n    </tr>\n    <tr>\n      <th>1204</th>\n      <td>201749</td>\n      <td>110.0</td>\n      <td>59.0</td>\n      <td>2.0</td>\n      <td>92.0</td>\n      <td>1645.0</td>\n      <td>1908.0</td>\n      <td>16952</td>\n      <td>23439</td>\n      <td>800</td>\n      <td>0.0</td>\n      <td>10.0</td>\n      <td>0.0</td>\n      <td>4.57</td>\n      <td>0.1</td>\n      <td>1.9</td>\n    </tr>\n    <tr>\n      <th>1205</th>\n      <td>201750</td>\n      <td>145.0</td>\n      <td>195.0</td>\n      <td>0.0</td>\n      <td>75.0</td>\n      <td>1737.0</td>\n      <td>2152.0</td>\n      <td>39953</td>\n      <td>20995</td>\n      <td>2228</td>\n      <td>0.0</td>\n      <td>9.0</td>\n      <td>1.0</td>\n      <td>4.86</td>\n      <td>0.0</td>\n      <td>6.9</td>\n    </tr>\n    <tr>\n      <th>1206</th>\n      <td>201751</td>\n      <td>129.0</td>\n      <td>56.0</td>\n      <td>1.0</td>\n      <td>93.0</td>\n      <td>1632.0</td>\n      <td>1911.0</td>\n      <td>49403</td>\n      <td>16218</td>\n      <td>799</td>\n      <td>0.0</td>\n      <td>9.0</td>\n      <td>2.0</td>\n      <td>6.57</td>\n      <td>0.0</td>\n      <td>3.6</td>\n    </tr>\n    <tr>\n      <th>1207</th>\n      <td>201752</td>\n      <td>118.0</td>\n      <td>98.0</td>\n      <td>1.0</td>\n      <td>140.0</td>\n      <td>1972.0</td>\n      <td>2329.0</td>\n      <td>48723</td>\n      <td>14938</td>\n      <td>368</td>\n      <td>1.0</td>\n      <td>13.0</td>\n      <td>0.0</td>\n      <td>6.71</td>\n      <td>0.0</td>\n      <td>7.1</td>\n    </tr>\n  </tbody>\n</table>\n</div>"
     },
     "metadata": {}
    }
   ],
   "source": [
    "# aggregate everything\n",
    "\n",
    "# sdis91_data\n",
    "\n",
    "# grippe_data\n",
    "# diarrhee_data,\n",
    "# varicelle_data\n",
    "\n",
    "# days_off_data\n",
    "# wwo_data\n",
    "\n",
    "\n",
    "# grippe_data.join(\n",
    "#     diarrhee_data,\n",
    "#     lsuffix='_grippe', rsuffix='_diarrhee',\n",
    "#     left\n",
    "# )\n",
    "\n",
    "diseases_data = grippe_data.merge(\n",
    "    diarrhee_data, on='yearweek', how='outer'\n",
    ").merge(\n",
    "    varicelle_data, on='yearweek', how='outer'\n",
    ")\n",
    "\n",
    "diseases_data.rename(\n",
    "    columns={\n",
    "        'inc_x': 'inc_grippe',\n",
    "        'inc_y': 'inc_diarrhee',\n",
    "        'inc': 'inc_varicelle',\n",
    "    },\n",
    "    inplace=True,\n",
    ")\n",
    "\n",
    "\n",
    "# set same type for every yearweek columns so it can be merged easier\n",
    "sdis91_data['yearweek'] = sdis91_data['yearweek'].astype('int64')\n",
    "diseases_data['yearweek'] = diseases_data['yearweek'].astype('int64')\n",
    "merged_data['yearweek'] = merged_data['yearweek'].astype('int64')\n",
    "days_off_data['yearweek'] = days_off_data['yearweek'].astype('int64')\n",
    "\n",
    "# merge all datasets\n",
    "merged_data = sdis91_data.merge(\n",
    "    diseases_data, on='yearweek', how='outer'\n",
    ").merge(\n",
    "    days_off_data, on='yearweek', how='outer'\n",
    ").merge(\n",
    "    wwo_data, on='yearweek', how='outer'\n",
    ")\n",
    "\n",
    "\n",
    "# replace NaN by 0 (\"false\") in has_vacation columns\n",
    "merged_data['has_vacation'].fillna(0, inplace=True)\n",
    "\n",
    "# drop all the columns where any value is NaN\n",
    "merged_data.dropna(axis=0, how='any', inplace=True)\n",
    "\n",
    "display(\n",
    "    merged_data.head(15),\n",
    "    merged_data.tail(15),\n",
    ")"
   ]
  },
  {
   "source": [
    "# -----------"
   ],
   "cell_type": "markdown",
   "metadata": {}
  }
 ],
 "metadata": {
  "kernelspec": {
   "name": "python3",
   "display_name": "Python 3.8.2 64-bit",
   "metadata": {
    "interpreter": {
     "hash": "2db524e06e9f5f4ffedc911c917cb75e12dbc923643829bf417064a77eb14d37"
    }
   }
  },
  "language_info": {
   "codemirror_mode": {
    "name": "ipython",
    "version": 2
   },
   "file_extension": ".py",
   "mimetype": "text/x-python",
   "name": "python",
   "nbconvert_exporter": "python",
   "pygments_lexer": "ipython2",
   "version": "3.8.2-final"
  }
 },
 "nbformat": 4,
 "nbformat_minor": 0
}