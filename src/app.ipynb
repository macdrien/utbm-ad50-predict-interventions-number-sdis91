{
 "cells": [
  {
   "source": [
    "## Imports"
   ],
   "cell_type": "markdown",
   "metadata": {}
  },
  {
   "cell_type": "code",
   "execution_count": 37,
   "metadata": {},
   "outputs": [],
   "source": [
    "from datetime import datetime\n",
    "\n",
    "import pandas as pd\n",
    "\n",
    "from sklearn.preprocessing import StandardScaler\n",
    "from sklearn.model_selection import train_test_split\n",
    "from sklearn.ensemble import RandomForestRegressor\n",
    "from sklearn.metrics import mean_absolute_error\n",
    "\n",
    "from utils import load_and_filter_csv"
   ]
  },
  {
   "cell_type": "markdown",
   "source": [
    "## Setup"
   ],
   "metadata": {
    "collapsed": false
   }
  },
  {
   "cell_type": "code",
   "execution_count": 20,
   "outputs": [
    {
     "output_type": "stream",
     "name": "stdout",
     "text": [
      "Import SDIS data\n",
      "Import flu data\n",
      "Import diarrhoea data\n",
      "Import chickenpox data\n",
      "Import days_off data\n",
      "Import weather data\n",
      "Setup complete\n"
     ]
    }
   ],
   "source": [
    "datadir = '../data/'\n",
    "sdis91_filepath = datadir + 'interventions-hebdo-2010-2017.csv'\n",
    "grippe_filepath = datadir + 'incidence-RDD-3-syndromes-grippaux.csv'\n",
    "diarrhee_filepath = datadir + 'incidence-RDD-6-syndrome-diarrhee-aigue.csv'\n",
    "varicelle_filepath = datadir + 'incidence-RDD-7-varicelle.csv'\n",
    "days_off_filepath = datadir + 'hollidays_and_days_off.csv'\n",
    "wwo_filepath = datadir + 'wwo_hist.csv'\n",
    "\n",
    "filter_rdd_files = lambda row: row[1]['geo_name'] == 'ILE-DE-FRANCE' and\\\n",
    "                               201001 <= row[1]['week'] <= 201752\n",
    "\n",
    "print('Import SDIS data')\n",
    "sdis91_data = load_and_filter_csv(sdis91_filepath, None, separator=';')\n",
    "\n",
    "print('Import flu data')\n",
    "grippe_data = load_and_filter_csv(grippe_filepath, filter_rdd_files)\n",
    "\n",
    "print('Import diarrhoea data')\n",
    "diarrhee_data = load_and_filter_csv(diarrhee_filepath, filter_rdd_files)\n",
    "\n",
    "print('Import chickenpox data')\n",
    "varicelle_data = load_and_filter_csv(varicelle_filepath, filter_rdd_files)\n",
    "\n",
    "rdd_datasets = {\n",
    "    \"grippe\": grippe_data,\n",
    "    \"diarrhee\": diarrhee_data,\n",
    "    \"varicelle\": varicelle_data\n",
    "}\n",
    "\n",
    "print('Import days_off data')\n",
    "days_off_data = load_and_filter_csv(days_off_filepath,\n",
    "                                    lambda row:'2010-01-01' <= row[1]['date'] <= '2017-12-12')\n",
    "\n",
    "print('Import weather data')\n",
    "wwo_data = load_and_filter_csv(wwo_filepath, None)\n",
    "\n",
    "print('Setup complete')"
   ],
   "metadata": {
    "collapsed": false,
    "pycharm": {
     "name": "#%%\n"
    }
   }
  },
  {
   "cell_type": "code",
   "execution_count": 22,
   "metadata": {},
   "outputs": [
    {
     "output_type": "display_data",
     "data": {
      "text/plain": "   nb_ope ope_categorie yearweek\n0       0          INCN   201001\n1       0          INCN   201001\n2       0          INCN   201001\n3       0          INCN   201001\n4       0          INCN   201001",
      "text/html": "<div>\n<style scoped>\n    .dataframe tbody tr th:only-of-type {\n        vertical-align: middle;\n    }\n\n    .dataframe tbody tr th {\n        vertical-align: top;\n    }\n\n    .dataframe thead th {\n        text-align: right;\n    }\n</style>\n<table border=\"1\" class=\"dataframe\">\n  <thead>\n    <tr style=\"text-align: right;\">\n      <th></th>\n      <th>nb_ope</th>\n      <th>ope_categorie</th>\n      <th>yearweek</th>\n    </tr>\n  </thead>\n  <tbody>\n    <tr>\n      <th>0</th>\n      <td>0</td>\n      <td>INCN</td>\n      <td>201001</td>\n    </tr>\n    <tr>\n      <th>1</th>\n      <td>0</td>\n      <td>INCN</td>\n      <td>201001</td>\n    </tr>\n    <tr>\n      <th>2</th>\n      <td>0</td>\n      <td>INCN</td>\n      <td>201001</td>\n    </tr>\n    <tr>\n      <th>3</th>\n      <td>0</td>\n      <td>INCN</td>\n      <td>201001</td>\n    </tr>\n    <tr>\n      <th>4</th>\n      <td>0</td>\n      <td>INCN</td>\n      <td>201001</td>\n    </tr>\n  </tbody>\n</table>\n</div>"
     },
     "metadata": {}
    },
    {
     "output_type": "display_data",
     "data": {
      "text/plain": "        nb_ope ope_categorie yearweek\n405036      59          SUAP   201752\n405037      64          SUAP   201752\n405038      77          SUAP   201752\n405039      84          SUAP   201752\n405040     103          SUAP   201752",
      "text/html": "<div>\n<style scoped>\n    .dataframe tbody tr th:only-of-type {\n        vertical-align: middle;\n    }\n\n    .dataframe tbody tr th {\n        vertical-align: top;\n    }\n\n    .dataframe thead th {\n        text-align: right;\n    }\n</style>\n<table border=\"1\" class=\"dataframe\">\n  <thead>\n    <tr style=\"text-align: right;\">\n      <th></th>\n      <th>nb_ope</th>\n      <th>ope_categorie</th>\n      <th>yearweek</th>\n    </tr>\n  </thead>\n  <tbody>\n    <tr>\n      <th>405036</th>\n      <td>59</td>\n      <td>SUAP</td>\n      <td>201752</td>\n    </tr>\n    <tr>\n      <th>405037</th>\n      <td>64</td>\n      <td>SUAP</td>\n      <td>201752</td>\n    </tr>\n    <tr>\n      <th>405038</th>\n      <td>77</td>\n      <td>SUAP</td>\n      <td>201752</td>\n    </tr>\n    <tr>\n      <th>405039</th>\n      <td>84</td>\n      <td>SUAP</td>\n      <td>201752</td>\n    </tr>\n    <tr>\n      <th>405040</th>\n      <td>103</td>\n      <td>SUAP</td>\n      <td>201752</td>\n    </tr>\n  </tbody>\n</table>\n</div>"
     },
     "metadata": {}
    }
   ],
   "source": [
    "display(\n",
    "    sdis91_data.head(),\n",
    "    sdis91_data.tail(),\n",
    ")"
   ]
  },
  {
   "cell_type": "code",
   "execution_count": 24,
   "metadata": {},
   "outputs": [
    {
     "output_type": "error",
     "ename": "AttributeError",
     "evalue": "'DataFrame' object has no attribute 'ope_annee'",
     "traceback": [
      "\u001b[0;31m---------------------------------------------------------------------------\u001b[0m",
      "\u001b[0;31mAttributeError\u001b[0m                            Traceback (most recent call last)",
      "\u001b[0;32m<ipython-input-24-c0d89028a198>\u001b[0m in \u001b[0;36m<module>\u001b[0;34m\u001b[0m\n\u001b[1;32m      2\u001b[0m \u001b[0;34m\u001b[0m\u001b[0m\n\u001b[1;32m      3\u001b[0m \u001b[0;31m# sdis91_data['yearweek'] = sdis91_data.ope_annee.astype(int).astype(str) + sdis91_data.ope_semaine.apply('{:0>2}'.format)\u001b[0m\u001b[0;34m\u001b[0m\u001b[0;34m\u001b[0m\u001b[0;34m\u001b[0m\u001b[0m\n\u001b[0;32m----> 4\u001b[0;31m \u001b[0msdis91_data\u001b[0m\u001b[0;34m[\u001b[0m\u001b[0;34m'yearweek'\u001b[0m\u001b[0;34m]\u001b[0m \u001b[0;34m=\u001b[0m \u001b[0msdis91_data\u001b[0m\u001b[0;34m.\u001b[0m\u001b[0mope_annee\u001b[0m\u001b[0;34m.\u001b[0m\u001b[0mastype\u001b[0m\u001b[0;34m(\u001b[0m\u001b[0mint\u001b[0m\u001b[0;34m)\u001b[0m\u001b[0;34m.\u001b[0m\u001b[0mastype\u001b[0m\u001b[0;34m(\u001b[0m\u001b[0mstr\u001b[0m\u001b[0;34m)\u001b[0m \u001b[0;34m+\u001b[0m \u001b[0msdis91_data\u001b[0m\u001b[0;34m.\u001b[0m\u001b[0mope_semaine\u001b[0m\u001b[0;34m.\u001b[0m\u001b[0mastype\u001b[0m\u001b[0;34m(\u001b[0m\u001b[0mint\u001b[0m\u001b[0;34m)\u001b[0m\u001b[0;34m.\u001b[0m\u001b[0mmap\u001b[0m\u001b[0;34m(\u001b[0m\u001b[0;34m\"{:02}\"\u001b[0m\u001b[0;34m.\u001b[0m\u001b[0mformat\u001b[0m\u001b[0;34m)\u001b[0m\u001b[0;34m\u001b[0m\u001b[0;34m\u001b[0m\u001b[0m\n\u001b[0m\u001b[1;32m      5\u001b[0m \u001b[0;34m\u001b[0m\u001b[0m\n\u001b[1;32m      6\u001b[0m \u001b[0;31m# explanation :\u001b[0m\u001b[0;34m\u001b[0m\u001b[0;34m\u001b[0m\u001b[0;34m\u001b[0m\u001b[0m\n",
      "\u001b[0;32m~/.local/lib/python3.8/site-packages/pandas/core/generic.py\u001b[0m in \u001b[0;36m__getattr__\u001b[0;34m(self, name)\u001b[0m\n\u001b[1;32m   5139\u001b[0m             \u001b[0;32mif\u001b[0m \u001b[0mself\u001b[0m\u001b[0;34m.\u001b[0m\u001b[0m_info_axis\u001b[0m\u001b[0;34m.\u001b[0m\u001b[0m_can_hold_identifiers_and_holds_name\u001b[0m\u001b[0;34m(\u001b[0m\u001b[0mname\u001b[0m\u001b[0;34m)\u001b[0m\u001b[0;34m:\u001b[0m\u001b[0;34m\u001b[0m\u001b[0;34m\u001b[0m\u001b[0m\n\u001b[1;32m   5140\u001b[0m                 \u001b[0;32mreturn\u001b[0m \u001b[0mself\u001b[0m\u001b[0;34m[\u001b[0m\u001b[0mname\u001b[0m\u001b[0;34m]\u001b[0m\u001b[0;34m\u001b[0m\u001b[0;34m\u001b[0m\u001b[0m\n\u001b[0;32m-> 5141\u001b[0;31m             \u001b[0;32mreturn\u001b[0m \u001b[0mobject\u001b[0m\u001b[0;34m.\u001b[0m\u001b[0m__getattribute__\u001b[0m\u001b[0;34m(\u001b[0m\u001b[0mself\u001b[0m\u001b[0;34m,\u001b[0m \u001b[0mname\u001b[0m\u001b[0;34m)\u001b[0m\u001b[0;34m\u001b[0m\u001b[0;34m\u001b[0m\u001b[0m\n\u001b[0m\u001b[1;32m   5142\u001b[0m \u001b[0;34m\u001b[0m\u001b[0m\n\u001b[1;32m   5143\u001b[0m     \u001b[0;32mdef\u001b[0m \u001b[0m__setattr__\u001b[0m\u001b[0;34m(\u001b[0m\u001b[0mself\u001b[0m\u001b[0;34m,\u001b[0m \u001b[0mname\u001b[0m\u001b[0;34m:\u001b[0m \u001b[0mstr\u001b[0m\u001b[0;34m,\u001b[0m \u001b[0mvalue\u001b[0m\u001b[0;34m)\u001b[0m \u001b[0;34m->\u001b[0m \u001b[0;32mNone\u001b[0m\u001b[0;34m:\u001b[0m\u001b[0;34m\u001b[0m\u001b[0;34m\u001b[0m\u001b[0m\n",
      "\u001b[0;31mAttributeError\u001b[0m: 'DataFrame' object has no attribute 'ope_annee'"
     ]
    }
   ],
   "source": [
    "# sdis91_data cleanup\n",
    "\n",
    "# sdis91_data['yearweek'] = sdis91_data.ope_annee.astype(int).astype(str) + sdis91_data.ope_semaine.apply('{:0>2}'.format)\n",
    "sdis91_data['yearweek'] = sdis91_data.ope_annee.astype(int).astype(str) + sdis91_data.ope_semaine.astype(int).map(\"{:02}\".format)\n",
    "\n",
    "# explanation :\n",
    "# ope_annee.astype(int)\n",
    "# we get rid of the .0 after the year then convert to string\n",
    "\n",
    "# ope_semaine.apply('{:0>2}'.format)\n",
    "# '1' -> '01' (explicitly converting to string)\n",
    "\n",
    "# we convert both left and right operands to strings or\n",
    "# else they are summed instead of concatenated\n",
    "\n",
    "# sdis91_data['yearweek'] = sdis91_data['yearweek'].astype(float).astype(int) ##########\n",
    "# when astype(int) is used directly, it causes the following error:\n",
    "# invalid literal for int() with base 10 (...)\n",
    "\n",
    "sdis91_data.drop('ope_nom_commune', axis=1, inplace=True)\n",
    "sdis91_data.drop('ope_code_postal', axis=1, inplace=True)\n",
    "sdis91_data.drop('ope_code_insee', axis=1, inplace=True)\n",
    "\n",
    "\n",
    "# drop annee and semaine because we now have yearweek (ISO8601 Yearweek)\n",
    "sdis91_data.drop('ope_annee', axis=1, inplace=True)\n",
    "sdis91_data.drop('ope_semaine', axis=1, inplace=True)\n",
    "\n",
    "# sdis91_data.rename(\n",
    "#     columns={'ope_code_insee': 'insee_commune'},\n",
    "#     inplace=True,\n",
    "# )\n",
    "\n",
    "# sdis91_data['insee_commune'] = sdis91_data['insee_commune'].astype(int)\n",
    "sdis91_data['nb_ope'] = sdis91_data['nb_ope'].astype(int)\n",
    "\n",
    "\n",
    "display(\n",
    "    sdis91_data.head(),\n",
    "    sdis91_data.tail(),\n",
    ")\n",
    "\n",
    "\n"
   ]
  },
  {
   "cell_type": "code",
   "execution_count": 23,
   "metadata": {},
   "outputs": [
    {
     "output_type": "display_data",
     "data": {
      "text/plain": "  yearweek  ACCI  AUTR  INCN  INCU  SUAP  ope_total\n0   201001    81   232     0   129  1397       1839\n1   201002    84   163     1   144  1383       1775\n2   201003    74   107     0   123  1192       1496\n3   201004    78   105     0   130  1316       1629\n4   201005    84   111     0   117  1341       1653\n5   201006   103   129     1   120  1350       1703\n6   201007    84   106     0   145  1307       1642\n7   201008    72  1086     0   133  1197       2488\n8   201009    74   161     5   156  1095       1491\n9   201010    58   124    11   152  1238       1583",
      "text/html": "<div>\n<style scoped>\n    .dataframe tbody tr th:only-of-type {\n        vertical-align: middle;\n    }\n\n    .dataframe tbody tr th {\n        vertical-align: top;\n    }\n\n    .dataframe thead th {\n        text-align: right;\n    }\n</style>\n<table border=\"1\" class=\"dataframe\">\n  <thead>\n    <tr style=\"text-align: right;\">\n      <th></th>\n      <th>yearweek</th>\n      <th>ACCI</th>\n      <th>AUTR</th>\n      <th>INCN</th>\n      <th>INCU</th>\n      <th>SUAP</th>\n      <th>ope_total</th>\n    </tr>\n  </thead>\n  <tbody>\n    <tr>\n      <th>0</th>\n      <td>201001</td>\n      <td>81</td>\n      <td>232</td>\n      <td>0</td>\n      <td>129</td>\n      <td>1397</td>\n      <td>1839</td>\n    </tr>\n    <tr>\n      <th>1</th>\n      <td>201002</td>\n      <td>84</td>\n      <td>163</td>\n      <td>1</td>\n      <td>144</td>\n      <td>1383</td>\n      <td>1775</td>\n    </tr>\n    <tr>\n      <th>2</th>\n      <td>201003</td>\n      <td>74</td>\n      <td>107</td>\n      <td>0</td>\n      <td>123</td>\n      <td>1192</td>\n      <td>1496</td>\n    </tr>\n    <tr>\n      <th>3</th>\n      <td>201004</td>\n      <td>78</td>\n      <td>105</td>\n      <td>0</td>\n      <td>130</td>\n      <td>1316</td>\n      <td>1629</td>\n    </tr>\n    <tr>\n      <th>4</th>\n      <td>201005</td>\n      <td>84</td>\n      <td>111</td>\n      <td>0</td>\n      <td>117</td>\n      <td>1341</td>\n      <td>1653</td>\n    </tr>\n    <tr>\n      <th>5</th>\n      <td>201006</td>\n      <td>103</td>\n      <td>129</td>\n      <td>1</td>\n      <td>120</td>\n      <td>1350</td>\n      <td>1703</td>\n    </tr>\n    <tr>\n      <th>6</th>\n      <td>201007</td>\n      <td>84</td>\n      <td>106</td>\n      <td>0</td>\n      <td>145</td>\n      <td>1307</td>\n      <td>1642</td>\n    </tr>\n    <tr>\n      <th>7</th>\n      <td>201008</td>\n      <td>72</td>\n      <td>1086</td>\n      <td>0</td>\n      <td>133</td>\n      <td>1197</td>\n      <td>2488</td>\n    </tr>\n    <tr>\n      <th>8</th>\n      <td>201009</td>\n      <td>74</td>\n      <td>161</td>\n      <td>5</td>\n      <td>156</td>\n      <td>1095</td>\n      <td>1491</td>\n    </tr>\n    <tr>\n      <th>9</th>\n      <td>201010</td>\n      <td>58</td>\n      <td>124</td>\n      <td>11</td>\n      <td>152</td>\n      <td>1238</td>\n      <td>1583</td>\n    </tr>\n  </tbody>\n</table>\n</div>"
     },
     "metadata": {}
    },
    {
     "output_type": "display_data",
     "data": {
      "text/plain": "    yearweek  ACCI  AUTR  INCN  INCU  SUAP  ope_total\n406   201743    92    79     1    88  1411       1671\n407   201744    84    58     2   148  1313       1605\n408   201745   107    72     2   107  1500       1788\n409   201746    96    73     1   104  1540       1814\n410   201747   120    50     2   106  1622       1900\n411   201748   139    48     3    88  1502       1780\n412   201749   110    59     2    92  1645       1908\n413   201750   145   195     0    75  1737       2152\n414   201751   129    56     1    93  1632       1911\n415   201752   118    98     1   140  1972       2329",
      "text/html": "<div>\n<style scoped>\n    .dataframe tbody tr th:only-of-type {\n        vertical-align: middle;\n    }\n\n    .dataframe tbody tr th {\n        vertical-align: top;\n    }\n\n    .dataframe thead th {\n        text-align: right;\n    }\n</style>\n<table border=\"1\" class=\"dataframe\">\n  <thead>\n    <tr style=\"text-align: right;\">\n      <th></th>\n      <th>yearweek</th>\n      <th>ACCI</th>\n      <th>AUTR</th>\n      <th>INCN</th>\n      <th>INCU</th>\n      <th>SUAP</th>\n      <th>ope_total</th>\n    </tr>\n  </thead>\n  <tbody>\n    <tr>\n      <th>406</th>\n      <td>201743</td>\n      <td>92</td>\n      <td>79</td>\n      <td>1</td>\n      <td>88</td>\n      <td>1411</td>\n      <td>1671</td>\n    </tr>\n    <tr>\n      <th>407</th>\n      <td>201744</td>\n      <td>84</td>\n      <td>58</td>\n      <td>2</td>\n      <td>148</td>\n      <td>1313</td>\n      <td>1605</td>\n    </tr>\n    <tr>\n      <th>408</th>\n      <td>201745</td>\n      <td>107</td>\n      <td>72</td>\n      <td>2</td>\n      <td>107</td>\n      <td>1500</td>\n      <td>1788</td>\n    </tr>\n    <tr>\n      <th>409</th>\n      <td>201746</td>\n      <td>96</td>\n      <td>73</td>\n      <td>1</td>\n      <td>104</td>\n      <td>1540</td>\n      <td>1814</td>\n    </tr>\n    <tr>\n      <th>410</th>\n      <td>201747</td>\n      <td>120</td>\n      <td>50</td>\n      <td>2</td>\n      <td>106</td>\n      <td>1622</td>\n      <td>1900</td>\n    </tr>\n    <tr>\n      <th>411</th>\n      <td>201748</td>\n      <td>139</td>\n      <td>48</td>\n      <td>3</td>\n      <td>88</td>\n      <td>1502</td>\n      <td>1780</td>\n    </tr>\n    <tr>\n      <th>412</th>\n      <td>201749</td>\n      <td>110</td>\n      <td>59</td>\n      <td>2</td>\n      <td>92</td>\n      <td>1645</td>\n      <td>1908</td>\n    </tr>\n    <tr>\n      <th>413</th>\n      <td>201750</td>\n      <td>145</td>\n      <td>195</td>\n      <td>0</td>\n      <td>75</td>\n      <td>1737</td>\n      <td>2152</td>\n    </tr>\n    <tr>\n      <th>414</th>\n      <td>201751</td>\n      <td>129</td>\n      <td>56</td>\n      <td>1</td>\n      <td>93</td>\n      <td>1632</td>\n      <td>1911</td>\n    </tr>\n    <tr>\n      <th>415</th>\n      <td>201752</td>\n      <td>118</td>\n      <td>98</td>\n      <td>1</td>\n      <td>140</td>\n      <td>1972</td>\n      <td>2329</td>\n    </tr>\n  </tbody>\n</table>\n</div>"
     },
     "metadata": {}
    }
   ],
   "source": [
    "# group by on sdis91 dataset\n",
    "\n",
    "sdis91_data = sdis91_data.groupby(['yearweek', 'ope_categorie']).nb_ope.sum().unstack().reset_index()\n",
    "\n",
    "# get rid of index name, as it is by default \"ope_categorie\"\n",
    "sdis91_data.columns.name = None\n",
    "\n",
    "# add total_ope column\n",
    "sdis91_data['ope_total'] = sdis91_data['ACCI'] + sdis91_data['AUTR'] + sdis91_data['INCN'] + sdis91_data['INCU'] + sdis91_data['SUAP']\n",
    "\n",
    "# rename operation categories columns\n",
    "# sdis91_data.rename(\n",
    "#     columns={\n",
    "#         'ACCI': 'ope_ACCI',\n",
    "#         'AUTR': 'ope_AUTR',\n",
    "#         'INCN': 'ope_INCN',\n",
    "#         'INCU': 'ope_INCU',\n",
    "#         'SUAP': 'ope_SUAP',\n",
    "#     },\n",
    "#     inplace=True,\n",
    "# )\n",
    "\n",
    "display(\n",
    "    sdis91_data.head(10),\n",
    "    sdis91_data.tail(10),\n",
    ")"
   ]
  },
  {
   "cell_type": "code",
   "execution_count": 25,
   "metadata": {},
   "outputs": [
    {
     "output_type": "display_data",
     "data": {
      "text/plain": "'grippe'"
     },
     "metadata": {}
    },
    {
     "output_type": "display_data",
     "data": {
      "text/plain": "     week indicator    inc inc_low inc_up inc100 inc100_low inc100_up  \\\n0  201752         3  48723   38697  58749    402        319       485   \n1  201751         3  49403   40654  58152    408        336       480   \n2  201750         3  39953   32596  47310    330        269       391   \n\n  geo_insee       geo_name  \n0        11  ILE-DE-FRANCE  \n1        11  ILE-DE-FRANCE  \n2        11  ILE-DE-FRANCE  ",
      "text/html": "<div>\n<style scoped>\n    .dataframe tbody tr th:only-of-type {\n        vertical-align: middle;\n    }\n\n    .dataframe tbody tr th {\n        vertical-align: top;\n    }\n\n    .dataframe thead th {\n        text-align: right;\n    }\n</style>\n<table border=\"1\" class=\"dataframe\">\n  <thead>\n    <tr style=\"text-align: right;\">\n      <th></th>\n      <th>week</th>\n      <th>indicator</th>\n      <th>inc</th>\n      <th>inc_low</th>\n      <th>inc_up</th>\n      <th>inc100</th>\n      <th>inc100_low</th>\n      <th>inc100_up</th>\n      <th>geo_insee</th>\n      <th>geo_name</th>\n    </tr>\n  </thead>\n  <tbody>\n    <tr>\n      <th>0</th>\n      <td>201752</td>\n      <td>3</td>\n      <td>48723</td>\n      <td>38697</td>\n      <td>58749</td>\n      <td>402</td>\n      <td>319</td>\n      <td>485</td>\n      <td>11</td>\n      <td>ILE-DE-FRANCE</td>\n    </tr>\n    <tr>\n      <th>1</th>\n      <td>201751</td>\n      <td>3</td>\n      <td>49403</td>\n      <td>40654</td>\n      <td>58152</td>\n      <td>408</td>\n      <td>336</td>\n      <td>480</td>\n      <td>11</td>\n      <td>ILE-DE-FRANCE</td>\n    </tr>\n    <tr>\n      <th>2</th>\n      <td>201750</td>\n      <td>3</td>\n      <td>39953</td>\n      <td>32596</td>\n      <td>47310</td>\n      <td>330</td>\n      <td>269</td>\n      <td>391</td>\n      <td>11</td>\n      <td>ILE-DE-FRANCE</td>\n    </tr>\n  </tbody>\n</table>\n</div>"
     },
     "metadata": {}
    },
    {
     "output_type": "display_data",
     "data": {
      "text/plain": "       week indicator    inc inc_low inc_up inc100 inc100_low inc100_up  \\\n414  201003         3   4816    1817   7815     41         15        67   \n415  201002         3   9134    4877  13391     78         42       114   \n416  201001         3  10207    5847  14567     87         50       124   \n\n    geo_insee       geo_name  \n414        11  ILE-DE-FRANCE  \n415        11  ILE-DE-FRANCE  \n416        11  ILE-DE-FRANCE  ",
      "text/html": "<div>\n<style scoped>\n    .dataframe tbody tr th:only-of-type {\n        vertical-align: middle;\n    }\n\n    .dataframe tbody tr th {\n        vertical-align: top;\n    }\n\n    .dataframe thead th {\n        text-align: right;\n    }\n</style>\n<table border=\"1\" class=\"dataframe\">\n  <thead>\n    <tr style=\"text-align: right;\">\n      <th></th>\n      <th>week</th>\n      <th>indicator</th>\n      <th>inc</th>\n      <th>inc_low</th>\n      <th>inc_up</th>\n      <th>inc100</th>\n      <th>inc100_low</th>\n      <th>inc100_up</th>\n      <th>geo_insee</th>\n      <th>geo_name</th>\n    </tr>\n  </thead>\n  <tbody>\n    <tr>\n      <th>414</th>\n      <td>201003</td>\n      <td>3</td>\n      <td>4816</td>\n      <td>1817</td>\n      <td>7815</td>\n      <td>41</td>\n      <td>15</td>\n      <td>67</td>\n      <td>11</td>\n      <td>ILE-DE-FRANCE</td>\n    </tr>\n    <tr>\n      <th>415</th>\n      <td>201002</td>\n      <td>3</td>\n      <td>9134</td>\n      <td>4877</td>\n      <td>13391</td>\n      <td>78</td>\n      <td>42</td>\n      <td>114</td>\n      <td>11</td>\n      <td>ILE-DE-FRANCE</td>\n    </tr>\n    <tr>\n      <th>416</th>\n      <td>201001</td>\n      <td>3</td>\n      <td>10207</td>\n      <td>5847</td>\n      <td>14567</td>\n      <td>87</td>\n      <td>50</td>\n      <td>124</td>\n      <td>11</td>\n      <td>ILE-DE-FRANCE</td>\n    </tr>\n  </tbody>\n</table>\n</div>"
     },
     "metadata": {}
    },
    {
     "output_type": "display_data",
     "data": {
      "text/plain": "'diarrhee'"
     },
     "metadata": {}
    },
    {
     "output_type": "display_data",
     "data": {
      "text/plain": "     week indicator    inc inc_low inc_up inc100 inc100_low inc100_up  \\\n0  201752         6  14938    9638  20238    123         79       167   \n1  201751         6  16218   11040  21396    134         91       177   \n2  201750         6  20995   15775  26215    173        130       216   \n\n  geo_insee       geo_name  \n0        11  ILE-DE-FRANCE  \n1        11  ILE-DE-FRANCE  \n2        11  ILE-DE-FRANCE  ",
      "text/html": "<div>\n<style scoped>\n    .dataframe tbody tr th:only-of-type {\n        vertical-align: middle;\n    }\n\n    .dataframe tbody tr th {\n        vertical-align: top;\n    }\n\n    .dataframe thead th {\n        text-align: right;\n    }\n</style>\n<table border=\"1\" class=\"dataframe\">\n  <thead>\n    <tr style=\"text-align: right;\">\n      <th></th>\n      <th>week</th>\n      <th>indicator</th>\n      <th>inc</th>\n      <th>inc_low</th>\n      <th>inc_up</th>\n      <th>inc100</th>\n      <th>inc100_low</th>\n      <th>inc100_up</th>\n      <th>geo_insee</th>\n      <th>geo_name</th>\n    </tr>\n  </thead>\n  <tbody>\n    <tr>\n      <th>0</th>\n      <td>201752</td>\n      <td>6</td>\n      <td>14938</td>\n      <td>9638</td>\n      <td>20238</td>\n      <td>123</td>\n      <td>79</td>\n      <td>167</td>\n      <td>11</td>\n      <td>ILE-DE-FRANCE</td>\n    </tr>\n    <tr>\n      <th>1</th>\n      <td>201751</td>\n      <td>6</td>\n      <td>16218</td>\n      <td>11040</td>\n      <td>21396</td>\n      <td>134</td>\n      <td>91</td>\n      <td>177</td>\n      <td>11</td>\n      <td>ILE-DE-FRANCE</td>\n    </tr>\n    <tr>\n      <th>2</th>\n      <td>201750</td>\n      <td>6</td>\n      <td>20995</td>\n      <td>15775</td>\n      <td>26215</td>\n      <td>173</td>\n      <td>130</td>\n      <td>216</td>\n      <td>11</td>\n      <td>ILE-DE-FRANCE</td>\n    </tr>\n  </tbody>\n</table>\n</div>"
     },
     "metadata": {}
    },
    {
     "output_type": "display_data",
     "data": {
      "text/plain": "       week indicator    inc inc_low inc_up inc100 inc100_low inc100_up  \\\n414  201003         6  60448   49467  71429    518        424       612   \n415  201002         6  61576   48316  74836    527        413       641   \n416  201001         6  42889   33449  52329    367        286       448   \n\n    geo_insee       geo_name  \n414        11  ILE-DE-FRANCE  \n415        11  ILE-DE-FRANCE  \n416        11  ILE-DE-FRANCE  ",
      "text/html": "<div>\n<style scoped>\n    .dataframe tbody tr th:only-of-type {\n        vertical-align: middle;\n    }\n\n    .dataframe tbody tr th {\n        vertical-align: top;\n    }\n\n    .dataframe thead th {\n        text-align: right;\n    }\n</style>\n<table border=\"1\" class=\"dataframe\">\n  <thead>\n    <tr style=\"text-align: right;\">\n      <th></th>\n      <th>week</th>\n      <th>indicator</th>\n      <th>inc</th>\n      <th>inc_low</th>\n      <th>inc_up</th>\n      <th>inc100</th>\n      <th>inc100_low</th>\n      <th>inc100_up</th>\n      <th>geo_insee</th>\n      <th>geo_name</th>\n    </tr>\n  </thead>\n  <tbody>\n    <tr>\n      <th>414</th>\n      <td>201003</td>\n      <td>6</td>\n      <td>60448</td>\n      <td>49467</td>\n      <td>71429</td>\n      <td>518</td>\n      <td>424</td>\n      <td>612</td>\n      <td>11</td>\n      <td>ILE-DE-FRANCE</td>\n    </tr>\n    <tr>\n      <th>415</th>\n      <td>201002</td>\n      <td>6</td>\n      <td>61576</td>\n      <td>48316</td>\n      <td>74836</td>\n      <td>527</td>\n      <td>413</td>\n      <td>641</td>\n      <td>11</td>\n      <td>ILE-DE-FRANCE</td>\n    </tr>\n    <tr>\n      <th>416</th>\n      <td>201001</td>\n      <td>6</td>\n      <td>42889</td>\n      <td>33449</td>\n      <td>52329</td>\n      <td>367</td>\n      <td>286</td>\n      <td>448</td>\n      <td>11</td>\n      <td>ILE-DE-FRANCE</td>\n    </tr>\n  </tbody>\n</table>\n</div>"
     },
     "metadata": {}
    },
    {
     "output_type": "display_data",
     "data": {
      "text/plain": "'varicelle'"
     },
     "metadata": {}
    },
    {
     "output_type": "display_data",
     "data": {
      "text/plain": "     week indicator   inc inc_low inc_up inc100 inc100_low inc100_up  \\\n0  201752         7   368       0    920      3          0         8   \n1  201751         7   799       0   1962      7          0        17   \n2  201750         7  2228     476   3980     18          4        32   \n\n  geo_insee       geo_name  \n0        11  ILE-DE-FRANCE  \n1        11  ILE-DE-FRANCE  \n2        11  ILE-DE-FRANCE  ",
      "text/html": "<div>\n<style scoped>\n    .dataframe tbody tr th:only-of-type {\n        vertical-align: middle;\n    }\n\n    .dataframe tbody tr th {\n        vertical-align: top;\n    }\n\n    .dataframe thead th {\n        text-align: right;\n    }\n</style>\n<table border=\"1\" class=\"dataframe\">\n  <thead>\n    <tr style=\"text-align: right;\">\n      <th></th>\n      <th>week</th>\n      <th>indicator</th>\n      <th>inc</th>\n      <th>inc_low</th>\n      <th>inc_up</th>\n      <th>inc100</th>\n      <th>inc100_low</th>\n      <th>inc100_up</th>\n      <th>geo_insee</th>\n      <th>geo_name</th>\n    </tr>\n  </thead>\n  <tbody>\n    <tr>\n      <th>0</th>\n      <td>201752</td>\n      <td>7</td>\n      <td>368</td>\n      <td>0</td>\n      <td>920</td>\n      <td>3</td>\n      <td>0</td>\n      <td>8</td>\n      <td>11</td>\n      <td>ILE-DE-FRANCE</td>\n    </tr>\n    <tr>\n      <th>1</th>\n      <td>201751</td>\n      <td>7</td>\n      <td>799</td>\n      <td>0</td>\n      <td>1962</td>\n      <td>7</td>\n      <td>0</td>\n      <td>17</td>\n      <td>11</td>\n      <td>ILE-DE-FRANCE</td>\n    </tr>\n    <tr>\n      <th>2</th>\n      <td>201750</td>\n      <td>7</td>\n      <td>2228</td>\n      <td>476</td>\n      <td>3980</td>\n      <td>18</td>\n      <td>4</td>\n      <td>32</td>\n      <td>11</td>\n      <td>ILE-DE-FRANCE</td>\n    </tr>\n  </tbody>\n</table>\n</div>"
     },
     "metadata": {}
    },
    {
     "output_type": "display_data",
     "data": {
      "text/plain": "       week indicator   inc inc_low inc_up inc100 inc100_low inc100_up  \\\n414  201003         7  1420       0   3082     12          0        26   \n415  201002         7  3120     267   5973     27          3        51   \n416  201001         7  3735     242   7228     32          2        62   \n\n    geo_insee       geo_name  \n414        11  ILE-DE-FRANCE  \n415        11  ILE-DE-FRANCE  \n416        11  ILE-DE-FRANCE  ",
      "text/html": "<div>\n<style scoped>\n    .dataframe tbody tr th:only-of-type {\n        vertical-align: middle;\n    }\n\n    .dataframe tbody tr th {\n        vertical-align: top;\n    }\n\n    .dataframe thead th {\n        text-align: right;\n    }\n</style>\n<table border=\"1\" class=\"dataframe\">\n  <thead>\n    <tr style=\"text-align: right;\">\n      <th></th>\n      <th>week</th>\n      <th>indicator</th>\n      <th>inc</th>\n      <th>inc_low</th>\n      <th>inc_up</th>\n      <th>inc100</th>\n      <th>inc100_low</th>\n      <th>inc100_up</th>\n      <th>geo_insee</th>\n      <th>geo_name</th>\n    </tr>\n  </thead>\n  <tbody>\n    <tr>\n      <th>414</th>\n      <td>201003</td>\n      <td>7</td>\n      <td>1420</td>\n      <td>0</td>\n      <td>3082</td>\n      <td>12</td>\n      <td>0</td>\n      <td>26</td>\n      <td>11</td>\n      <td>ILE-DE-FRANCE</td>\n    </tr>\n    <tr>\n      <th>415</th>\n      <td>201002</td>\n      <td>7</td>\n      <td>3120</td>\n      <td>267</td>\n      <td>5973</td>\n      <td>27</td>\n      <td>3</td>\n      <td>51</td>\n      <td>11</td>\n      <td>ILE-DE-FRANCE</td>\n    </tr>\n    <tr>\n      <th>416</th>\n      <td>201001</td>\n      <td>7</td>\n      <td>3735</td>\n      <td>242</td>\n      <td>7228</td>\n      <td>32</td>\n      <td>2</td>\n      <td>62</td>\n      <td>11</td>\n      <td>ILE-DE-FRANCE</td>\n    </tr>\n  </tbody>\n</table>\n</div>"
     },
     "metadata": {}
    }
   ],
   "source": [
    "for dataset_name, dataset in rdd_datasets.items():\n",
    "    display(\n",
    "        dataset_name,\n",
    "        dataset.head(3),\n",
    "        dataset.tail(3),\n",
    "    )"
   ]
  },
  {
   "cell_type": "code",
   "execution_count": 26,
   "metadata": {},
   "outputs": [],
   "source": [
    "# rdd_datasets cleanup\n",
    "\n",
    "for _, rdd_dataset in rdd_datasets.items():\n",
    "\n",
    "    # always 11 and \"ILE-DE-FRANCE\"\n",
    "    rdd_dataset.drop('geo_name', axis=1, inplace=True)\n",
    "    rdd_dataset.drop('geo_insee', axis=1, inplace=True)\n",
    "\n",
    "    # always 3, representing grippe, \"Influenza-like illness\"\n",
    "    rdd_dataset.drop('indicator', axis=1, inplace=True)\n",
    "\n",
    "\n",
    "    # drop these values for now\n",
    "    rdd_dataset.drop('inc_low', axis=1, inplace=True)\n",
    "    rdd_dataset.drop('inc_up', axis=1, inplace=True)\n",
    "    rdd_dataset.drop('inc100', axis=1, inplace=True)\n",
    "    rdd_dataset.drop('inc100_low', axis=1, inplace=True)\n",
    "    rdd_dataset.drop('inc100_up', axis=1, inplace=True)\n",
    "\n",
    "    rdd_dataset.rename(\n",
    "        columns={'week': 'yearweek'},\n",
    "        inplace=True,\n",
    "    )"
   ]
  },
  {
   "cell_type": "code",
   "execution_count": 27,
   "metadata": {},
   "outputs": [
    {
     "output_type": "display_data",
     "data": {
      "text/plain": "'grippe'"
     },
     "metadata": {}
    },
    {
     "output_type": "display_data",
     "data": {
      "text/plain": "  yearweek    inc\n0   201752  48723\n1   201751  49403\n2   201750  39953",
      "text/html": "<div>\n<style scoped>\n    .dataframe tbody tr th:only-of-type {\n        vertical-align: middle;\n    }\n\n    .dataframe tbody tr th {\n        vertical-align: top;\n    }\n\n    .dataframe thead th {\n        text-align: right;\n    }\n</style>\n<table border=\"1\" class=\"dataframe\">\n  <thead>\n    <tr style=\"text-align: right;\">\n      <th></th>\n      <th>yearweek</th>\n      <th>inc</th>\n    </tr>\n  </thead>\n  <tbody>\n    <tr>\n      <th>0</th>\n      <td>201752</td>\n      <td>48723</td>\n    </tr>\n    <tr>\n      <th>1</th>\n      <td>201751</td>\n      <td>49403</td>\n    </tr>\n    <tr>\n      <th>2</th>\n      <td>201750</td>\n      <td>39953</td>\n    </tr>\n  </tbody>\n</table>\n</div>"
     },
     "metadata": {}
    },
    {
     "output_type": "display_data",
     "data": {
      "text/plain": "    yearweek    inc\n414   201003   4816\n415   201002   9134\n416   201001  10207",
      "text/html": "<div>\n<style scoped>\n    .dataframe tbody tr th:only-of-type {\n        vertical-align: middle;\n    }\n\n    .dataframe tbody tr th {\n        vertical-align: top;\n    }\n\n    .dataframe thead th {\n        text-align: right;\n    }\n</style>\n<table border=\"1\" class=\"dataframe\">\n  <thead>\n    <tr style=\"text-align: right;\">\n      <th></th>\n      <th>yearweek</th>\n      <th>inc</th>\n    </tr>\n  </thead>\n  <tbody>\n    <tr>\n      <th>414</th>\n      <td>201003</td>\n      <td>4816</td>\n    </tr>\n    <tr>\n      <th>415</th>\n      <td>201002</td>\n      <td>9134</td>\n    </tr>\n    <tr>\n      <th>416</th>\n      <td>201001</td>\n      <td>10207</td>\n    </tr>\n  </tbody>\n</table>\n</div>"
     },
     "metadata": {}
    },
    {
     "output_type": "display_data",
     "data": {
      "text/plain": "'diarrhee'"
     },
     "metadata": {}
    },
    {
     "output_type": "display_data",
     "data": {
      "text/plain": "  yearweek    inc\n0   201752  14938\n1   201751  16218\n2   201750  20995",
      "text/html": "<div>\n<style scoped>\n    .dataframe tbody tr th:only-of-type {\n        vertical-align: middle;\n    }\n\n    .dataframe tbody tr th {\n        vertical-align: top;\n    }\n\n    .dataframe thead th {\n        text-align: right;\n    }\n</style>\n<table border=\"1\" class=\"dataframe\">\n  <thead>\n    <tr style=\"text-align: right;\">\n      <th></th>\n      <th>yearweek</th>\n      <th>inc</th>\n    </tr>\n  </thead>\n  <tbody>\n    <tr>\n      <th>0</th>\n      <td>201752</td>\n      <td>14938</td>\n    </tr>\n    <tr>\n      <th>1</th>\n      <td>201751</td>\n      <td>16218</td>\n    </tr>\n    <tr>\n      <th>2</th>\n      <td>201750</td>\n      <td>20995</td>\n    </tr>\n  </tbody>\n</table>\n</div>"
     },
     "metadata": {}
    },
    {
     "output_type": "display_data",
     "data": {
      "text/plain": "    yearweek    inc\n414   201003  60448\n415   201002  61576\n416   201001  42889",
      "text/html": "<div>\n<style scoped>\n    .dataframe tbody tr th:only-of-type {\n        vertical-align: middle;\n    }\n\n    .dataframe tbody tr th {\n        vertical-align: top;\n    }\n\n    .dataframe thead th {\n        text-align: right;\n    }\n</style>\n<table border=\"1\" class=\"dataframe\">\n  <thead>\n    <tr style=\"text-align: right;\">\n      <th></th>\n      <th>yearweek</th>\n      <th>inc</th>\n    </tr>\n  </thead>\n  <tbody>\n    <tr>\n      <th>414</th>\n      <td>201003</td>\n      <td>60448</td>\n    </tr>\n    <tr>\n      <th>415</th>\n      <td>201002</td>\n      <td>61576</td>\n    </tr>\n    <tr>\n      <th>416</th>\n      <td>201001</td>\n      <td>42889</td>\n    </tr>\n  </tbody>\n</table>\n</div>"
     },
     "metadata": {}
    },
    {
     "output_type": "display_data",
     "data": {
      "text/plain": "'varicelle'"
     },
     "metadata": {}
    },
    {
     "output_type": "display_data",
     "data": {
      "text/plain": "  yearweek   inc\n0   201752   368\n1   201751   799\n2   201750  2228",
      "text/html": "<div>\n<style scoped>\n    .dataframe tbody tr th:only-of-type {\n        vertical-align: middle;\n    }\n\n    .dataframe tbody tr th {\n        vertical-align: top;\n    }\n\n    .dataframe thead th {\n        text-align: right;\n    }\n</style>\n<table border=\"1\" class=\"dataframe\">\n  <thead>\n    <tr style=\"text-align: right;\">\n      <th></th>\n      <th>yearweek</th>\n      <th>inc</th>\n    </tr>\n  </thead>\n  <tbody>\n    <tr>\n      <th>0</th>\n      <td>201752</td>\n      <td>368</td>\n    </tr>\n    <tr>\n      <th>1</th>\n      <td>201751</td>\n      <td>799</td>\n    </tr>\n    <tr>\n      <th>2</th>\n      <td>201750</td>\n      <td>2228</td>\n    </tr>\n  </tbody>\n</table>\n</div>"
     },
     "metadata": {}
    },
    {
     "output_type": "display_data",
     "data": {
      "text/plain": "    yearweek   inc\n414   201003  1420\n415   201002  3120\n416   201001  3735",
      "text/html": "<div>\n<style scoped>\n    .dataframe tbody tr th:only-of-type {\n        vertical-align: middle;\n    }\n\n    .dataframe tbody tr th {\n        vertical-align: top;\n    }\n\n    .dataframe thead th {\n        text-align: right;\n    }\n</style>\n<table border=\"1\" class=\"dataframe\">\n  <thead>\n    <tr style=\"text-align: right;\">\n      <th></th>\n      <th>yearweek</th>\n      <th>inc</th>\n    </tr>\n  </thead>\n  <tbody>\n    <tr>\n      <th>414</th>\n      <td>201003</td>\n      <td>1420</td>\n    </tr>\n    <tr>\n      <th>415</th>\n      <td>201002</td>\n      <td>3120</td>\n    </tr>\n    <tr>\n      <th>416</th>\n      <td>201001</td>\n      <td>3735</td>\n    </tr>\n  </tbody>\n</table>\n</div>"
     },
     "metadata": {}
    }
   ],
   "source": [
    "for dataset_name, dataset in rdd_datasets.items():\n",
    "    display(\n",
    "        dataset_name,\n",
    "        dataset.head(3),\n",
    "        dataset.tail(3),\n",
    "    )"
   ]
  },
  {
   "cell_type": "code",
   "execution_count": 28,
   "metadata": {},
   "outputs": [
    {
     "output_type": "display_data",
     "data": {
      "text/plain": "         date vacances_zone_a vacances_zone_b vacances_zone_c  \\\n0  2010-01-01            True            True            True   \n1  2010-01-02            True            True            True   \n2  2010-01-03            True            True            True   \n3  2010-02-06           False            True           False   \n4  2010-02-07           False            True           False   \n\n       nom_vacances  \n0  Vacances de Noël  \n1  Vacances de Noël  \n2  Vacances de Noël  \n3  Vacances d'hiver  \n4  Vacances d'hiver  ",
      "text/html": "<div>\n<style scoped>\n    .dataframe tbody tr th:only-of-type {\n        vertical-align: middle;\n    }\n\n    .dataframe tbody tr th {\n        vertical-align: top;\n    }\n\n    .dataframe thead th {\n        text-align: right;\n    }\n</style>\n<table border=\"1\" class=\"dataframe\">\n  <thead>\n    <tr style=\"text-align: right;\">\n      <th></th>\n      <th>date</th>\n      <th>vacances_zone_a</th>\n      <th>vacances_zone_b</th>\n      <th>vacances_zone_c</th>\n      <th>nom_vacances</th>\n    </tr>\n  </thead>\n  <tbody>\n    <tr>\n      <th>0</th>\n      <td>2010-01-01</td>\n      <td>True</td>\n      <td>True</td>\n      <td>True</td>\n      <td>Vacances de Noël</td>\n    </tr>\n    <tr>\n      <th>1</th>\n      <td>2010-01-02</td>\n      <td>True</td>\n      <td>True</td>\n      <td>True</td>\n      <td>Vacances de Noël</td>\n    </tr>\n    <tr>\n      <th>2</th>\n      <td>2010-01-03</td>\n      <td>True</td>\n      <td>True</td>\n      <td>True</td>\n      <td>Vacances de Noël</td>\n    </tr>\n    <tr>\n      <th>3</th>\n      <td>2010-02-06</td>\n      <td>False</td>\n      <td>True</td>\n      <td>False</td>\n      <td>Vacances d'hiver</td>\n    </tr>\n    <tr>\n      <th>4</th>\n      <td>2010-02-07</td>\n      <td>False</td>\n      <td>True</td>\n      <td>False</td>\n      <td>Vacances d'hiver</td>\n    </tr>\n  </tbody>\n</table>\n</div>"
     },
     "metadata": {}
    },
    {
     "output_type": "display_data",
     "data": {
      "text/plain": "            date vacances_zone_a vacances_zone_b vacances_zone_c  \\\n1193  2017-11-01            True            True            True   \n1194  2017-11-02            True            True            True   \n1195  2017-11-03            True            True            True   \n1196  2017-11-04            True            True            True   \n1197  2017-11-05            True            True            True   \n\n                  nom_vacances  \n1193  Vacances de la Toussaint  \n1194  Vacances de la Toussaint  \n1195  Vacances de la Toussaint  \n1196  Vacances de la Toussaint  \n1197  Vacances de la Toussaint  ",
      "text/html": "<div>\n<style scoped>\n    .dataframe tbody tr th:only-of-type {\n        vertical-align: middle;\n    }\n\n    .dataframe tbody tr th {\n        vertical-align: top;\n    }\n\n    .dataframe thead th {\n        text-align: right;\n    }\n</style>\n<table border=\"1\" class=\"dataframe\">\n  <thead>\n    <tr style=\"text-align: right;\">\n      <th></th>\n      <th>date</th>\n      <th>vacances_zone_a</th>\n      <th>vacances_zone_b</th>\n      <th>vacances_zone_c</th>\n      <th>nom_vacances</th>\n    </tr>\n  </thead>\n  <tbody>\n    <tr>\n      <th>1193</th>\n      <td>2017-11-01</td>\n      <td>True</td>\n      <td>True</td>\n      <td>True</td>\n      <td>Vacances de la Toussaint</td>\n    </tr>\n    <tr>\n      <th>1194</th>\n      <td>2017-11-02</td>\n      <td>True</td>\n      <td>True</td>\n      <td>True</td>\n      <td>Vacances de la Toussaint</td>\n    </tr>\n    <tr>\n      <th>1195</th>\n      <td>2017-11-03</td>\n      <td>True</td>\n      <td>True</td>\n      <td>True</td>\n      <td>Vacances de la Toussaint</td>\n    </tr>\n    <tr>\n      <th>1196</th>\n      <td>2017-11-04</td>\n      <td>True</td>\n      <td>True</td>\n      <td>True</td>\n      <td>Vacances de la Toussaint</td>\n    </tr>\n    <tr>\n      <th>1197</th>\n      <td>2017-11-05</td>\n      <td>True</td>\n      <td>True</td>\n      <td>True</td>\n      <td>Vacances de la Toussaint</td>\n    </tr>\n  </tbody>\n</table>\n</div>"
     },
     "metadata": {}
    }
   ],
   "source": [
    "display(\n",
    "    days_off_data.head(),\n",
    "    days_off_data.tail(),\n",
    ")"
   ]
  },
  {
   "cell_type": "code",
   "execution_count": 29,
   "metadata": {},
   "outputs": [
    {
     "output_type": "display_data",
     "data": {
      "text/plain": "    has_vacation yearweek\n0              1   201053\n1              1   201053\n2              1   201053\n17             1   201007\n18             1   201007",
      "text/html": "<div>\n<style scoped>\n    .dataframe tbody tr th:only-of-type {\n        vertical-align: middle;\n    }\n\n    .dataframe tbody tr th {\n        vertical-align: top;\n    }\n\n    .dataframe thead th {\n        text-align: right;\n    }\n</style>\n<table border=\"1\" class=\"dataframe\">\n  <thead>\n    <tr style=\"text-align: right;\">\n      <th></th>\n      <th>has_vacation</th>\n      <th>yearweek</th>\n    </tr>\n  </thead>\n  <tbody>\n    <tr>\n      <th>0</th>\n      <td>1</td>\n      <td>201053</td>\n    </tr>\n    <tr>\n      <th>1</th>\n      <td>1</td>\n      <td>201053</td>\n    </tr>\n    <tr>\n      <th>2</th>\n      <td>1</td>\n      <td>201053</td>\n    </tr>\n    <tr>\n      <th>17</th>\n      <td>1</td>\n      <td>201007</td>\n    </tr>\n    <tr>\n      <th>18</th>\n      <td>1</td>\n      <td>201007</td>\n    </tr>\n  </tbody>\n</table>\n</div>"
     },
     "metadata": {}
    },
    {
     "output_type": "display_data",
     "data": {
      "text/plain": "      has_vacation yearweek\n1193             1   201744\n1194             1   201744\n1195             1   201744\n1196             1   201744\n1197             1   201744",
      "text/html": "<div>\n<style scoped>\n    .dataframe tbody tr th:only-of-type {\n        vertical-align: middle;\n    }\n\n    .dataframe tbody tr th {\n        vertical-align: top;\n    }\n\n    .dataframe thead th {\n        text-align: right;\n    }\n</style>\n<table border=\"1\" class=\"dataframe\">\n  <thead>\n    <tr style=\"text-align: right;\">\n      <th></th>\n      <th>has_vacation</th>\n      <th>yearweek</th>\n    </tr>\n  </thead>\n  <tbody>\n    <tr>\n      <th>1193</th>\n      <td>1</td>\n      <td>201744</td>\n    </tr>\n    <tr>\n      <th>1194</th>\n      <td>1</td>\n      <td>201744</td>\n    </tr>\n    <tr>\n      <th>1195</th>\n      <td>1</td>\n      <td>201744</td>\n    </tr>\n    <tr>\n      <th>1196</th>\n      <td>1</td>\n      <td>201744</td>\n    </tr>\n    <tr>\n      <th>1197</th>\n      <td>1</td>\n      <td>201744</td>\n    </tr>\n  </tbody>\n</table>\n</div>"
     },
     "metadata": {}
    }
   ],
   "source": [
    "# vacation zone for Ile-De-France : Zone C\n",
    "days_off_data.drop('vacances_zone_a', axis=1, inplace=True)\n",
    "days_off_data.drop('vacances_zone_b', axis=1, inplace=True)\n",
    "\n",
    "# don't need the name\n",
    "days_off_data.drop('nom_vacances', axis=1, inplace=True)\n",
    "\n",
    "days_off_data['yearweek'] = days_off_data.apply(\n",
    "    lambda x:\n",
    "        # year\n",
    "        str(datetime.strptime(x['date'], '%Y-%m-%d').year) +\n",
    "\n",
    "        # plus week number (while adding leading 0 if needed)\n",
    "        \"{:02d}\".format(datetime.strptime(x['date'], '%Y-%m-%d').isocalendar()[1]),\n",
    "        axis=1\n",
    ")\n",
    "\n",
    "# date isn't needed anymore, as we now have yearweek\n",
    "days_off_data.drop('date', axis=1, inplace=True)\n",
    "\n",
    "days_off_data.rename(\n",
    "    columns={'vacances_zone_c': 'has_vacation'},\n",
    "    inplace=True,\n",
    ")\n",
    "\n",
    "# days_off_data does not contain a line per week, only a line where it is holiday in at\n",
    "# least one of the three zones, so now we have some lines where the \"has_vacation\"\n",
    "# column is false. It corresponds to when some other zone is in vacation, but not the zone C, we don't need it.\n",
    "days_off_data.drop(days_off_data[days_off_data.has_vacation == False].index, inplace=True)\n",
    "\n",
    "# 'not days_off_data.has_vacation' doesn't work (it is ambiguous), thus the use\n",
    "# of == False\n",
    "\n",
    "# replace \"True\" by 1\n",
    "days_off_data['has_vacation'] = days_off_data['has_vacation'].astype(int)\n",
    "\n",
    "display(\n",
    "    days_off_data.head(),\n",
    "    days_off_data.tail(),\n",
    ")"
   ]
  },
  {
   "cell_type": "code",
   "execution_count": 30,
   "metadata": {},
   "outputs": [
    {
     "output_type": "display_data",
     "data": {
      "text/plain": "     week  temperature_max  temperature_min  temperature_average  \\\n0  201752             13.0              0.0                 6.71   \n1  201751              9.0              2.0                 6.57   \n2  201750              9.0              1.0                 4.86   \n3  201749             10.0              0.0                 4.57   \n4  201748              9.0             -1.0                 3.00   \n\n   total_snow_cm  precipitation_mm                    city  \n0            0.0               7.1  Ondreville-Sur-Essonne  \n1            0.0               3.6  Ondreville-Sur-Essonne  \n2            0.0               6.9  Ondreville-Sur-Essonne  \n3            0.1               1.9  Ondreville-Sur-Essonne  \n4            0.0               8.5  Ondreville-Sur-Essonne  ",
      "text/html": "<div>\n<style scoped>\n    .dataframe tbody tr th:only-of-type {\n        vertical-align: middle;\n    }\n\n    .dataframe tbody tr th {\n        vertical-align: top;\n    }\n\n    .dataframe thead th {\n        text-align: right;\n    }\n</style>\n<table border=\"1\" class=\"dataframe\">\n  <thead>\n    <tr style=\"text-align: right;\">\n      <th></th>\n      <th>week</th>\n      <th>temperature_max</th>\n      <th>temperature_min</th>\n      <th>temperature_average</th>\n      <th>total_snow_cm</th>\n      <th>precipitation_mm</th>\n      <th>city</th>\n    </tr>\n  </thead>\n  <tbody>\n    <tr>\n      <th>0</th>\n      <td>201752</td>\n      <td>13.0</td>\n      <td>0.0</td>\n      <td>6.71</td>\n      <td>0.0</td>\n      <td>7.1</td>\n      <td>Ondreville-Sur-Essonne</td>\n    </tr>\n    <tr>\n      <th>1</th>\n      <td>201751</td>\n      <td>9.0</td>\n      <td>2.0</td>\n      <td>6.57</td>\n      <td>0.0</td>\n      <td>3.6</td>\n      <td>Ondreville-Sur-Essonne</td>\n    </tr>\n    <tr>\n      <th>2</th>\n      <td>201750</td>\n      <td>9.0</td>\n      <td>1.0</td>\n      <td>4.86</td>\n      <td>0.0</td>\n      <td>6.9</td>\n      <td>Ondreville-Sur-Essonne</td>\n    </tr>\n    <tr>\n      <th>3</th>\n      <td>201749</td>\n      <td>10.0</td>\n      <td>0.0</td>\n      <td>4.57</td>\n      <td>0.1</td>\n      <td>1.9</td>\n      <td>Ondreville-Sur-Essonne</td>\n    </tr>\n    <tr>\n      <th>4</th>\n      <td>201748</td>\n      <td>9.0</td>\n      <td>-1.0</td>\n      <td>3.00</td>\n      <td>0.0</td>\n      <td>8.5</td>\n      <td>Ondreville-Sur-Essonne</td>\n    </tr>\n  </tbody>\n</table>\n</div>"
     },
     "metadata": {}
    },
    {
     "output_type": "display_data",
     "data": {
      "text/plain": "       week  temperature_max  temperature_min  temperature_average  \\\n412  201005              9.0             -2.0                 4.29   \n413  201004              5.0             -5.0                 0.43   \n414  201003              7.0             -1.0                 2.29   \n415  201002              8.0             -5.0                 0.71   \n416  201001             -0.0            -10.0                -4.43   \n\n     total_snow_cm  precipitation_mm                    city  \n412            0.2              10.5  Ondreville-Sur-Essonne  \n413            0.2               0.7  Ondreville-Sur-Essonne  \n414            0.0               1.9  Ondreville-Sur-Essonne  \n415            1.5               2.5  Ondreville-Sur-Essonne  \n416            2.6               3.2  Ondreville-Sur-Essonne  ",
      "text/html": "<div>\n<style scoped>\n    .dataframe tbody tr th:only-of-type {\n        vertical-align: middle;\n    }\n\n    .dataframe tbody tr th {\n        vertical-align: top;\n    }\n\n    .dataframe thead th {\n        text-align: right;\n    }\n</style>\n<table border=\"1\" class=\"dataframe\">\n  <thead>\n    <tr style=\"text-align: right;\">\n      <th></th>\n      <th>week</th>\n      <th>temperature_max</th>\n      <th>temperature_min</th>\n      <th>temperature_average</th>\n      <th>total_snow_cm</th>\n      <th>precipitation_mm</th>\n      <th>city</th>\n    </tr>\n  </thead>\n  <tbody>\n    <tr>\n      <th>412</th>\n      <td>201005</td>\n      <td>9.0</td>\n      <td>-2.0</td>\n      <td>4.29</td>\n      <td>0.2</td>\n      <td>10.5</td>\n      <td>Ondreville-Sur-Essonne</td>\n    </tr>\n    <tr>\n      <th>413</th>\n      <td>201004</td>\n      <td>5.0</td>\n      <td>-5.0</td>\n      <td>0.43</td>\n      <td>0.2</td>\n      <td>0.7</td>\n      <td>Ondreville-Sur-Essonne</td>\n    </tr>\n    <tr>\n      <th>414</th>\n      <td>201003</td>\n      <td>7.0</td>\n      <td>-1.0</td>\n      <td>2.29</td>\n      <td>0.0</td>\n      <td>1.9</td>\n      <td>Ondreville-Sur-Essonne</td>\n    </tr>\n    <tr>\n      <th>415</th>\n      <td>201002</td>\n      <td>8.0</td>\n      <td>-5.0</td>\n      <td>0.71</td>\n      <td>1.5</td>\n      <td>2.5</td>\n      <td>Ondreville-Sur-Essonne</td>\n    </tr>\n    <tr>\n      <th>416</th>\n      <td>201001</td>\n      <td>-0.0</td>\n      <td>-10.0</td>\n      <td>-4.43</td>\n      <td>2.6</td>\n      <td>3.2</td>\n      <td>Ondreville-Sur-Essonne</td>\n    </tr>\n  </tbody>\n</table>\n</div>"
     },
     "metadata": {}
    }
   ],
   "source": [
    "display(\n",
    "    wwo_data.head(),\n",
    "    wwo_data.tail(),\n",
    ")"
   ]
  },
  {
   "cell_type": "code",
   "execution_count": 31,
   "metadata": {},
   "outputs": [
    {
     "output_type": "display_data",
     "data": {
      "text/plain": "   yearweek  temperature_max  temperature_min  temperature_average  \\\n0    201752             13.0              0.0                 6.71   \n1    201751              9.0              2.0                 6.57   \n2    201750              9.0              1.0                 4.86   \n3    201749             10.0              0.0                 4.57   \n4    201748              9.0             -1.0                 3.00   \n\n   total_snow_cm  precipitation_mm  \n0            0.0               7.1  \n1            0.0               3.6  \n2            0.0               6.9  \n3            0.1               1.9  \n4            0.0               8.5  ",
      "text/html": "<div>\n<style scoped>\n    .dataframe tbody tr th:only-of-type {\n        vertical-align: middle;\n    }\n\n    .dataframe tbody tr th {\n        vertical-align: top;\n    }\n\n    .dataframe thead th {\n        text-align: right;\n    }\n</style>\n<table border=\"1\" class=\"dataframe\">\n  <thead>\n    <tr style=\"text-align: right;\">\n      <th></th>\n      <th>yearweek</th>\n      <th>temperature_max</th>\n      <th>temperature_min</th>\n      <th>temperature_average</th>\n      <th>total_snow_cm</th>\n      <th>precipitation_mm</th>\n    </tr>\n  </thead>\n  <tbody>\n    <tr>\n      <th>0</th>\n      <td>201752</td>\n      <td>13.0</td>\n      <td>0.0</td>\n      <td>6.71</td>\n      <td>0.0</td>\n      <td>7.1</td>\n    </tr>\n    <tr>\n      <th>1</th>\n      <td>201751</td>\n      <td>9.0</td>\n      <td>2.0</td>\n      <td>6.57</td>\n      <td>0.0</td>\n      <td>3.6</td>\n    </tr>\n    <tr>\n      <th>2</th>\n      <td>201750</td>\n      <td>9.0</td>\n      <td>1.0</td>\n      <td>4.86</td>\n      <td>0.0</td>\n      <td>6.9</td>\n    </tr>\n    <tr>\n      <th>3</th>\n      <td>201749</td>\n      <td>10.0</td>\n      <td>0.0</td>\n      <td>4.57</td>\n      <td>0.1</td>\n      <td>1.9</td>\n    </tr>\n    <tr>\n      <th>4</th>\n      <td>201748</td>\n      <td>9.0</td>\n      <td>-1.0</td>\n      <td>3.00</td>\n      <td>0.0</td>\n      <td>8.5</td>\n    </tr>\n  </tbody>\n</table>\n</div>"
     },
     "metadata": {}
    },
    {
     "output_type": "display_data",
     "data": {
      "text/plain": "     yearweek  temperature_max  temperature_min  temperature_average  \\\n412    201005              9.0             -2.0                 4.29   \n413    201004              5.0             -5.0                 0.43   \n414    201003              7.0             -1.0                 2.29   \n415    201002              8.0             -5.0                 0.71   \n416    201001             -0.0            -10.0                -4.43   \n\n     total_snow_cm  precipitation_mm  \n412            0.2              10.5  \n413            0.2               0.7  \n414            0.0               1.9  \n415            1.5               2.5  \n416            2.6               3.2  ",
      "text/html": "<div>\n<style scoped>\n    .dataframe tbody tr th:only-of-type {\n        vertical-align: middle;\n    }\n\n    .dataframe tbody tr th {\n        vertical-align: top;\n    }\n\n    .dataframe thead th {\n        text-align: right;\n    }\n</style>\n<table border=\"1\" class=\"dataframe\">\n  <thead>\n    <tr style=\"text-align: right;\">\n      <th></th>\n      <th>yearweek</th>\n      <th>temperature_max</th>\n      <th>temperature_min</th>\n      <th>temperature_average</th>\n      <th>total_snow_cm</th>\n      <th>precipitation_mm</th>\n    </tr>\n  </thead>\n  <tbody>\n    <tr>\n      <th>412</th>\n      <td>201005</td>\n      <td>9.0</td>\n      <td>-2.0</td>\n      <td>4.29</td>\n      <td>0.2</td>\n      <td>10.5</td>\n    </tr>\n    <tr>\n      <th>413</th>\n      <td>201004</td>\n      <td>5.0</td>\n      <td>-5.0</td>\n      <td>0.43</td>\n      <td>0.2</td>\n      <td>0.7</td>\n    </tr>\n    <tr>\n      <th>414</th>\n      <td>201003</td>\n      <td>7.0</td>\n      <td>-1.0</td>\n      <td>2.29</td>\n      <td>0.0</td>\n      <td>1.9</td>\n    </tr>\n    <tr>\n      <th>415</th>\n      <td>201002</td>\n      <td>8.0</td>\n      <td>-5.0</td>\n      <td>0.71</td>\n      <td>1.5</td>\n      <td>2.5</td>\n    </tr>\n    <tr>\n      <th>416</th>\n      <td>201001</td>\n      <td>-0.0</td>\n      <td>-10.0</td>\n      <td>-4.43</td>\n      <td>2.6</td>\n      <td>3.2</td>\n    </tr>\n  </tbody>\n</table>\n</div>"
     },
     "metadata": {}
    }
   ],
   "source": [
    "# cleanup wwo_data\n",
    "\n",
    "# city is always \"Ondreville-Sur-Essonne\"\n",
    "wwo_data.drop('city', axis=1, inplace=True)\n",
    "\n",
    "wwo_data.rename(\n",
    "    columns={'week': 'yearweek'},\n",
    "    inplace=True,\n",
    ")\n",
    "\n",
    "display(\n",
    "    wwo_data.head(),\n",
    "    wwo_data.tail(),\n",
    ")"
   ]
  },
  {
   "cell_type": "code",
   "execution_count": 32,
   "metadata": {},
   "outputs": [
    {
     "output_type": "display_data",
     "data": {
      "text/plain": "    yearweek   ACCI    AUTR  INCN   INCU    SUAP  ope_total inc_grippe  \\\n0     201001   81.0   232.0   0.0  129.0  1397.0     1839.0      10207   \n1     201002   84.0   163.0   1.0  144.0  1383.0     1775.0       9134   \n2     201003   74.0   107.0   0.0  123.0  1192.0     1496.0       4816   \n3     201004   78.0   105.0   0.0  130.0  1316.0     1629.0       4348   \n4     201005   84.0   111.0   0.0  117.0  1341.0     1653.0       2888   \n5     201006  103.0   129.0   1.0  120.0  1350.0     1703.0       1695   \n6     201007   84.0   106.0   0.0  145.0  1307.0     1642.0       2646   \n7     201007   84.0   106.0   0.0  145.0  1307.0     1642.0       2646   \n8     201008   72.0  1086.0   0.0  133.0  1197.0     2488.0       3000   \n9     201008   72.0  1086.0   0.0  133.0  1197.0     2488.0       3000   \n10    201008   72.0  1086.0   0.0  133.0  1197.0     2488.0       3000   \n11    201008   72.0  1086.0   0.0  133.0  1197.0     2488.0       3000   \n12    201008   72.0  1086.0   0.0  133.0  1197.0     2488.0       3000   \n13    201008   72.0  1086.0   0.0  133.0  1197.0     2488.0       3000   \n14    201008   72.0  1086.0   0.0  133.0  1197.0     2488.0       3000   \n\n   inc_diarrhee inc_varicelle  has_vacation  temperature_max  temperature_min  \\\n0         42889          3735           0.0             -0.0            -10.0   \n1         61576          3120           0.0              8.0             -5.0   \n2         60448          1420           0.0              7.0             -1.0   \n3         61601          1284           0.0              5.0             -5.0   \n4         47258          6835           0.0              9.0             -2.0   \n5         44471          3463           0.0              3.0             -7.0   \n6         39867          7090           1.0              8.0             -6.0   \n7         39867          7090           1.0              8.0             -6.0   \n8         29301          5632           1.0             12.0              4.0   \n9         29301          5632           1.0             12.0              4.0   \n10        29301          5632           1.0             12.0              4.0   \n11        29301          5632           1.0             12.0              4.0   \n12        29301          5632           1.0             12.0              4.0   \n13        29301          5632           1.0             12.0              4.0   \n14        29301          5632           1.0             12.0              4.0   \n\n    temperature_average  total_snow_cm  precipitation_mm  \n0                 -4.43            2.6               3.2  \n1                  0.71            1.5               2.5  \n2                  2.29            0.0               1.9  \n3                  0.43            0.2               0.7  \n4                  4.29            0.2              10.5  \n5                 -2.57            0.7               1.8  \n6                  1.00            0.2               3.1  \n7                  1.00            0.2               3.1  \n8                  8.14            0.0               9.4  \n9                  8.14            0.0               9.4  \n10                 8.14            0.0               9.4  \n11                 8.14            0.0               9.4  \n12                 8.14            0.0               9.4  \n13                 8.14            0.0               9.4  \n14                 8.14            0.0               9.4  ",
      "text/html": "<div>\n<style scoped>\n    .dataframe tbody tr th:only-of-type {\n        vertical-align: middle;\n    }\n\n    .dataframe tbody tr th {\n        vertical-align: top;\n    }\n\n    .dataframe thead th {\n        text-align: right;\n    }\n</style>\n<table border=\"1\" class=\"dataframe\">\n  <thead>\n    <tr style=\"text-align: right;\">\n      <th></th>\n      <th>yearweek</th>\n      <th>ACCI</th>\n      <th>AUTR</th>\n      <th>INCN</th>\n      <th>INCU</th>\n      <th>SUAP</th>\n      <th>ope_total</th>\n      <th>inc_grippe</th>\n      <th>inc_diarrhee</th>\n      <th>inc_varicelle</th>\n      <th>has_vacation</th>\n      <th>temperature_max</th>\n      <th>temperature_min</th>\n      <th>temperature_average</th>\n      <th>total_snow_cm</th>\n      <th>precipitation_mm</th>\n    </tr>\n  </thead>\n  <tbody>\n    <tr>\n      <th>0</th>\n      <td>201001</td>\n      <td>81.0</td>\n      <td>232.0</td>\n      <td>0.0</td>\n      <td>129.0</td>\n      <td>1397.0</td>\n      <td>1839.0</td>\n      <td>10207</td>\n      <td>42889</td>\n      <td>3735</td>\n      <td>0.0</td>\n      <td>-0.0</td>\n      <td>-10.0</td>\n      <td>-4.43</td>\n      <td>2.6</td>\n      <td>3.2</td>\n    </tr>\n    <tr>\n      <th>1</th>\n      <td>201002</td>\n      <td>84.0</td>\n      <td>163.0</td>\n      <td>1.0</td>\n      <td>144.0</td>\n      <td>1383.0</td>\n      <td>1775.0</td>\n      <td>9134</td>\n      <td>61576</td>\n      <td>3120</td>\n      <td>0.0</td>\n      <td>8.0</td>\n      <td>-5.0</td>\n      <td>0.71</td>\n      <td>1.5</td>\n      <td>2.5</td>\n    </tr>\n    <tr>\n      <th>2</th>\n      <td>201003</td>\n      <td>74.0</td>\n      <td>107.0</td>\n      <td>0.0</td>\n      <td>123.0</td>\n      <td>1192.0</td>\n      <td>1496.0</td>\n      <td>4816</td>\n      <td>60448</td>\n      <td>1420</td>\n      <td>0.0</td>\n      <td>7.0</td>\n      <td>-1.0</td>\n      <td>2.29</td>\n      <td>0.0</td>\n      <td>1.9</td>\n    </tr>\n    <tr>\n      <th>3</th>\n      <td>201004</td>\n      <td>78.0</td>\n      <td>105.0</td>\n      <td>0.0</td>\n      <td>130.0</td>\n      <td>1316.0</td>\n      <td>1629.0</td>\n      <td>4348</td>\n      <td>61601</td>\n      <td>1284</td>\n      <td>0.0</td>\n      <td>5.0</td>\n      <td>-5.0</td>\n      <td>0.43</td>\n      <td>0.2</td>\n      <td>0.7</td>\n    </tr>\n    <tr>\n      <th>4</th>\n      <td>201005</td>\n      <td>84.0</td>\n      <td>111.0</td>\n      <td>0.0</td>\n      <td>117.0</td>\n      <td>1341.0</td>\n      <td>1653.0</td>\n      <td>2888</td>\n      <td>47258</td>\n      <td>6835</td>\n      <td>0.0</td>\n      <td>9.0</td>\n      <td>-2.0</td>\n      <td>4.29</td>\n      <td>0.2</td>\n      <td>10.5</td>\n    </tr>\n    <tr>\n      <th>5</th>\n      <td>201006</td>\n      <td>103.0</td>\n      <td>129.0</td>\n      <td>1.0</td>\n      <td>120.0</td>\n      <td>1350.0</td>\n      <td>1703.0</td>\n      <td>1695</td>\n      <td>44471</td>\n      <td>3463</td>\n      <td>0.0</td>\n      <td>3.0</td>\n      <td>-7.0</td>\n      <td>-2.57</td>\n      <td>0.7</td>\n      <td>1.8</td>\n    </tr>\n    <tr>\n      <th>6</th>\n      <td>201007</td>\n      <td>84.0</td>\n      <td>106.0</td>\n      <td>0.0</td>\n      <td>145.0</td>\n      <td>1307.0</td>\n      <td>1642.0</td>\n      <td>2646</td>\n      <td>39867</td>\n      <td>7090</td>\n      <td>1.0</td>\n      <td>8.0</td>\n      <td>-6.0</td>\n      <td>1.00</td>\n      <td>0.2</td>\n      <td>3.1</td>\n    </tr>\n    <tr>\n      <th>7</th>\n      <td>201007</td>\n      <td>84.0</td>\n      <td>106.0</td>\n      <td>0.0</td>\n      <td>145.0</td>\n      <td>1307.0</td>\n      <td>1642.0</td>\n      <td>2646</td>\n      <td>39867</td>\n      <td>7090</td>\n      <td>1.0</td>\n      <td>8.0</td>\n      <td>-6.0</td>\n      <td>1.00</td>\n      <td>0.2</td>\n      <td>3.1</td>\n    </tr>\n    <tr>\n      <th>8</th>\n      <td>201008</td>\n      <td>72.0</td>\n      <td>1086.0</td>\n      <td>0.0</td>\n      <td>133.0</td>\n      <td>1197.0</td>\n      <td>2488.0</td>\n      <td>3000</td>\n      <td>29301</td>\n      <td>5632</td>\n      <td>1.0</td>\n      <td>12.0</td>\n      <td>4.0</td>\n      <td>8.14</td>\n      <td>0.0</td>\n      <td>9.4</td>\n    </tr>\n    <tr>\n      <th>9</th>\n      <td>201008</td>\n      <td>72.0</td>\n      <td>1086.0</td>\n      <td>0.0</td>\n      <td>133.0</td>\n      <td>1197.0</td>\n      <td>2488.0</td>\n      <td>3000</td>\n      <td>29301</td>\n      <td>5632</td>\n      <td>1.0</td>\n      <td>12.0</td>\n      <td>4.0</td>\n      <td>8.14</td>\n      <td>0.0</td>\n      <td>9.4</td>\n    </tr>\n    <tr>\n      <th>10</th>\n      <td>201008</td>\n      <td>72.0</td>\n      <td>1086.0</td>\n      <td>0.0</td>\n      <td>133.0</td>\n      <td>1197.0</td>\n      <td>2488.0</td>\n      <td>3000</td>\n      <td>29301</td>\n      <td>5632</td>\n      <td>1.0</td>\n      <td>12.0</td>\n      <td>4.0</td>\n      <td>8.14</td>\n      <td>0.0</td>\n      <td>9.4</td>\n    </tr>\n    <tr>\n      <th>11</th>\n      <td>201008</td>\n      <td>72.0</td>\n      <td>1086.0</td>\n      <td>0.0</td>\n      <td>133.0</td>\n      <td>1197.0</td>\n      <td>2488.0</td>\n      <td>3000</td>\n      <td>29301</td>\n      <td>5632</td>\n      <td>1.0</td>\n      <td>12.0</td>\n      <td>4.0</td>\n      <td>8.14</td>\n      <td>0.0</td>\n      <td>9.4</td>\n    </tr>\n    <tr>\n      <th>12</th>\n      <td>201008</td>\n      <td>72.0</td>\n      <td>1086.0</td>\n      <td>0.0</td>\n      <td>133.0</td>\n      <td>1197.0</td>\n      <td>2488.0</td>\n      <td>3000</td>\n      <td>29301</td>\n      <td>5632</td>\n      <td>1.0</td>\n      <td>12.0</td>\n      <td>4.0</td>\n      <td>8.14</td>\n      <td>0.0</td>\n      <td>9.4</td>\n    </tr>\n    <tr>\n      <th>13</th>\n      <td>201008</td>\n      <td>72.0</td>\n      <td>1086.0</td>\n      <td>0.0</td>\n      <td>133.0</td>\n      <td>1197.0</td>\n      <td>2488.0</td>\n      <td>3000</td>\n      <td>29301</td>\n      <td>5632</td>\n      <td>1.0</td>\n      <td>12.0</td>\n      <td>4.0</td>\n      <td>8.14</td>\n      <td>0.0</td>\n      <td>9.4</td>\n    </tr>\n    <tr>\n      <th>14</th>\n      <td>201008</td>\n      <td>72.0</td>\n      <td>1086.0</td>\n      <td>0.0</td>\n      <td>133.0</td>\n      <td>1197.0</td>\n      <td>2488.0</td>\n      <td>3000</td>\n      <td>29301</td>\n      <td>5632</td>\n      <td>1.0</td>\n      <td>12.0</td>\n      <td>4.0</td>\n      <td>8.14</td>\n      <td>0.0</td>\n      <td>9.4</td>\n    </tr>\n  </tbody>\n</table>\n</div>"
     },
     "metadata": {}
    },
    {
     "output_type": "display_data",
     "data": {
      "text/plain": "      yearweek   ACCI   AUTR  INCN   INCU    SUAP  ope_total inc_grippe  \\\n1193    201744   84.0   58.0   2.0  148.0  1313.0     1605.0        200   \n1194    201744   84.0   58.0   2.0  148.0  1313.0     1605.0        200   \n1195    201744   84.0   58.0   2.0  148.0  1313.0     1605.0        200   \n1196    201744   84.0   58.0   2.0  148.0  1313.0     1605.0        200   \n1197    201744   84.0   58.0   2.0  148.0  1313.0     1605.0        200   \n1198    201744   84.0   58.0   2.0  148.0  1313.0     1605.0        200   \n1199    201744   84.0   58.0   2.0  148.0  1313.0     1605.0        200   \n1200    201745  107.0   72.0   2.0  107.0  1500.0     1788.0       3612   \n1201    201746   96.0   73.0   1.0  104.0  1540.0     1814.0       4854   \n1202    201747  120.0   50.0   2.0  106.0  1622.0     1900.0       3561   \n1203    201748  139.0   48.0   3.0   88.0  1502.0     1780.0       9566   \n1204    201749  110.0   59.0   2.0   92.0  1645.0     1908.0      16952   \n1205    201750  145.0  195.0   0.0   75.0  1737.0     2152.0      39953   \n1206    201751  129.0   56.0   1.0   93.0  1632.0     1911.0      49403   \n1207    201752  118.0   98.0   1.0  140.0  1972.0     2329.0      48723   \n\n     inc_diarrhee inc_varicelle  has_vacation  temperature_max  \\\n1193         5887            96           1.0             16.0   \n1194         5887            96           1.0             16.0   \n1195         5887            96           1.0             16.0   \n1196         5887            96           1.0             16.0   \n1197         5887            96           1.0             16.0   \n1198         5887            96           1.0             16.0   \n1199         5887            96           1.0             16.0   \n1200        11987           160           0.0             13.0   \n1201        15145           684           0.0             10.0   \n1202        15815           894           0.0             15.0   \n1203        17024          1029           0.0              9.0   \n1204        23439           800           0.0             10.0   \n1205        20995          2228           0.0              9.0   \n1206        16218           799           0.0              9.0   \n1207        14938           368           1.0             13.0   \n\n      temperature_min  temperature_average  total_snow_cm  precipitation_mm  \n1193              5.0                10.00            0.0               1.0  \n1194              5.0                10.00            0.0               1.0  \n1195              5.0                10.00            0.0               1.0  \n1196              5.0                10.00            0.0               1.0  \n1197              5.0                10.00            0.0               1.0  \n1198              5.0                10.00            0.0               1.0  \n1199              5.0                10.00            0.0               1.0  \n1200              3.0                 8.00            0.0               5.1  \n1201              3.0                 6.57            0.0               0.3  \n1202              2.0                 8.43            0.0               1.9  \n1203             -1.0                 3.00            0.0               8.5  \n1204              0.0                 4.57            0.1               1.9  \n1205              1.0                 4.86            0.0               6.9  \n1206              2.0                 6.57            0.0               3.6  \n1207              0.0                 6.71            0.0               7.1  ",
      "text/html": "<div>\n<style scoped>\n    .dataframe tbody tr th:only-of-type {\n        vertical-align: middle;\n    }\n\n    .dataframe tbody tr th {\n        vertical-align: top;\n    }\n\n    .dataframe thead th {\n        text-align: right;\n    }\n</style>\n<table border=\"1\" class=\"dataframe\">\n  <thead>\n    <tr style=\"text-align: right;\">\n      <th></th>\n      <th>yearweek</th>\n      <th>ACCI</th>\n      <th>AUTR</th>\n      <th>INCN</th>\n      <th>INCU</th>\n      <th>SUAP</th>\n      <th>ope_total</th>\n      <th>inc_grippe</th>\n      <th>inc_diarrhee</th>\n      <th>inc_varicelle</th>\n      <th>has_vacation</th>\n      <th>temperature_max</th>\n      <th>temperature_min</th>\n      <th>temperature_average</th>\n      <th>total_snow_cm</th>\n      <th>precipitation_mm</th>\n    </tr>\n  </thead>\n  <tbody>\n    <tr>\n      <th>1193</th>\n      <td>201744</td>\n      <td>84.0</td>\n      <td>58.0</td>\n      <td>2.0</td>\n      <td>148.0</td>\n      <td>1313.0</td>\n      <td>1605.0</td>\n      <td>200</td>\n      <td>5887</td>\n      <td>96</td>\n      <td>1.0</td>\n      <td>16.0</td>\n      <td>5.0</td>\n      <td>10.00</td>\n      <td>0.0</td>\n      <td>1.0</td>\n    </tr>\n    <tr>\n      <th>1194</th>\n      <td>201744</td>\n      <td>84.0</td>\n      <td>58.0</td>\n      <td>2.0</td>\n      <td>148.0</td>\n      <td>1313.0</td>\n      <td>1605.0</td>\n      <td>200</td>\n      <td>5887</td>\n      <td>96</td>\n      <td>1.0</td>\n      <td>16.0</td>\n      <td>5.0</td>\n      <td>10.00</td>\n      <td>0.0</td>\n      <td>1.0</td>\n    </tr>\n    <tr>\n      <th>1195</th>\n      <td>201744</td>\n      <td>84.0</td>\n      <td>58.0</td>\n      <td>2.0</td>\n      <td>148.0</td>\n      <td>1313.0</td>\n      <td>1605.0</td>\n      <td>200</td>\n      <td>5887</td>\n      <td>96</td>\n      <td>1.0</td>\n      <td>16.0</td>\n      <td>5.0</td>\n      <td>10.00</td>\n      <td>0.0</td>\n      <td>1.0</td>\n    </tr>\n    <tr>\n      <th>1196</th>\n      <td>201744</td>\n      <td>84.0</td>\n      <td>58.0</td>\n      <td>2.0</td>\n      <td>148.0</td>\n      <td>1313.0</td>\n      <td>1605.0</td>\n      <td>200</td>\n      <td>5887</td>\n      <td>96</td>\n      <td>1.0</td>\n      <td>16.0</td>\n      <td>5.0</td>\n      <td>10.00</td>\n      <td>0.0</td>\n      <td>1.0</td>\n    </tr>\n    <tr>\n      <th>1197</th>\n      <td>201744</td>\n      <td>84.0</td>\n      <td>58.0</td>\n      <td>2.0</td>\n      <td>148.0</td>\n      <td>1313.0</td>\n      <td>1605.0</td>\n      <td>200</td>\n      <td>5887</td>\n      <td>96</td>\n      <td>1.0</td>\n      <td>16.0</td>\n      <td>5.0</td>\n      <td>10.00</td>\n      <td>0.0</td>\n      <td>1.0</td>\n    </tr>\n    <tr>\n      <th>1198</th>\n      <td>201744</td>\n      <td>84.0</td>\n      <td>58.0</td>\n      <td>2.0</td>\n      <td>148.0</td>\n      <td>1313.0</td>\n      <td>1605.0</td>\n      <td>200</td>\n      <td>5887</td>\n      <td>96</td>\n      <td>1.0</td>\n      <td>16.0</td>\n      <td>5.0</td>\n      <td>10.00</td>\n      <td>0.0</td>\n      <td>1.0</td>\n    </tr>\n    <tr>\n      <th>1199</th>\n      <td>201744</td>\n      <td>84.0</td>\n      <td>58.0</td>\n      <td>2.0</td>\n      <td>148.0</td>\n      <td>1313.0</td>\n      <td>1605.0</td>\n      <td>200</td>\n      <td>5887</td>\n      <td>96</td>\n      <td>1.0</td>\n      <td>16.0</td>\n      <td>5.0</td>\n      <td>10.00</td>\n      <td>0.0</td>\n      <td>1.0</td>\n    </tr>\n    <tr>\n      <th>1200</th>\n      <td>201745</td>\n      <td>107.0</td>\n      <td>72.0</td>\n      <td>2.0</td>\n      <td>107.0</td>\n      <td>1500.0</td>\n      <td>1788.0</td>\n      <td>3612</td>\n      <td>11987</td>\n      <td>160</td>\n      <td>0.0</td>\n      <td>13.0</td>\n      <td>3.0</td>\n      <td>8.00</td>\n      <td>0.0</td>\n      <td>5.1</td>\n    </tr>\n    <tr>\n      <th>1201</th>\n      <td>201746</td>\n      <td>96.0</td>\n      <td>73.0</td>\n      <td>1.0</td>\n      <td>104.0</td>\n      <td>1540.0</td>\n      <td>1814.0</td>\n      <td>4854</td>\n      <td>15145</td>\n      <td>684</td>\n      <td>0.0</td>\n      <td>10.0</td>\n      <td>3.0</td>\n      <td>6.57</td>\n      <td>0.0</td>\n      <td>0.3</td>\n    </tr>\n    <tr>\n      <th>1202</th>\n      <td>201747</td>\n      <td>120.0</td>\n      <td>50.0</td>\n      <td>2.0</td>\n      <td>106.0</td>\n      <td>1622.0</td>\n      <td>1900.0</td>\n      <td>3561</td>\n      <td>15815</td>\n      <td>894</td>\n      <td>0.0</td>\n      <td>15.0</td>\n      <td>2.0</td>\n      <td>8.43</td>\n      <td>0.0</td>\n      <td>1.9</td>\n    </tr>\n    <tr>\n      <th>1203</th>\n      <td>201748</td>\n      <td>139.0</td>\n      <td>48.0</td>\n      <td>3.0</td>\n      <td>88.0</td>\n      <td>1502.0</td>\n      <td>1780.0</td>\n      <td>9566</td>\n      <td>17024</td>\n      <td>1029</td>\n      <td>0.0</td>\n      <td>9.0</td>\n      <td>-1.0</td>\n      <td>3.00</td>\n      <td>0.0</td>\n      <td>8.5</td>\n    </tr>\n    <tr>\n      <th>1204</th>\n      <td>201749</td>\n      <td>110.0</td>\n      <td>59.0</td>\n      <td>2.0</td>\n      <td>92.0</td>\n      <td>1645.0</td>\n      <td>1908.0</td>\n      <td>16952</td>\n      <td>23439</td>\n      <td>800</td>\n      <td>0.0</td>\n      <td>10.0</td>\n      <td>0.0</td>\n      <td>4.57</td>\n      <td>0.1</td>\n      <td>1.9</td>\n    </tr>\n    <tr>\n      <th>1205</th>\n      <td>201750</td>\n      <td>145.0</td>\n      <td>195.0</td>\n      <td>0.0</td>\n      <td>75.0</td>\n      <td>1737.0</td>\n      <td>2152.0</td>\n      <td>39953</td>\n      <td>20995</td>\n      <td>2228</td>\n      <td>0.0</td>\n      <td>9.0</td>\n      <td>1.0</td>\n      <td>4.86</td>\n      <td>0.0</td>\n      <td>6.9</td>\n    </tr>\n    <tr>\n      <th>1206</th>\n      <td>201751</td>\n      <td>129.0</td>\n      <td>56.0</td>\n      <td>1.0</td>\n      <td>93.0</td>\n      <td>1632.0</td>\n      <td>1911.0</td>\n      <td>49403</td>\n      <td>16218</td>\n      <td>799</td>\n      <td>0.0</td>\n      <td>9.0</td>\n      <td>2.0</td>\n      <td>6.57</td>\n      <td>0.0</td>\n      <td>3.6</td>\n    </tr>\n    <tr>\n      <th>1207</th>\n      <td>201752</td>\n      <td>118.0</td>\n      <td>98.0</td>\n      <td>1.0</td>\n      <td>140.0</td>\n      <td>1972.0</td>\n      <td>2329.0</td>\n      <td>48723</td>\n      <td>14938</td>\n      <td>368</td>\n      <td>1.0</td>\n      <td>13.0</td>\n      <td>0.0</td>\n      <td>6.71</td>\n      <td>0.0</td>\n      <td>7.1</td>\n    </tr>\n  </tbody>\n</table>\n</div>"
     },
     "metadata": {}
    }
   ],
   "source": [
    "# aggregate everything\n",
    "\n",
    "# sdis91_data\n",
    "\n",
    "# grippe_data\n",
    "# diarrhee_data,\n",
    "# varicelle_data\n",
    "\n",
    "# days_off_data\n",
    "# wwo_data\n",
    "\n",
    "\n",
    "# grippe_data.join(\n",
    "#     diarrhee_data,\n",
    "#     lsuffix='_grippe', rsuffix='_diarrhee',\n",
    "#     left\n",
    "# )\n",
    "\n",
    "diseases_data = grippe_data.merge(\n",
    "    diarrhee_data, on='yearweek', how='outer'\n",
    ").merge(\n",
    "    varicelle_data, on='yearweek', how='outer'\n",
    ")\n",
    "\n",
    "diseases_data.rename(\n",
    "    columns={\n",
    "        'inc_x': 'inc_grippe',\n",
    "        'inc_y': 'inc_diarrhee',\n",
    "        'inc': 'inc_varicelle',\n",
    "    },\n",
    "    inplace=True,\n",
    ")\n",
    "\n",
    "\n",
    "# set same type for every yearweek columns so it can be merged easier\n",
    "sdis91_data['yearweek'] = sdis91_data['yearweek'].astype('int64')\n",
    "diseases_data['yearweek'] = diseases_data['yearweek'].astype('int64')\n",
    "wwo_data['yearweek'] = wwo_data['yearweek'].astype('int64')\n",
    "days_off_data['yearweek'] = days_off_data['yearweek'].astype('int64')\n",
    "\n",
    "# merge all datasets\n",
    "merged_data = sdis91_data.merge(\n",
    "    diseases_data, on='yearweek', how='outer'\n",
    ").merge(\n",
    "    days_off_data, on='yearweek', how='outer'\n",
    ").merge(\n",
    "    wwo_data, on='yearweek', how='outer'\n",
    ")\n",
    "\n",
    "\n",
    "# replace NaN by 0 (\"false\") in has_vacation columns\n",
    "merged_data['has_vacation'].fillna(0, inplace=True)\n",
    "\n",
    "# drop all the columns where any value is NaN\n",
    "merged_data.dropna(axis=0, how='any', inplace=True)\n",
    "\n",
    "display(\n",
    "    merged_data.head(15),\n",
    "    merged_data.tail(15),\n",
    ")"
   ]
  },
  {
   "source": [
    "# -----------\n",
    "# Visualization"
   ],
   "cell_type": "markdown",
   "metadata": {}
  },
  {
   "cell_type": "code",
   "execution_count": 33,
   "metadata": {},
   "outputs": [
    {
     "output_type": "execute_result",
     "data": {
      "text/plain": [
       "<AxesSubplot:xlabel='yearweek'>"
      ]
     },
     "metadata": {},
     "execution_count": 33
    },
    {
     "output_type": "display_data",
     "data": {
      "text/plain": "<Figure size 432x288 with 1 Axes>",
      "image/svg+xml": "<?xml version=\"1.0\" encoding=\"utf-8\" standalone=\"no\"?>\n<!DOCTYPE svg PUBLIC \"-//W3C//DTD SVG 1.1//EN\"\n  \"http://www.w3.org/Graphics/SVG/1.1/DTD/svg11.dtd\">\n<!-- Created with matplotlib (https://matplotlib.org/) -->\n<svg height=\"262.19625pt\" version=\"1.1\" viewBox=\"0 0 375.2875 262.19625\" width=\"375.2875pt\" xmlns=\"http://www.w3.org/2000/svg\" xmlns:xlink=\"http://www.w3.org/1999/xlink\">\n <metadata>\n  <rdf:RDF xmlns:cc=\"http://creativecommons.org/ns#\" xmlns:dc=\"http://purl.org/dc/elements/1.1/\" xmlns:rdf=\"http://www.w3.org/1999/02/22-rdf-syntax-ns#\">\n   <cc:Work>\n    <dc:type rdf:resource=\"http://purl.org/dc/dcmitype/StillImage\"/>\n    <dc:date>2020-12-20T15:47:50.841198</dc:date>\n    <dc:format>image/svg+xml</dc:format>\n    <dc:creator>\n     <cc:Agent>\n      <dc:title>Matplotlib v3.3.3, https://matplotlib.org/</dc:title>\n     </cc:Agent>\n    </dc:creator>\n   </cc:Work>\n  </rdf:RDF>\n </metadata>\n <defs>\n  <style type=\"text/css\">*{stroke-linecap:butt;stroke-linejoin:round;}</style>\n </defs>\n <g id=\"figure_1\">\n  <g id=\"patch_1\">\n   <path d=\"M 0 262.19625 \nL 375.2875 262.19625 \nL 375.2875 0 \nL 0 0 \nz\n\" style=\"fill:none;\"/>\n  </g>\n  <g id=\"axes_1\">\n   <g id=\"patch_2\">\n    <path d=\"M 33.2875 224.64 \nL 368.0875 224.64 \nL 368.0875 7.2 \nL 33.2875 7.2 \nz\n\" style=\"fill:#ffffff;\"/>\n   </g>\n   <g id=\"matplotlib.axis_1\">\n    <g id=\"xtick_1\">\n     <g id=\"line2d_1\">\n      <defs>\n       <path d=\"M 0 0 \nL 0 3.5 \n\" id=\"mf9ddcf7121\" style=\"stroke:#000000;stroke-width:0.8;\"/>\n      </defs>\n      <g>\n       <use style=\"stroke:#000000;stroke-width:0.8;\" x=\"48.100404\" xlink:href=\"#mf9ddcf7121\" y=\"224.64\"/>\n      </g>\n     </g>\n     <g id=\"text_1\">\n      <!-- 201000 -->\n      <g transform=\"translate(29.012904 239.238437)scale(0.1 -0.1)\">\n       <defs>\n        <path d=\"M 19.1875 8.296875 \nL 53.609375 8.296875 \nL 53.609375 0 \nL 7.328125 0 \nL 7.328125 8.296875 \nQ 12.9375 14.109375 22.625 23.890625 \nQ 32.328125 33.6875 34.8125 36.53125 \nQ 39.546875 41.84375 41.421875 45.53125 \nQ 43.3125 49.21875 43.3125 52.78125 \nQ 43.3125 58.59375 39.234375 62.25 \nQ 35.15625 65.921875 28.609375 65.921875 \nQ 23.96875 65.921875 18.8125 64.3125 \nQ 13.671875 62.703125 7.8125 59.421875 \nL 7.8125 69.390625 \nQ 13.765625 71.78125 18.9375 73 \nQ 24.125 74.21875 28.421875 74.21875 \nQ 39.75 74.21875 46.484375 68.546875 \nQ 53.21875 62.890625 53.21875 53.421875 \nQ 53.21875 48.921875 51.53125 44.890625 \nQ 49.859375 40.875 45.40625 35.40625 \nQ 44.1875 33.984375 37.640625 27.21875 \nQ 31.109375 20.453125 19.1875 8.296875 \nz\n\" id=\"DejaVuSans-50\"/>\n        <path d=\"M 31.78125 66.40625 \nQ 24.171875 66.40625 20.328125 58.90625 \nQ 16.5 51.421875 16.5 36.375 \nQ 16.5 21.390625 20.328125 13.890625 \nQ 24.171875 6.390625 31.78125 6.390625 \nQ 39.453125 6.390625 43.28125 13.890625 \nQ 47.125 21.390625 47.125 36.375 \nQ 47.125 51.421875 43.28125 58.90625 \nQ 39.453125 66.40625 31.78125 66.40625 \nz\nM 31.78125 74.21875 \nQ 44.046875 74.21875 50.515625 64.515625 \nQ 56.984375 54.828125 56.984375 36.375 \nQ 56.984375 17.96875 50.515625 8.265625 \nQ 44.046875 -1.421875 31.78125 -1.421875 \nQ 19.53125 -1.421875 13.0625 8.265625 \nQ 6.59375 17.96875 6.59375 36.375 \nQ 6.59375 54.828125 13.0625 64.515625 \nQ 19.53125 74.21875 31.78125 74.21875 \nz\n\" id=\"DejaVuSans-48\"/>\n        <path d=\"M 12.40625 8.296875 \nL 28.515625 8.296875 \nL 28.515625 63.921875 \nL 10.984375 60.40625 \nL 10.984375 69.390625 \nL 28.421875 72.90625 \nL 38.28125 72.90625 \nL 38.28125 8.296875 \nL 54.390625 8.296875 \nL 54.390625 0 \nL 12.40625 0 \nz\n\" id=\"DejaVuSans-49\"/>\n       </defs>\n       <use xlink:href=\"#DejaVuSans-50\"/>\n       <use x=\"63.623047\" xlink:href=\"#DejaVuSans-48\"/>\n       <use x=\"127.246094\" xlink:href=\"#DejaVuSans-49\"/>\n       <use x=\"190.869141\" xlink:href=\"#DejaVuSans-48\"/>\n       <use x=\"254.492188\" xlink:href=\"#DejaVuSans-48\"/>\n       <use x=\"318.115234\" xlink:href=\"#DejaVuSans-48\"/>\n      </g>\n     </g>\n    </g>\n    <g id=\"xtick_2\">\n     <g id=\"line2d_2\">\n      <g>\n       <use style=\"stroke:#000000;stroke-width:0.8;\" x=\"88.628185\" xlink:href=\"#mf9ddcf7121\" y=\"224.64\"/>\n      </g>\n     </g>\n     <g id=\"text_2\">\n      <!-- 201100 -->\n      <g transform=\"translate(69.540685 239.238437)scale(0.1 -0.1)\">\n       <use xlink:href=\"#DejaVuSans-50\"/>\n       <use x=\"63.623047\" xlink:href=\"#DejaVuSans-48\"/>\n       <use x=\"127.246094\" xlink:href=\"#DejaVuSans-49\"/>\n       <use x=\"190.869141\" xlink:href=\"#DejaVuSans-49\"/>\n       <use x=\"254.492188\" xlink:href=\"#DejaVuSans-48\"/>\n       <use x=\"318.115234\" xlink:href=\"#DejaVuSans-48\"/>\n      </g>\n     </g>\n    </g>\n    <g id=\"xtick_3\">\n     <g id=\"line2d_3\">\n      <g>\n       <use style=\"stroke:#000000;stroke-width:0.8;\" x=\"129.155966\" xlink:href=\"#mf9ddcf7121\" y=\"224.64\"/>\n      </g>\n     </g>\n     <g id=\"text_3\">\n      <!-- 201200 -->\n      <g transform=\"translate(110.068466 239.238437)scale(0.1 -0.1)\">\n       <use xlink:href=\"#DejaVuSans-50\"/>\n       <use x=\"63.623047\" xlink:href=\"#DejaVuSans-48\"/>\n       <use x=\"127.246094\" xlink:href=\"#DejaVuSans-49\"/>\n       <use x=\"190.869141\" xlink:href=\"#DejaVuSans-50\"/>\n       <use x=\"254.492188\" xlink:href=\"#DejaVuSans-48\"/>\n       <use x=\"318.115234\" xlink:href=\"#DejaVuSans-48\"/>\n      </g>\n     </g>\n    </g>\n    <g id=\"xtick_4\">\n     <g id=\"line2d_4\">\n      <g>\n       <use style=\"stroke:#000000;stroke-width:0.8;\" x=\"169.683747\" xlink:href=\"#mf9ddcf7121\" y=\"224.64\"/>\n      </g>\n     </g>\n     <g id=\"text_4\">\n      <!-- 201300 -->\n      <g transform=\"translate(150.596247 239.238437)scale(0.1 -0.1)\">\n       <defs>\n        <path d=\"M 40.578125 39.3125 \nQ 47.65625 37.796875 51.625 33 \nQ 55.609375 28.21875 55.609375 21.1875 \nQ 55.609375 10.40625 48.1875 4.484375 \nQ 40.765625 -1.421875 27.09375 -1.421875 \nQ 22.515625 -1.421875 17.65625 -0.515625 \nQ 12.796875 0.390625 7.625 2.203125 \nL 7.625 11.71875 \nQ 11.71875 9.328125 16.59375 8.109375 \nQ 21.484375 6.890625 26.8125 6.890625 \nQ 36.078125 6.890625 40.9375 10.546875 \nQ 45.796875 14.203125 45.796875 21.1875 \nQ 45.796875 27.640625 41.28125 31.265625 \nQ 36.765625 34.90625 28.71875 34.90625 \nL 20.21875 34.90625 \nL 20.21875 43.015625 \nL 29.109375 43.015625 \nQ 36.375 43.015625 40.234375 45.921875 \nQ 44.09375 48.828125 44.09375 54.296875 \nQ 44.09375 59.90625 40.109375 62.90625 \nQ 36.140625 65.921875 28.71875 65.921875 \nQ 24.65625 65.921875 20.015625 65.03125 \nQ 15.375 64.15625 9.8125 62.3125 \nL 9.8125 71.09375 \nQ 15.4375 72.65625 20.34375 73.4375 \nQ 25.25 74.21875 29.59375 74.21875 \nQ 40.828125 74.21875 47.359375 69.109375 \nQ 53.90625 64.015625 53.90625 55.328125 \nQ 53.90625 49.265625 50.4375 45.09375 \nQ 46.96875 40.921875 40.578125 39.3125 \nz\n\" id=\"DejaVuSans-51\"/>\n       </defs>\n       <use xlink:href=\"#DejaVuSans-50\"/>\n       <use x=\"63.623047\" xlink:href=\"#DejaVuSans-48\"/>\n       <use x=\"127.246094\" xlink:href=\"#DejaVuSans-49\"/>\n       <use x=\"190.869141\" xlink:href=\"#DejaVuSans-51\"/>\n       <use x=\"254.492188\" xlink:href=\"#DejaVuSans-48\"/>\n       <use x=\"318.115234\" xlink:href=\"#DejaVuSans-48\"/>\n      </g>\n     </g>\n    </g>\n    <g id=\"xtick_5\">\n     <g id=\"line2d_5\">\n      <g>\n       <use style=\"stroke:#000000;stroke-width:0.8;\" x=\"210.211529\" xlink:href=\"#mf9ddcf7121\" y=\"224.64\"/>\n      </g>\n     </g>\n     <g id=\"text_5\">\n      <!-- 201400 -->\n      <g transform=\"translate(191.124029 239.238437)scale(0.1 -0.1)\">\n       <defs>\n        <path d=\"M 37.796875 64.3125 \nL 12.890625 25.390625 \nL 37.796875 25.390625 \nz\nM 35.203125 72.90625 \nL 47.609375 72.90625 \nL 47.609375 25.390625 \nL 58.015625 25.390625 \nL 58.015625 17.1875 \nL 47.609375 17.1875 \nL 47.609375 0 \nL 37.796875 0 \nL 37.796875 17.1875 \nL 4.890625 17.1875 \nL 4.890625 26.703125 \nz\n\" id=\"DejaVuSans-52\"/>\n       </defs>\n       <use xlink:href=\"#DejaVuSans-50\"/>\n       <use x=\"63.623047\" xlink:href=\"#DejaVuSans-48\"/>\n       <use x=\"127.246094\" xlink:href=\"#DejaVuSans-49\"/>\n       <use x=\"190.869141\" xlink:href=\"#DejaVuSans-52\"/>\n       <use x=\"254.492188\" xlink:href=\"#DejaVuSans-48\"/>\n       <use x=\"318.115234\" xlink:href=\"#DejaVuSans-48\"/>\n      </g>\n     </g>\n    </g>\n    <g id=\"xtick_6\">\n     <g id=\"line2d_6\">\n      <g>\n       <use style=\"stroke:#000000;stroke-width:0.8;\" x=\"250.73931\" xlink:href=\"#mf9ddcf7121\" y=\"224.64\"/>\n      </g>\n     </g>\n     <g id=\"text_6\">\n      <!-- 201500 -->\n      <g transform=\"translate(231.65181 239.238437)scale(0.1 -0.1)\">\n       <defs>\n        <path d=\"M 10.796875 72.90625 \nL 49.515625 72.90625 \nL 49.515625 64.59375 \nL 19.828125 64.59375 \nL 19.828125 46.734375 \nQ 21.96875 47.46875 24.109375 47.828125 \nQ 26.265625 48.1875 28.421875 48.1875 \nQ 40.625 48.1875 47.75 41.5 \nQ 54.890625 34.8125 54.890625 23.390625 \nQ 54.890625 11.625 47.5625 5.09375 \nQ 40.234375 -1.421875 26.90625 -1.421875 \nQ 22.3125 -1.421875 17.546875 -0.640625 \nQ 12.796875 0.140625 7.71875 1.703125 \nL 7.71875 11.625 \nQ 12.109375 9.234375 16.796875 8.0625 \nQ 21.484375 6.890625 26.703125 6.890625 \nQ 35.15625 6.890625 40.078125 11.328125 \nQ 45.015625 15.765625 45.015625 23.390625 \nQ 45.015625 31 40.078125 35.4375 \nQ 35.15625 39.890625 26.703125 39.890625 \nQ 22.75 39.890625 18.8125 39.015625 \nQ 14.890625 38.140625 10.796875 36.28125 \nz\n\" id=\"DejaVuSans-53\"/>\n       </defs>\n       <use xlink:href=\"#DejaVuSans-50\"/>\n       <use x=\"63.623047\" xlink:href=\"#DejaVuSans-48\"/>\n       <use x=\"127.246094\" xlink:href=\"#DejaVuSans-49\"/>\n       <use x=\"190.869141\" xlink:href=\"#DejaVuSans-53\"/>\n       <use x=\"254.492188\" xlink:href=\"#DejaVuSans-48\"/>\n       <use x=\"318.115234\" xlink:href=\"#DejaVuSans-48\"/>\n      </g>\n     </g>\n    </g>\n    <g id=\"xtick_7\">\n     <g id=\"line2d_7\">\n      <g>\n       <use style=\"stroke:#000000;stroke-width:0.8;\" x=\"291.267091\" xlink:href=\"#mf9ddcf7121\" y=\"224.64\"/>\n      </g>\n     </g>\n     <g id=\"text_7\">\n      <!-- 201600 -->\n      <g transform=\"translate(272.179591 239.238437)scale(0.1 -0.1)\">\n       <defs>\n        <path d=\"M 33.015625 40.375 \nQ 26.375 40.375 22.484375 35.828125 \nQ 18.609375 31.296875 18.609375 23.390625 \nQ 18.609375 15.53125 22.484375 10.953125 \nQ 26.375 6.390625 33.015625 6.390625 \nQ 39.65625 6.390625 43.53125 10.953125 \nQ 47.40625 15.53125 47.40625 23.390625 \nQ 47.40625 31.296875 43.53125 35.828125 \nQ 39.65625 40.375 33.015625 40.375 \nz\nM 52.59375 71.296875 \nL 52.59375 62.3125 \nQ 48.875 64.0625 45.09375 64.984375 \nQ 41.3125 65.921875 37.59375 65.921875 \nQ 27.828125 65.921875 22.671875 59.328125 \nQ 17.53125 52.734375 16.796875 39.40625 \nQ 19.671875 43.65625 24.015625 45.921875 \nQ 28.375 48.1875 33.59375 48.1875 \nQ 44.578125 48.1875 50.953125 41.515625 \nQ 57.328125 34.859375 57.328125 23.390625 \nQ 57.328125 12.15625 50.6875 5.359375 \nQ 44.046875 -1.421875 33.015625 -1.421875 \nQ 20.359375 -1.421875 13.671875 8.265625 \nQ 6.984375 17.96875 6.984375 36.375 \nQ 6.984375 53.65625 15.1875 63.9375 \nQ 23.390625 74.21875 37.203125 74.21875 \nQ 40.921875 74.21875 44.703125 73.484375 \nQ 48.484375 72.75 52.59375 71.296875 \nz\n\" id=\"DejaVuSans-54\"/>\n       </defs>\n       <use xlink:href=\"#DejaVuSans-50\"/>\n       <use x=\"63.623047\" xlink:href=\"#DejaVuSans-48\"/>\n       <use x=\"127.246094\" xlink:href=\"#DejaVuSans-49\"/>\n       <use x=\"190.869141\" xlink:href=\"#DejaVuSans-54\"/>\n       <use x=\"254.492188\" xlink:href=\"#DejaVuSans-48\"/>\n       <use x=\"318.115234\" xlink:href=\"#DejaVuSans-48\"/>\n      </g>\n     </g>\n    </g>\n    <g id=\"xtick_8\">\n     <g id=\"line2d_8\">\n      <g>\n       <use style=\"stroke:#000000;stroke-width:0.8;\" x=\"331.794872\" xlink:href=\"#mf9ddcf7121\" y=\"224.64\"/>\n      </g>\n     </g>\n     <g id=\"text_8\">\n      <!-- 201700 -->\n      <g transform=\"translate(312.707372 239.238437)scale(0.1 -0.1)\">\n       <defs>\n        <path d=\"M 8.203125 72.90625 \nL 55.078125 72.90625 \nL 55.078125 68.703125 \nL 28.609375 0 \nL 18.3125 0 \nL 43.21875 64.59375 \nL 8.203125 64.59375 \nz\n\" id=\"DejaVuSans-55\"/>\n       </defs>\n       <use xlink:href=\"#DejaVuSans-50\"/>\n       <use x=\"63.623047\" xlink:href=\"#DejaVuSans-48\"/>\n       <use x=\"127.246094\" xlink:href=\"#DejaVuSans-49\"/>\n       <use x=\"190.869141\" xlink:href=\"#DejaVuSans-55\"/>\n       <use x=\"254.492188\" xlink:href=\"#DejaVuSans-48\"/>\n       <use x=\"318.115234\" xlink:href=\"#DejaVuSans-48\"/>\n      </g>\n     </g>\n    </g>\n    <g id=\"text_9\">\n     <!-- yearweek -->\n     <g transform=\"translate(176.394531 252.916562)scale(0.1 -0.1)\">\n      <defs>\n       <path d=\"M 32.171875 -5.078125 \nQ 28.375 -14.84375 24.75 -17.8125 \nQ 21.140625 -20.796875 15.09375 -20.796875 \nL 7.90625 -20.796875 \nL 7.90625 -13.28125 \nL 13.1875 -13.28125 \nQ 16.890625 -13.28125 18.9375 -11.515625 \nQ 21 -9.765625 23.484375 -3.21875 \nL 25.09375 0.875 \nL 2.984375 54.6875 \nL 12.5 54.6875 \nL 29.59375 11.921875 \nL 46.6875 54.6875 \nL 56.203125 54.6875 \nz\n\" id=\"DejaVuSans-121\"/>\n       <path d=\"M 56.203125 29.59375 \nL 56.203125 25.203125 \nL 14.890625 25.203125 \nQ 15.484375 15.921875 20.484375 11.0625 \nQ 25.484375 6.203125 34.421875 6.203125 \nQ 39.59375 6.203125 44.453125 7.46875 \nQ 49.3125 8.734375 54.109375 11.28125 \nL 54.109375 2.78125 \nQ 49.265625 0.734375 44.1875 -0.34375 \nQ 39.109375 -1.421875 33.890625 -1.421875 \nQ 20.796875 -1.421875 13.15625 6.1875 \nQ 5.515625 13.8125 5.515625 26.8125 \nQ 5.515625 40.234375 12.765625 48.109375 \nQ 20.015625 56 32.328125 56 \nQ 43.359375 56 49.78125 48.890625 \nQ 56.203125 41.796875 56.203125 29.59375 \nz\nM 47.21875 32.234375 \nQ 47.125 39.59375 43.09375 43.984375 \nQ 39.0625 48.390625 32.421875 48.390625 \nQ 24.90625 48.390625 20.390625 44.140625 \nQ 15.875 39.890625 15.1875 32.171875 \nz\n\" id=\"DejaVuSans-101\"/>\n       <path d=\"M 34.28125 27.484375 \nQ 23.390625 27.484375 19.1875 25 \nQ 14.984375 22.515625 14.984375 16.5 \nQ 14.984375 11.71875 18.140625 8.90625 \nQ 21.296875 6.109375 26.703125 6.109375 \nQ 34.1875 6.109375 38.703125 11.40625 \nQ 43.21875 16.703125 43.21875 25.484375 \nL 43.21875 27.484375 \nz\nM 52.203125 31.203125 \nL 52.203125 0 \nL 43.21875 0 \nL 43.21875 8.296875 \nQ 40.140625 3.328125 35.546875 0.953125 \nQ 30.953125 -1.421875 24.3125 -1.421875 \nQ 15.921875 -1.421875 10.953125 3.296875 \nQ 6 8.015625 6 15.921875 \nQ 6 25.140625 12.171875 29.828125 \nQ 18.359375 34.515625 30.609375 34.515625 \nL 43.21875 34.515625 \nL 43.21875 35.40625 \nQ 43.21875 41.609375 39.140625 45 \nQ 35.0625 48.390625 27.6875 48.390625 \nQ 23 48.390625 18.546875 47.265625 \nQ 14.109375 46.140625 10.015625 43.890625 \nL 10.015625 52.203125 \nQ 14.9375 54.109375 19.578125 55.046875 \nQ 24.21875 56 28.609375 56 \nQ 40.484375 56 46.34375 49.84375 \nQ 52.203125 43.703125 52.203125 31.203125 \nz\n\" id=\"DejaVuSans-97\"/>\n       <path d=\"M 41.109375 46.296875 \nQ 39.59375 47.171875 37.8125 47.578125 \nQ 36.03125 48 33.890625 48 \nQ 26.265625 48 22.1875 43.046875 \nQ 18.109375 38.09375 18.109375 28.8125 \nL 18.109375 0 \nL 9.078125 0 \nL 9.078125 54.6875 \nL 18.109375 54.6875 \nL 18.109375 46.1875 \nQ 20.953125 51.171875 25.484375 53.578125 \nQ 30.03125 56 36.53125 56 \nQ 37.453125 56 38.578125 55.875 \nQ 39.703125 55.765625 41.0625 55.515625 \nz\n\" id=\"DejaVuSans-114\"/>\n       <path d=\"M 4.203125 54.6875 \nL 13.1875 54.6875 \nL 24.421875 12.015625 \nL 35.59375 54.6875 \nL 46.1875 54.6875 \nL 57.421875 12.015625 \nL 68.609375 54.6875 \nL 77.59375 54.6875 \nL 63.28125 0 \nL 52.6875 0 \nL 40.921875 44.828125 \nL 29.109375 0 \nL 18.5 0 \nz\n\" id=\"DejaVuSans-119\"/>\n       <path d=\"M 9.078125 75.984375 \nL 18.109375 75.984375 \nL 18.109375 31.109375 \nL 44.921875 54.6875 \nL 56.390625 54.6875 \nL 27.390625 29.109375 \nL 57.625 0 \nL 45.90625 0 \nL 18.109375 26.703125 \nL 18.109375 0 \nL 9.078125 0 \nz\n\" id=\"DejaVuSans-107\"/>\n      </defs>\n      <use xlink:href=\"#DejaVuSans-121\"/>\n      <use x=\"59.179688\" xlink:href=\"#DejaVuSans-101\"/>\n      <use x=\"120.703125\" xlink:href=\"#DejaVuSans-97\"/>\n      <use x=\"181.982422\" xlink:href=\"#DejaVuSans-114\"/>\n      <use x=\"223.095703\" xlink:href=\"#DejaVuSans-119\"/>\n      <use x=\"304.882812\" xlink:href=\"#DejaVuSans-101\"/>\n      <use x=\"366.40625\" xlink:href=\"#DejaVuSans-101\"/>\n      <use x=\"427.929688\" xlink:href=\"#DejaVuSans-107\"/>\n     </g>\n    </g>\n   </g>\n   <g id=\"matplotlib.axis_2\">\n    <g id=\"ytick_1\">\n     <g id=\"line2d_9\">\n      <defs>\n       <path d=\"M 0 0 \nL -3.5 0 \n\" id=\"m84123d4b8e\" style=\"stroke:#000000;stroke-width:0.8;\"/>\n      </defs>\n      <g>\n       <use style=\"stroke:#000000;stroke-width:0.8;\" x=\"33.2875\" xlink:href=\"#m84123d4b8e\" y=\"212.891527\"/>\n      </g>\n     </g>\n     <g id=\"text_10\">\n      <!-- 40 -->\n      <g transform=\"translate(13.5625 216.690745)scale(0.1 -0.1)\">\n       <use xlink:href=\"#DejaVuSans-52\"/>\n       <use x=\"63.623047\" xlink:href=\"#DejaVuSans-48\"/>\n      </g>\n     </g>\n    </g>\n    <g id=\"ytick_2\">\n     <g id=\"line2d_10\">\n      <g>\n       <use style=\"stroke:#000000;stroke-width:0.8;\" x=\"33.2875\" xlink:href=\"#m84123d4b8e\" y=\"175.594786\"/>\n      </g>\n     </g>\n     <g id=\"text_11\">\n      <!-- 60 -->\n      <g transform=\"translate(13.5625 179.394004)scale(0.1 -0.1)\">\n       <use xlink:href=\"#DejaVuSans-54\"/>\n       <use x=\"63.623047\" xlink:href=\"#DejaVuSans-48\"/>\n      </g>\n     </g>\n    </g>\n    <g id=\"ytick_3\">\n     <g id=\"line2d_11\">\n      <g>\n       <use style=\"stroke:#000000;stroke-width:0.8;\" x=\"33.2875\" xlink:href=\"#m84123d4b8e\" y=\"138.298045\"/>\n      </g>\n     </g>\n     <g id=\"text_12\">\n      <!-- 80 -->\n      <g transform=\"translate(13.5625 142.097263)scale(0.1 -0.1)\">\n       <defs>\n        <path d=\"M 31.78125 34.625 \nQ 24.75 34.625 20.71875 30.859375 \nQ 16.703125 27.09375 16.703125 20.515625 \nQ 16.703125 13.921875 20.71875 10.15625 \nQ 24.75 6.390625 31.78125 6.390625 \nQ 38.8125 6.390625 42.859375 10.171875 \nQ 46.921875 13.96875 46.921875 20.515625 \nQ 46.921875 27.09375 42.890625 30.859375 \nQ 38.875 34.625 31.78125 34.625 \nz\nM 21.921875 38.8125 \nQ 15.578125 40.375 12.03125 44.71875 \nQ 8.5 49.078125 8.5 55.328125 \nQ 8.5 64.0625 14.71875 69.140625 \nQ 20.953125 74.21875 31.78125 74.21875 \nQ 42.671875 74.21875 48.875 69.140625 \nQ 55.078125 64.0625 55.078125 55.328125 \nQ 55.078125 49.078125 51.53125 44.71875 \nQ 48 40.375 41.703125 38.8125 \nQ 48.828125 37.15625 52.796875 32.3125 \nQ 56.78125 27.484375 56.78125 20.515625 \nQ 56.78125 9.90625 50.3125 4.234375 \nQ 43.84375 -1.421875 31.78125 -1.421875 \nQ 19.734375 -1.421875 13.25 4.234375 \nQ 6.78125 9.90625 6.78125 20.515625 \nQ 6.78125 27.484375 10.78125 32.3125 \nQ 14.796875 37.15625 21.921875 38.8125 \nz\nM 18.3125 54.390625 \nQ 18.3125 48.734375 21.84375 45.5625 \nQ 25.390625 42.390625 31.78125 42.390625 \nQ 38.140625 42.390625 41.71875 45.5625 \nQ 45.3125 48.734375 45.3125 54.390625 \nQ 45.3125 60.0625 41.71875 63.234375 \nQ 38.140625 66.40625 31.78125 66.40625 \nQ 25.390625 66.40625 21.84375 63.234375 \nQ 18.3125 60.0625 18.3125 54.390625 \nz\n\" id=\"DejaVuSans-56\"/>\n       </defs>\n       <use xlink:href=\"#DejaVuSans-56\"/>\n       <use x=\"63.623047\" xlink:href=\"#DejaVuSans-48\"/>\n      </g>\n     </g>\n    </g>\n    <g id=\"ytick_4\">\n     <g id=\"line2d_12\">\n      <g>\n       <use style=\"stroke:#000000;stroke-width:0.8;\" x=\"33.2875\" xlink:href=\"#m84123d4b8e\" y=\"101.001304\"/>\n      </g>\n     </g>\n     <g id=\"text_13\">\n      <!-- 100 -->\n      <g transform=\"translate(7.2 104.800522)scale(0.1 -0.1)\">\n       <use xlink:href=\"#DejaVuSans-49\"/>\n       <use x=\"63.623047\" xlink:href=\"#DejaVuSans-48\"/>\n       <use x=\"127.246094\" xlink:href=\"#DejaVuSans-48\"/>\n      </g>\n     </g>\n    </g>\n    <g id=\"ytick_5\">\n     <g id=\"line2d_13\">\n      <g>\n       <use style=\"stroke:#000000;stroke-width:0.8;\" x=\"33.2875\" xlink:href=\"#m84123d4b8e\" y=\"63.704563\"/>\n      </g>\n     </g>\n     <g id=\"text_14\">\n      <!-- 120 -->\n      <g transform=\"translate(7.2 67.503781)scale(0.1 -0.1)\">\n       <use xlink:href=\"#DejaVuSans-49\"/>\n       <use x=\"63.623047\" xlink:href=\"#DejaVuSans-50\"/>\n       <use x=\"127.246094\" xlink:href=\"#DejaVuSans-48\"/>\n      </g>\n     </g>\n    </g>\n    <g id=\"ytick_6\">\n     <g id=\"line2d_14\">\n      <g>\n       <use style=\"stroke:#000000;stroke-width:0.8;\" x=\"33.2875\" xlink:href=\"#m84123d4b8e\" y=\"26.407822\"/>\n      </g>\n     </g>\n     <g id=\"text_15\">\n      <!-- 140 -->\n      <g transform=\"translate(7.2 30.20704)scale(0.1 -0.1)\">\n       <use xlink:href=\"#DejaVuSans-49\"/>\n       <use x=\"63.623047\" xlink:href=\"#DejaVuSans-52\"/>\n       <use x=\"127.246094\" xlink:href=\"#DejaVuSans-48\"/>\n      </g>\n     </g>\n    </g>\n   </g>\n   <g id=\"line2d_15\">\n    <path clip-path=\"url(#p908b2fd922)\" d=\"M 48.505682 136.433208 \nL 48.91096 130.838696 \nL 49.316237 149.487067 \nL 49.721515 142.027719 \nL 50.126793 130.838696 \nL 50.532071 95.406792 \nL 50.937349 130.838696 \nL 50.937349 130.838696 \nL 51.342626 153.216741 \nL 51.342626 153.216741 \nL 51.747904 149.487067 \nL 51.747904 149.487067 \nL 52.153182 179.32446 \nL 52.55846 127.109022 \nL 52.963738 140.162882 \nL 53.369016 149.487067 \nL 53.774293 104.730978 \nL 54.179571 151.351904 \nL 54.179571 151.351904 \nL 54.584849 143.892556 \nL 54.584849 143.892556 \nL 54.990127 127.109022 \nL 54.990127 127.109022 \nL 55.800682 160.676089 \nL 56.20596 108.460652 \nL 56.611238 104.730978 \nL 57.016516 59.974889 \nL 57.421794 63.704563 \nL 57.827071 128.973859 \nL 58.232349 156.946415 \nL 58.637627 123.379348 \nL 58.637627 123.379348 \nL 59.042905 101.001304 \nL 59.042905 101.001304 \nL 59.853461 162.540926 \nL 59.853461 162.540926 \nL 60.258738 155.081578 \nL 60.258738 155.081578 \nL 60.664016 162.540926 \nL 60.664016 162.540926 \nL 61.87985 132.703533 \nL 61.87985 132.703533 \nL 62.690405 82.352933 \nL 63.095683 106.595815 \nL 63.500961 80.488096 \nL 63.906239 63.704563 \nL 64.311516 110.325489 \nL 64.716794 84.21777 \nL 65.122072 82.352933 \nL 65.122072 82.352933 \nL 65.52735 138.298045 \nL 65.52735 138.298045 \nL 65.932628 71.163911 \nL 65.932628 71.163911 \nL 66.337906 39.461681 \nL 66.743183 114.055163 \nL 67.148461 138.298045 \nL 67.553739 140.162882 \nL 67.959017 86.082607 \nL 68.364295 132.703533 \nL 68.364295 132.703533 \nL 68.769572 162.540926 \nL 68.769572 162.540926 \nL 69.17485 201.702504 \nL 69.17485 201.702504 \nL 89.033463 110.325489 \nL 89.438741 106.595815 \nL 90.249296 151.351904 \nL 90.654574 63.704563 \nL 91.059852 168.135437 \nL 91.059852 168.135437 \nL 91.46513 166.2706 \nL 91.46513 166.2706 \nL 91.870408 173.729949 \nL 91.870408 173.729949 \nL 92.275685 138.298045 \nL 92.680963 134.56837 \nL 93.086241 162.540926 \nL 93.491519 123.379348 \nL 93.896797 132.703533 \nL 94.302075 86.082607 \nL 94.302075 86.082607 \nL 94.707352 136.433208 \nL 94.707352 136.433208 \nL 95.11263 89.812281 \nL 95.11263 89.812281 \nL 95.517908 119.649674 \nL 95.923186 114.055163 \nL 96.328464 112.190326 \nL 96.733741 132.703533 \nL 97.139019 93.541955 \nL 97.544297 99.136467 \nL 97.949575 123.379348 \nL 98.354853 99.136467 \nL 98.76013 97.27163 \nL 99.165408 101.001304 \nL 99.165408 101.001304 \nL 99.570686 121.514511 \nL 99.570686 121.514511 \nL 99.975964 132.703533 \nL 99.975964 132.703533 \nL 100.381242 121.514511 \nL 100.381242 121.514511 \nL 100.786519 188.648645 \nL 100.786519 188.648645 \nL 101.191797 162.540926 \nL 101.191797 162.540926 \nL 101.597075 177.459623 \nL 101.597075 177.459623 \nL 102.002353 199.837667 \nL 102.002353 199.837667 \nL 102.407631 156.946415 \nL 102.407631 156.946415 \nL 102.812909 99.136467 \nL 102.812909 99.136467 \nL 103.218186 102.866141 \nL 103.623464 114.055163 \nL 104.028742 87.947444 \nL 104.43402 80.488096 \nL 104.839298 59.974889 \nL 105.244575 65.5694 \nL 106.055131 123.379348 \nL 106.055131 123.379348 \nL 106.460409 104.730978 \nL 106.460409 104.730978 \nL 106.865687 143.892556 \nL 107.270964 104.730978 \nL 107.676242 134.56837 \nL 108.08152 67.434237 \nL 108.486798 119.649674 \nL 108.892076 26.407822 \nL 108.892076 26.407822 \nL 109.297354 106.595815 \nL 109.297354 106.595815 \nL 109.702631 95.406792 \nL 109.702631 95.406792 \nL 129.561244 132.703533 \nL 129.561244 132.703533 \nL 129.966522 181.189297 \nL 130.3718 142.027719 \nL 130.777078 87.947444 \nL 131.182355 155.081578 \nL 131.587633 119.649674 \nL 131.992911 132.703533 \nL 131.992911 132.703533 \nL 132.398189 192.378319 \nL 132.398189 192.378319 \nL 132.803467 162.540926 \nL 132.803467 162.540926 \nL 133.208744 117.784837 \nL 134.0193 149.487067 \nL 134.424578 99.136467 \nL 134.829856 140.162882 \nL 135.235133 127.109022 \nL 135.235133 127.109022 \nL 135.640411 164.405763 \nL 135.640411 164.405763 \nL 136.045689 142.027719 \nL 136.045689 142.027719 \nL 136.856245 123.379348 \nL 137.261523 138.298045 \nL 137.6668 102.866141 \nL 138.072078 99.136467 \nL 138.477356 123.379348 \nL 138.882634 78.623259 \nL 139.287912 91.677118 \nL 139.693189 93.541955 \nL 140.098467 71.163911 \nL 140.098467 71.163911 \nL 140.503745 91.677118 \nL 140.503745 91.677118 \nL 140.909023 125.244185 \nL 140.909023 125.244185 \nL 141.314301 125.244185 \nL 141.314301 125.244185 \nL 142.530134 192.378319 \nL 142.530134 192.378319 \nL 143.34069 128.973859 \nL 143.34069 128.973859 \nL 143.745967 112.190326 \nL 144.151245 115.92 \nL 144.556523 99.136467 \nL 144.961801 54.380377 \nL 145.367079 97.27163 \nL 145.772357 82.352933 \nL 146.177634 52.51554 \nL 146.582912 145.757393 \nL 146.582912 145.757393 \nL 146.98819 117.784837 \nL 146.98819 117.784837 \nL 147.393468 147.62223 \nL 147.393468 147.62223 \nL 147.798746 125.244185 \nL 148.204023 119.649674 \nL 148.609301 89.812281 \nL 149.014579 101.001304 \nL 149.419857 147.62223 \nL 149.825135 89.812281 \nL 149.825135 89.812281 \nL 150.230412 142.027719 \nL 150.230412 142.027719 \nL 170.089025 114.055163 \nL 170.089025 114.055163 \nL 170.494303 128.973859 \nL 170.899581 125.244185 \nL 171.304859 184.918971 \nL 171.710136 112.190326 \nL 172.115414 132.703533 \nL 172.520692 127.109022 \nL 172.92597 153.216741 \nL 173.331248 160.676089 \nL 173.331248 160.676089 \nL 173.736526 142.027719 \nL 173.736526 142.027719 \nL 174.141803 108.460652 \nL 174.141803 108.460652 \nL 174.547081 197.97283 \nL 175.357637 162.540926 \nL 175.762915 147.62223 \nL 176.168192 156.946415 \nL 176.57347 140.162882 \nL 176.57347 140.162882 \nL 176.978748 142.027719 \nL 176.978748 142.027719 \nL 177.384026 162.540926 \nL 177.384026 162.540926 \nL 177.789304 130.838696 \nL 178.194581 110.325489 \nL 178.599859 136.433208 \nL 179.005137 117.784837 \nL 179.815693 156.946415 \nL 180.220971 134.56837 \nL 180.626248 125.244185 \nL 180.626248 125.244185 \nL 181.031526 102.866141 \nL 181.031526 102.866141 \nL 181.436804 108.460652 \nL 181.436804 108.460652 \nL 181.842082 125.244185 \nL 181.842082 125.244185 \nL 182.24736 188.648645 \nL 182.24736 188.648645 \nL 182.652637 186.783808 \nL 182.652637 186.783808 \nL 183.057915 199.837667 \nL 183.057915 199.837667 \nL 183.868471 130.838696 \nL 183.868471 130.838696 \nL 184.273749 102.866141 \nL 184.679026 58.110051 \nL 185.084304 158.811252 \nL 185.489582 91.677118 \nL 185.89486 128.973859 \nL 186.705416 74.893585 \nL 186.705416 74.893585 \nL 187.110693 125.244185 \nL 187.110693 125.244185 \nL 187.515971 138.298045 \nL 187.515971 138.298045 \nL 187.921249 84.21777 \nL 188.326527 127.109022 \nL 188.731805 130.838696 \nL 189.137082 132.703533 \nL 189.54236 115.92 \nL 189.947638 33.86717 \nL 190.352916 121.514511 \nL 190.352916 121.514511 \nL 190.758194 134.56837 \nL 190.758194 134.56837 \nL 210.616806 140.162882 \nL 210.616806 140.162882 \nL 211.022084 117.784837 \nL 211.427362 127.109022 \nL 211.83264 142.027719 \nL 212.237918 136.433208 \nL 212.643195 121.514511 \nL 213.048473 89.812281 \nL 213.048473 89.812281 \nL 213.453751 145.757393 \nL 213.453751 145.757393 \nL 213.859029 142.027719 \nL 213.859029 142.027719 \nL 214.264307 86.082607 \nL 214.669584 121.514511 \nL 215.074862 140.162882 \nL 215.48014 127.109022 \nL 216.290696 138.298045 \nL 216.290696 138.298045 \nL 216.695974 160.676089 \nL 216.695974 160.676089 \nL 217.101251 123.379348 \nL 217.101251 123.379348 \nL 217.506529 132.703533 \nL 217.911807 132.703533 \nL 218.317085 123.379348 \nL 218.722363 106.595815 \nL 219.12764 162.540926 \nL 219.532918 84.21777 \nL 219.938196 95.406792 \nL 220.343474 121.514511 \nL 220.748752 41.326518 \nL 221.154029 136.433208 \nL 221.154029 136.433208 \nL 221.559307 140.162882 \nL 221.559307 140.162882 \nL 221.964585 164.405763 \nL 221.964585 164.405763 \nL 222.369863 160.676089 \nL 222.369863 160.676089 \nL 222.775141 142.027719 \nL 222.775141 142.027719 \nL 223.180419 147.62223 \nL 223.180419 147.62223 \nL 223.585696 203.567341 \nL 223.585696 203.567341 \nL 223.990974 190.513482 \nL 223.990974 190.513482 \nL 224.396252 147.62223 \nL 224.396252 147.62223 \nL 224.80153 149.487067 \nL 225.206808 73.028748 \nL 225.612085 119.649674 \nL 226.017363 136.433208 \nL 226.422641 101.001304 \nL 226.827919 76.758422 \nL 227.233197 67.434237 \nL 227.233197 67.434237 \nL 227.638474 153.216741 \nL 227.638474 153.216741 \nL 228.043752 130.838696 \nL 228.043752 130.838696 \nL 228.44903 117.784837 \nL 228.854308 76.758422 \nL 229.664864 145.757393 \nL 230.070141 138.298045 \nL 230.475419 20.81331 \nL 230.880697 82.352933 \nL 230.880697 82.352933 \nL 231.285975 173.729949 \nL 231.285975 173.729949 \nL 251.549865 102.866141 \nL 251.955143 140.162882 \nL 252.360421 147.62223 \nL 252.765699 78.623259 \nL 253.170977 147.62223 \nL 253.576254 112.190326 \nL 253.576254 112.190326 \nL 253.981532 125.244185 \nL 253.981532 125.244185 \nL 254.38681 119.649674 \nL 254.38681 119.649674 \nL 254.792088 125.244185 \nL 255.197366 164.405763 \nL 255.602643 164.405763 \nL 256.413199 101.001304 \nL 256.818477 99.136467 \nL 257.629033 134.56837 \nL 257.629033 134.56837 \nL 258.03431 45.056192 \nL 258.03431 45.056192 \nL 258.439588 155.081578 \nL 258.844866 136.433208 \nL 259.250144 127.109022 \nL 259.655422 110.325489 \nL 260.060699 76.758422 \nL 260.465977 80.488096 \nL 260.871255 123.379348 \nL 261.276533 82.352933 \nL 262.087088 115.92 \nL 262.087088 115.92 \nL 262.492366 119.649674 \nL 262.492366 119.649674 \nL 262.897644 119.649674 \nL 262.897644 119.649674 \nL 263.302922 183.054134 \nL 263.302922 183.054134 \nL 264.113477 179.32446 \nL 264.113477 179.32446 \nL 264.518755 192.378319 \nL 264.518755 192.378319 \nL 264.924033 99.136467 \nL 264.924033 99.136467 \nL 265.329311 119.649674 \nL 265.734589 104.730978 \nL 266.139867 102.866141 \nL 266.545144 95.406792 \nL 266.950422 78.623259 \nL 267.3557 84.21777 \nL 268.166256 181.189297 \nL 268.166256 181.189297 \nL 268.571533 110.325489 \nL 268.571533 110.325489 \nL 268.976811 87.947444 \nL 269.382089 170.000274 \nL 269.787367 71.163911 \nL 270.192645 86.082607 \nL 270.597922 158.811252 \nL 271.0032 127.109022 \nL 271.813756 82.352933 \nL 271.813756 82.352933 \nL 291.672369 86.082607 \nL 292.077646 99.136467 \nL 292.482924 130.838696 \nL 292.888202 65.5694 \nL 293.29348 119.649674 \nL 293.698758 74.893585 \nL 294.509313 170.000274 \nL 294.509313 170.000274 \nL 294.914591 130.838696 \nL 294.914591 130.838696 \nL 295.319869 115.92 \nL 295.725147 168.135437 \nL 296.130425 142.027719 \nL 296.535702 89.812281 \nL 297.751536 162.540926 \nL 297.751536 162.540926 \nL 298.156814 140.162882 \nL 298.156814 140.162882 \nL 298.562091 132.703533 \nL 298.967369 108.460652 \nL 299.372647 108.460652 \nL 299.777925 121.514511 \nL 300.183203 69.299074 \nL 300.588481 65.5694 \nL 301.399036 104.730978 \nL 301.804314 119.649674 \nL 302.209592 97.27163 \nL 302.209592 97.27163 \nL 302.61487 136.433208 \nL 302.61487 136.433208 \nL 303.020147 142.027719 \nL 303.020147 142.027719 \nL 303.425425 121.514511 \nL 303.425425 121.514511 \nL 303.830703 186.783808 \nL 303.830703 186.783808 \nL 304.235981 214.756364 \nL 304.235981 214.756364 \nL 305.451814 106.595815 \nL 305.451814 106.595815 \nL 305.857092 97.27163 \nL 306.26237 106.595815 \nL 306.667648 63.704563 \nL 307.072925 93.541955 \nL 307.478203 114.055163 \nL 307.883481 106.595815 \nL 308.288759 123.379348 \nL 308.288759 123.379348 \nL 308.694037 114.055163 \nL 308.694037 114.055163 \nL 309.099315 86.082607 \nL 309.099315 86.082607 \nL 309.504592 82.352933 \nL 309.90987 58.110051 \nL 310.315148 110.325489 \nL 310.720426 104.730978 \nL 311.125704 54.380377 \nL 311.530981 67.434237 \nL 311.530981 67.434237 \nL 311.936259 149.487067 \nL 311.936259 149.487067 \nL 312.341537 140.162882 \nL 312.341537 140.162882 \nL 332.20015 138.298045 \nL 332.605428 108.460652 \nL 333.010705 166.2706 \nL 333.415983 106.595815 \nL 333.821261 136.433208 \nL 333.821261 136.433208 \nL 334.226539 179.32446 \nL 334.226539 179.32446 \nL 334.631817 149.487067 \nL 334.631817 149.487067 \nL 335.037094 155.081578 \nL 335.84765 138.298045 \nL 336.252928 162.540926 \nL 336.658206 128.973859 \nL 337.063484 142.027719 \nL 337.063484 142.027719 \nL 337.468761 108.460652 \nL 337.468761 108.460652 \nL 337.874039 147.62223 \nL 337.874039 147.62223 \nL 338.279317 121.514511 \nL 338.684595 86.082607 \nL 339.089873 125.244185 \nL 339.49515 123.379348 \nL 340.710984 67.434237 \nL 341.116262 80.488096 \nL 341.521539 67.434237 \nL 341.926817 69.299074 \nL 342.332095 59.974889 \nL 342.737373 89.812281 \nL 342.737373 89.812281 \nL 343.547929 125.244185 \nL 343.547929 125.244185 \nL 343.953206 160.676089 \nL 343.953206 160.676089 \nL 344.358484 145.757393 \nL 344.358484 145.757393 \nL 344.763762 151.351904 \nL 344.763762 151.351904 \nL 345.16904 166.2706 \nL 345.16904 166.2706 \nL 345.979595 119.649674 \nL 345.979595 119.649674 \nL 346.384873 134.56837 \nL 346.790151 71.163911 \nL 347.600707 108.460652 \nL 348.005984 91.677118 \nL 348.411262 104.730978 \nL 348.81654 104.730978 \nL 348.81654 104.730978 \nL 349.221818 115.92 \nL 349.221818 115.92 \nL 349.627096 130.838696 \nL 349.627096 130.838696 \nL 350.032374 87.947444 \nL 350.437651 108.460652 \nL 351.248207 28.272659 \nL 351.653485 82.352933 \nL 352.058763 17.083636 \nL 352.46404 46.921029 \nL 352.869318 67.434237 \nL 352.869318 67.434237 \n\" style=\"fill:none;stroke:#1f77b4;stroke-linecap:square;stroke-width:1.5;\"/>\n   </g>\n   <g id=\"patch_3\">\n    <path d=\"M 33.2875 224.64 \nL 33.2875 7.2 \n\" style=\"fill:none;stroke:#000000;stroke-linecap:square;stroke-linejoin:miter;stroke-width:0.8;\"/>\n   </g>\n   <g id=\"patch_4\">\n    <path d=\"M 368.0875 224.64 \nL 368.0875 7.2 \n\" style=\"fill:none;stroke:#000000;stroke-linecap:square;stroke-linejoin:miter;stroke-width:0.8;\"/>\n   </g>\n   <g id=\"patch_5\">\n    <path d=\"M 33.2875 224.64 \nL 368.0875 224.64 \n\" style=\"fill:none;stroke:#000000;stroke-linecap:square;stroke-linejoin:miter;stroke-width:0.8;\"/>\n   </g>\n   <g id=\"patch_6\">\n    <path d=\"M 33.2875 7.2 \nL 368.0875 7.2 \n\" style=\"fill:none;stroke:#000000;stroke-linecap:square;stroke-linejoin:miter;stroke-width:0.8;\"/>\n   </g>\n  </g>\n </g>\n <defs>\n  <clipPath id=\"p908b2fd922\">\n   <rect height=\"217.44\" width=\"334.8\" x=\"33.2875\" y=\"7.2\"/>\n  </clipPath>\n </defs>\n</svg>\n",
      "image/png": "[encoded data removed]"
     },
     "metadata": {
      "needs_background": "light"
     }
    }
   ],
   "source": [
    "merged_data.set_index(['yearweek'], inplace=True)\n",
    "merged_data.ACCI.plot()"
   ]
  },
  {
   "source": [
    "## Random Forest Regressor on SUAP"
   ],
   "cell_type": "markdown",
   "metadata": {}
  },
  {
   "cell_type": "code",
   "execution_count": 36,
   "metadata": {},
   "outputs": [
    {
     "output_type": "execute_result",
     "data": {
      "text/plain": [
       "array([1082.38, 1385.6 , 1334.38, 1322.16, 1204.  , 1178.92, 1317.  ,\n",
       "       1030.  , 1210.83, 1152.88, 1077.  , 1202.  , 1383.  , 1016.91,\n",
       "       1203.  , 1145.  , 1231.  , 1428.82, 1197.  , 1260.35, 1353.45,\n",
       "       1214.  , 1499.  , 1405.55, 1318.  , 1202.  , 1468.79, 1020.73,\n",
       "       1197.  , 1308.  , 1188.  , 1016.91, 1260.35, 1274.62, 1233.56,\n",
       "       1177.53, 1310.  , 1112.  , 1368.84, 1102.82, 1048.  , 1209.29,\n",
       "       1237.85, 1363.65, 1184.  , 1307.19, 1353.07, 1133.  , 1243.  ,\n",
       "       1093.9 , 1109.  , 1494.  , 1271.4 ,  955.59, 1209.29, 1443.84,\n",
       "       1349.53, 1242.11, 1439.96, 1397.28, 1489.  , 1242.43, 1204.  ,\n",
       "       1423.18, 1208.46, 1083.  , 1177.53, 1337.92, 1028.  , 1190.24,\n",
       "       1125.5 , 1076.67, 1128.  , 1127.02, 1233.56, 1308.05, 1125.5 ,\n",
       "       1497.28, 1499.  , 1402.22, 1360.84, 1339.32, 1188.  , 1093.9 ,\n",
       "       1177.53, 1260.35, 1290.86, 1397.31, 1271.4 , 1390.48, 1411.  ,\n",
       "       1365.62, 1331.68, 1039.77, 1027.  , 1359.58, 1318.  , 1171.75,\n",
       "       1171.75, 1027.  , 1190.24, 1039.77, 1121.47, 1181.62, 1356.5 ,\n",
       "       1331.68, 1269.  , 1348.  , 1317.91, 1340.74, 1341.26, 1458.8 ,\n",
       "       1396.62, 1045.  , 1451.07, 1278.86, 1370.57, 1407.42, 1363.65,\n",
       "       1082.38,  923.  , 1187.22, 1271.4 , 1145.  , 1358.72, 1208.46,\n",
       "       1246.  , 1059.  , 1378.19, 1405.94, 1422.7 , 1360.84, 1348.  ,\n",
       "       1308.05, 1387.54, 1171.75, 1396.03, 1243.  , 1020.73, 1269.66,\n",
       "       1343.71, 1178.92, 1007.  , 1494.  , 1360.84, 1331.  , 1391.22,\n",
       "       1279.48, 1494.  , 1187.22, 1177.53, 1218.14, 1417.86, 1385.55,\n",
       "       1203.  , 1290.28, 1455.47, 1256.  , 1241.68, 1339.  , 1290.28,\n",
       "        961.  , 1085.34, 1059.  ,  925.11, 1418.55, 1271.4 , 1331.  ,\n",
       "       1210.83, 1423.41, 1127.02, 1093.9 , 1363.65, 1192.18, 1406.42,\n",
       "       1435.16, 1028.  , 1316.54, 1331.68, 1152.88, 1076.  , 1121.47,\n",
       "       1432.  , 1297.  , 1467.45, 1494.  , 1242.43, 1269.66, 1269.  ,\n",
       "       1331.68, 1375.  , 1236.  , 1356.5 , 1408.77, 1386.41, 1242.11,\n",
       "       1187.22, 1125.5 , 1451.07, 1393.49,  955.59, 1394.26, 1336.  ,\n",
       "       1472.32, 1090.  , 1185.6 , 1438.71, 1152.88, 1381.23, 1218.14,\n",
       "       1121.47, 1246.  , 1152.31, 1363.31, 1260.35,  925.11, 1279.48,\n",
       "       1357.35, 1171.  , 1375.  , 1053.98, 1209.29, 1313.  , 1192.18,\n",
       "       1316.54, 1222.23, 1256.  , 1408.08, 1467.  , 1171.  , 1152.88,\n",
       "       1417.49, 1516.13, 1418.41, 1370.44, 1053.98,  988.  , 1034.98,\n",
       "       1393.54, 1373.86, 1497.22, 1431.  , 1407.96, 1489.  , 1178.92,\n",
       "       1034.59, 1317.91,  994.  , 1307.11, 1190.24, 1109.  , 1241.68,\n",
       "       1403.53, 1127.02, 1336.  , 1090.  , 1344.65, 1242.11, 1369.16,\n",
       "       1410.72, 1241.68, 1185.6 , 1279.48, 1083.  , 1297.  ,  988.  ,\n",
       "       1102.82, 1095.  , 1212.  , 1410.25, 1210.83, 1076.67, 1185.6 ,\n",
       "       1374.56, 1007.  , 1402.22, 1394.85, 1133.  , 1284.78, 1431.  ,\n",
       "       1338.03, 1352.68, 1439.83, 1034.59, 1279.48, 1209.29, 1231.  ,\n",
       "       1337.68, 1372.43, 1397.61, 1284.02, 1327.  , 1076.67, 1048.  ,\n",
       "       1202.  , 1308.05, 1045.  , 1387.39, 1053.98, 1184.  , 1039.77])"
      ]
     },
     "metadata": {},
     "execution_count": 36
    }
   ],
   "source": [
    "model_random_forest = StandardScaler()\n",
    "\n",
    "# All columns except yearweek and all interventions numbers\n",
    "features_suap_random_forest = merged_data.columns[7:]\n",
    "to_predict_suap_random_forest = 'SUAP'\n",
    "\n",
    "X_suap_random_forest = merged_data[features_suap_random_forest]\n",
    "y_suap_random_forest = merged_data[to_predict_suap_random_forest]\n",
    "\n",
    "X_train_suap_random_forest, X_test_suap_random_forest, y_train_suap_random_forest, y_test_suap_random_forest = train_test_split(X_suap_random_forest, y_suap_random_forest, test_size=0.25)\n",
    "\n",
    "X_train_suap_random_forest = model_random_forest.fit_transform(X_train_suap_random_forest)\n",
    "X_test_suap_random_forest = model_random_forest.transform(X_test_suap_random_forest)\n",
    "\n",
    "suap_random_forest_model = RandomForestRegressor(random_state=1)\n",
    "suap_random_forest_model.fit(X_train_suap_random_forest, y_train_suap_random_forest)\n",
    "y_predicted_suap_random_forest = suap_random_forest_model.predict(X_test_suap_random_forest)\n",
    "\n",
    "mean_absolute_error(y_test_suap_random_forest, y_predicted_suap_random_forest)"
   ]
  },
  {
   "cell_type": "code",
   "execution_count": null,
   "metadata": {},
   "outputs": [],
   "source": [
    "    "
   ]
  }
 ],
 "metadata": {
  "kernelspec": {
   "name": "python3",
   "display_name": "Python 3",
   "language": "python"
  },
  "language_info": {
   "codemirror_mode": {
    "name": "ipython",
    "version": 2
   },
   "file_extension": ".py",
   "mimetype": "text/x-python",
   "name": "python",
   "nbconvert_exporter": "python",
   "pygments_lexer": "ipython2",
   "version": "3.8.5-final"
  }
 },
 "nbformat": 4,
 "nbformat_minor": 0
}